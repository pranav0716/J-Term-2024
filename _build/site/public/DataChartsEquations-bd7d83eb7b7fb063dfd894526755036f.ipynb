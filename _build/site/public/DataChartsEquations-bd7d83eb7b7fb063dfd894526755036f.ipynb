{
 "cells": [
  {
   "cell_type": "code",
   "execution_count": 6,
   "id": "7aa9d9a3-4c83-455e-aa33-1f747cf9b104",
   "metadata": {
    "editable": true,
    "slideshow": {
     "slide_type": ""
    },
    "tags": []
   },
   "outputs": [],
   "source": [
    "import pandas as pd\n",
    "import matplotlib.pyplot as plt\n",
    "import scipy as sp\n",
    "import numpy as np\n",
    "import plotly.express as px\n",
    "import plotly.graph_objects as go\n",
    "from plotly.subplots import make_subplots\n",
    "import plotly.graph_objects as go\n",
    "import ipywidgets as widgets\n",
    "from IPython.display import display"
   ]
  },
  {
   "cell_type": "code",
   "execution_count": 7,
   "id": "4db06bec-b041-4aee-9443-cf04bc51a287",
   "metadata": {},
   "outputs": [
    {
     "data": {
      "text/html": [
       "<div>\n",
       "<style scoped>\n",
       "    .dataframe tbody tr th:only-of-type {\n",
       "        vertical-align: middle;\n",
       "    }\n",
       "\n",
       "    .dataframe tbody tr th {\n",
       "        vertical-align: top;\n",
       "    }\n",
       "\n",
       "    .dataframe thead th {\n",
       "        text-align: right;\n",
       "    }\n",
       "</style>\n",
       "<table border=\"1\" class=\"dataframe\">\n",
       "  <thead>\n",
       "    <tr style=\"text-align: right;\">\n",
       "      <th></th>\n",
       "      <th>Unnamed: 0</th>\n",
       "      <th>Name</th>\n",
       "      <th>location_lat</th>\n",
       "      <th>location_lng</th>\n",
       "      <th>Date</th>\n",
       "      <th>Year</th>\n",
       "      <th>Price as number</th>\n",
       "      <th>Price</th>\n",
       "      <th>Style</th>\n",
       "    </tr>\n",
       "  </thead>\n",
       "  <tbody>\n",
       "    <tr>\n",
       "      <th>0</th>\n",
       "      <td>NaN</td>\n",
       "      <td>Tommy's Pizzeria</td>\n",
       "      <td>40.819562</td>\n",
       "      <td>-73.817209</td>\n",
       "      <td>2023-1205</td>\n",
       "      <td>2023</td>\n",
       "      <td>3.00</td>\n",
       "      <td>$3.00</td>\n",
       "      <td>Plain</td>\n",
       "    </tr>\n",
       "    <tr>\n",
       "      <th>1</th>\n",
       "      <td>NaN</td>\n",
       "      <td>99¢ Pizza</td>\n",
       "      <td>40.751655</td>\n",
       "      <td>-73.990435</td>\n",
       "      <td>2023-1129</td>\n",
       "      <td>2023</td>\n",
       "      <td>1.00</td>\n",
       "      <td>$1.00</td>\n",
       "      <td>Plain</td>\n",
       "    </tr>\n",
       "    <tr>\n",
       "      <th>2</th>\n",
       "      <td>NaN</td>\n",
       "      <td>Family Pizza</td>\n",
       "      <td>40.655857</td>\n",
       "      <td>-73.960172</td>\n",
       "      <td>2023-1028</td>\n",
       "      <td>2023</td>\n",
       "      <td>3.00</td>\n",
       "      <td>$3.00</td>\n",
       "      <td>Plain</td>\n",
       "    </tr>\n",
       "    <tr>\n",
       "      <th>3</th>\n",
       "      <td>NaN</td>\n",
       "      <td>Elegante Pizzeria</td>\n",
       "      <td>40.777182</td>\n",
       "      <td>-73.963597</td>\n",
       "      <td>2023-1021</td>\n",
       "      <td>2023</td>\n",
       "      <td>3.25</td>\n",
       "      <td>$3.25</td>\n",
       "      <td>Plain</td>\n",
       "    </tr>\n",
       "    <tr>\n",
       "      <th>4</th>\n",
       "      <td>NaN</td>\n",
       "      <td>Joe's Pizza</td>\n",
       "      <td>40.716897</td>\n",
       "      <td>-73.958958</td>\n",
       "      <td>2023-1018</td>\n",
       "      <td>2023</td>\n",
       "      <td>4.00</td>\n",
       "      <td>$4.00</td>\n",
       "      <td>Plain</td>\n",
       "    </tr>\n",
       "  </tbody>\n",
       "</table>\n",
       "</div>"
      ],
      "text/plain": [
       "   Unnamed: 0               Name  location_lat  location_lng       Date  Year  \\\n",
       "0         NaN   Tommy's Pizzeria     40.819562    -73.817209  2023-1205  2023   \n",
       "1         NaN          99¢ Pizza     40.751655    -73.990435  2023-1129  2023   \n",
       "2         NaN       Family Pizza     40.655857    -73.960172  2023-1028  2023   \n",
       "3         NaN  Elegante Pizzeria     40.777182    -73.963597  2023-1021  2023   \n",
       "4         NaN        Joe's Pizza     40.716897    -73.958958  2023-1018  2023   \n",
       "\n",
       "   Price as number  Price  Style  \n",
       "0             3.00  $3.00  Plain  \n",
       "1             1.00  $1.00  Plain  \n",
       "2             3.00  $3.00  Plain  \n",
       "3             3.25  $3.25  Plain  \n",
       "4             4.00  $4.00  Plain  "
      ]
     },
     "execution_count": 7,
     "metadata": {},
     "output_type": "execute_result"
    }
   ],
   "source": [
    "#| label: example_table\n",
    "# Replace 'Nyc' with the path to your CSV file\n",
    "csv_path = 'NycSliceRawData.csv'\n",
    "\n",
    "# Read data from CSV file using pandas\n",
    "nyp = pd.read_csv(csv_path)\n",
    "\n",
    "# Display the first few rows of the dataframe to ensure it was loaded correctly\n",
    "nyp.head()\n"
   ]
  },
  {
   "cell_type": "code",
   "execution_count": 8,
   "id": "49cb9617-cd0d-4dfb-aa86-35cfffcab6e4",
   "metadata": {},
   "outputs": [
    {
     "data": {
      "application/vnd.plotly.v1+json": {
       "config": {
        "plotlyServerURL": "https://plot.ly"
       },
       "data": [
        {
         "hovertemplate": "<b>%{hovertext}</b><br><br>Year=2014<br>Price as number=%{marker.color}<br>location_lat=%{lat}<br>location_lng=%{lon}<extra></extra>",
         "hovertext": [
          "Carmine and Sons",
          "Ginas Pizzeria",
          "Norberts Pizza",
          "Francos Pizza",
          "Vinny vincenz Pizza",
          "$1.00 Pizza",
          "Smiling Pizza",
          "Danny's Pizza II",
          "Iggy's Pizzeria",
          "Gotham Pizza NYC",
          "Nina's Restaurant & Pizzeria",
          "99c Fresh Pizza",
          "Milly's Pizza",
          "Little Gio's Pizza",
          "Two Boots Pizza",
          "Two Grandpa's Pizza",
          "Samaria Pizzeria",
          "Crispy Pizza",
          "Fdr 99 Cent Slice Pizza",
          "Neighborhood Pizza",
          "Norberts Pizza",
          "Pranzo",
          "IL Porto: Brick Oven Pizza and Ristorante",
          "La Traviata Pizzeria",
          "Little Italy Pizza III",
          "Williamsburg Pizza LES",
          "Mariella Pizza",
          "Pizza Pasta Restaurant",
          "Tom's Delicious Pizza",
          "Makkah Pizza",
          "Best Pizza of 1st Avenue",
          "99 Cents Famous Pizza",
          "Mike's Pizza",
          "Bergen Pizza",
          "Douma",
          "Brooklyn Harvest Market",
          "Williamsburg Pizza LES",
          "Lower East Side Pizza",
          "Bosco Pizza",
          "Norberts Pizza",
          "Liberty Pizza",
          "Angelica Pizzeria & Restaurant",
          "Domenico's Pizza & Pasta, Amboy Road",
          "Luigi Pizzeria",
          "Dee's & L Pizza Plus",
          "L&B Spumoni Gardens",
          "Roccos Pizza Joint",
          "Cafe Au Lee",
          "Ani Pizza Palace",
          "Cozzi Pizza",
          "Pronto Pizza",
          "La Rondine",
          "Williamsburg Pizza",
          "Coffee break",
          "Sunnyside Pizza",
          "Di Fara Pizza",
          "New Park Pizza",
          "Muzzarella Pizza",
          "Domenick's Pizza ",
          "Goodfellas Pizzeria & Italian Restaurant",
          "South Shore Pizza",
          "Margherita Pizza Inc",
          "Ray's Bagel Café & Pizza",
          "Champion Pizza",
          "East Side Brick Oven Pizza",
          "Pisa Pizzeria",
          "Two Boots to Go-Go",
          "Triangolo Pizzeria",
          "Luigi's Pizza",
          "Royal Pizza Myrtle Ave",
          "Ganni's Pizza",
          "Rocco Pizza",
          "Roebling Pizza",
          "Pizza Mercato Waverly",
          "Prince St. Pizza",
          "Village Pizza",
          "69 pizzeria",
          "Fdr 99 Cent Slice Pizza",
          "Alphonso's Pizzeria & Trattoria - Pizza Shack",
          "Mimi's Pizza",
          "Luna Pizza",
          "Joe's Pizza",
          "Carmine's Original Pizza",
          "2 Bros. Pizza",
          "Cassiano's Pizza",
          "Best Pizza",
          "Tony's Pizza",
          "Bleecker Street Pizza",
          "Chai Pizza Sushi Cafe",
          "Alphonso's Pizzeria & Trattoria - Pizza Shack",
          "Frank's Pizza",
          "Bona Pizza"
         ],
         "lat": [
          40.7149322,
          40.65103,
          40.69661,
          40.67279,
          40.73113,
          40.6803986,
          40.6668856,
          40.70769661,
          40.72925,
          40.76302,
          40.72236,
          40.75814,
          40.69911,
          40.72374,
          40.7237135,
          40.84780692,
          40.76566391,
          40.64457051,
          40.72299,
          40.66023,
          40.69661,
          40.70331,
          40.6974427,
          40.77505,
          40.734771,
          40.71822,
          40.73507,
          40.7042832,
          40.8148961,
          40.81876,
          40.75796,
          40.73061,
          40.6958,
          40.680524,
          40.72254,
          40.70677704,
          40.71822,
          40.713945,
          40.692845,
          40.69661,
          40.69334,
          40.68789,
          40.5256981,
          40.68965,
          40.67385512,
          40.59467782,
          40.7422899,
          40.70224,
          40.76631,
          40.70377,
          40.64055,
          40.7132665,
          40.707952,
          40.69473,
          40.7440727,
          40.62508413,
          40.663039,
          40.73021,
          40.7051442,
          40.88705436,
          40.622787,
          40.70453082,
          40.72929,
          40.71962375,
          40.7671973,
          40.70139127,
          40.72642453,
          40.73364,
          40.66163,
          40.6997372,
          40.69428,
          40.69211,
          40.70859,
          40.730121,
          40.723,
          40.73925,
          40.737014,
          40.72299,
          40.714338,
          40.7786199,
          40.71350162,
          40.7306597,
          40.72555137,
          40.75654884,
          40.7594817,
          40.71561,
          40.71505399999999,
          40.73226681,
          40.6977,
          40.714338,
          40.61772,
          40.64097667
         ],
         "legendgroup": "",
         "lon": [
          -73.9441794,
          -74.00396,
          -73.93491,
          -73.95037,
          -73.98296,
          -73.9495349,
          -73.9813704,
          -73.94348317,
          -73.98434,
          -73.98536,
          -73.94128,
          -73.99234,
          -73.93932,
          -73.9879,
          -73.98498719999999,
          -73.90714388,
          -73.93079401,
          -74.09838494,
          -73.98549,
          -73.8306099,
          -73.93491,
          -74.01069,
          -73.9675197,
          -73.98088,
          -73.992288,
          -73.99123,
          -73.98612,
          -73.9429234,
          -73.9593332,
          -73.9378,
          -73.96295,
          -73.98123,
          -73.94656,
          -73.974394,
          -73.99239,
          -73.95036416,
          -73.99123,
          -73.989104,
          -73.94033,
          -73.93491,
          -73.96604,
          -73.9815799,
          -74.2019284,
          -73.96544,
          -73.79105453,
          -73.98143284,
          -73.99739,
          -73.95586,
          -73.90881,
          -73.94749,
          -74.11611,
          -73.8290606,
          -73.950806,
          -73.9559,
          -73.9240104,
          -73.96155206,
          -73.840549,
          -73.98069,
          -73.80970669999999,
          -73.90423987,
          -73.7435809,
          -73.79679273,
          -73.98965,
          -73.98755917,
          -73.9624705,
          -73.88815017,
          -73.99558888,
          -73.95499,
          -73.99334,
          -73.9082459,
          -73.95783,
          -73.94583,
          -73.96116,
          -73.994108,
          -73.99458,
          -74.00312,
          -73.89564,
          -73.98549,
          -73.981708,
          -73.9529045,
          -73.99854598,
          -74.0021707,
          -73.95147023,
          -73.98080221,
          -73.9682781,
          -73.95352,
          -73.9446961,
          -74.00341905,
          -73.9599099,
          -73.981708,
          -73.93174,
          -73.95627033
         ],
         "marker": {
          "color": [
           2.75,
           2.5,
           2,
           2.25,
           1,
           1,
           2.5,
           2.45,
           2.5,
           2.75,
           2.25,
           1,
           2.25,
           2.25,
           2.85,
           2,
           2.25,
           2,
           1,
           2.75,
           2,
           2.5,
           2.75,
           2.71,
           2.75,
           2.75,
           3,
           1,
           2.5,
           2.25,
           2.5,
           1,
           2,
           2.5,
           2.5,
           2,
           2.75,
           2,
           2.25,
           2,
           2.5,
           2,
           2.5,
           2.5,
           2,
           2.5,
           2.75,
           2.75,
           2.5,
           2,
           2.5,
           2.25,
           2.75,
           2.75,
           2.5,
           5,
           2.75,
           2.5,
           2,
           3,
           3,
           3,
           2.75,
           1,
           2.75,
           2.5,
           2.85,
           2.5,
           2.25,
           2.5,
           2.25,
           2.25,
           2.5,
           2.25,
           2.95,
           2.5,
           2.25,
           1,
           2.25,
           3,
           2.75,
           2.75,
           2.25,
           1.09,
           3.05,
           3.25,
           2.75,
           2.75,
           2.75,
           2.25,
           2.55,
           2
          ],
          "coloraxis": "coloraxis",
          "size": [
           2.75,
           2.5,
           2,
           2.25,
           1,
           1,
           2.5,
           2.45,
           2.5,
           2.75,
           2.25,
           1,
           2.25,
           2.25,
           2.85,
           2,
           2.25,
           2,
           1,
           2.75,
           2,
           2.5,
           2.75,
           2.71,
           2.75,
           2.75,
           3,
           1,
           2.5,
           2.25,
           2.5,
           1,
           2,
           2.5,
           2.5,
           2,
           2.75,
           2,
           2.25,
           2,
           2.5,
           2,
           2.5,
           2.5,
           2,
           2.5,
           2.75,
           2.75,
           2.5,
           2,
           2.5,
           2.25,
           2.75,
           2.75,
           2.5,
           5,
           2.75,
           2.5,
           2,
           3,
           3,
           3,
           2.75,
           1,
           2.75,
           2.5,
           2.85,
           2.5,
           2.25,
           2.5,
           2.25,
           2.25,
           2.5,
           2.25,
           2.95,
           2.5,
           2.25,
           1,
           2.25,
           3,
           2.75,
           2.75,
           2.25,
           1.09,
           3.05,
           3.25,
           2.75,
           2.75,
           2.75,
           2.25,
           2.55,
           2
          ],
          "sizemode": "area",
          "sizeref": 0.0125
         },
         "mode": "markers",
         "name": "",
         "showlegend": false,
         "subplot": "mapbox",
         "type": "scattermapbox"
        }
       ],
       "frames": [
        {
         "data": [
          {
           "hovertemplate": "<b>%{hovertext}</b><br><br>Year=2014<br>Price as number=%{marker.color}<br>location_lat=%{lat}<br>location_lng=%{lon}<extra></extra>",
           "hovertext": [
            "Carmine and Sons",
            "Ginas Pizzeria",
            "Norberts Pizza",
            "Francos Pizza",
            "Vinny vincenz Pizza",
            "$1.00 Pizza",
            "Smiling Pizza",
            "Danny's Pizza II",
            "Iggy's Pizzeria",
            "Gotham Pizza NYC",
            "Nina's Restaurant & Pizzeria",
            "99c Fresh Pizza",
            "Milly's Pizza",
            "Little Gio's Pizza",
            "Two Boots Pizza",
            "Two Grandpa's Pizza",
            "Samaria Pizzeria",
            "Crispy Pizza",
            "Fdr 99 Cent Slice Pizza",
            "Neighborhood Pizza",
            "Norberts Pizza",
            "Pranzo",
            "IL Porto: Brick Oven Pizza and Ristorante",
            "La Traviata Pizzeria",
            "Little Italy Pizza III",
            "Williamsburg Pizza LES",
            "Mariella Pizza",
            "Pizza Pasta Restaurant",
            "Tom's Delicious Pizza",
            "Makkah Pizza",
            "Best Pizza of 1st Avenue",
            "99 Cents Famous Pizza",
            "Mike's Pizza",
            "Bergen Pizza",
            "Douma",
            "Brooklyn Harvest Market",
            "Williamsburg Pizza LES",
            "Lower East Side Pizza",
            "Bosco Pizza",
            "Norberts Pizza",
            "Liberty Pizza",
            "Angelica Pizzeria & Restaurant",
            "Domenico's Pizza & Pasta, Amboy Road",
            "Luigi Pizzeria",
            "Dee's & L Pizza Plus",
            "L&B Spumoni Gardens",
            "Roccos Pizza Joint",
            "Cafe Au Lee",
            "Ani Pizza Palace",
            "Cozzi Pizza",
            "Pronto Pizza",
            "La Rondine",
            "Williamsburg Pizza",
            "Coffee break",
            "Sunnyside Pizza",
            "Di Fara Pizza",
            "New Park Pizza",
            "Muzzarella Pizza",
            "Domenick's Pizza ",
            "Goodfellas Pizzeria & Italian Restaurant",
            "South Shore Pizza",
            "Margherita Pizza Inc",
            "Ray's Bagel Café & Pizza",
            "Champion Pizza",
            "East Side Brick Oven Pizza",
            "Pisa Pizzeria",
            "Two Boots to Go-Go",
            "Triangolo Pizzeria",
            "Luigi's Pizza",
            "Royal Pizza Myrtle Ave",
            "Ganni's Pizza",
            "Rocco Pizza",
            "Roebling Pizza",
            "Pizza Mercato Waverly",
            "Prince St. Pizza",
            "Village Pizza",
            "69 pizzeria",
            "Fdr 99 Cent Slice Pizza",
            "Alphonso's Pizzeria & Trattoria - Pizza Shack",
            "Mimi's Pizza",
            "Luna Pizza",
            "Joe's Pizza",
            "Carmine's Original Pizza",
            "2 Bros. Pizza",
            "Cassiano's Pizza",
            "Best Pizza",
            "Tony's Pizza",
            "Bleecker Street Pizza",
            "Chai Pizza Sushi Cafe",
            "Alphonso's Pizzeria & Trattoria - Pizza Shack",
            "Frank's Pizza",
            "Bona Pizza"
           ],
           "lat": [
            40.7149322,
            40.65103,
            40.69661,
            40.67279,
            40.73113,
            40.6803986,
            40.6668856,
            40.70769661,
            40.72925,
            40.76302,
            40.72236,
            40.75814,
            40.69911,
            40.72374,
            40.7237135,
            40.84780692,
            40.76566391,
            40.64457051,
            40.72299,
            40.66023,
            40.69661,
            40.70331,
            40.6974427,
            40.77505,
            40.734771,
            40.71822,
            40.73507,
            40.7042832,
            40.8148961,
            40.81876,
            40.75796,
            40.73061,
            40.6958,
            40.680524,
            40.72254,
            40.70677704,
            40.71822,
            40.713945,
            40.692845,
            40.69661,
            40.69334,
            40.68789,
            40.5256981,
            40.68965,
            40.67385512,
            40.59467782,
            40.7422899,
            40.70224,
            40.76631,
            40.70377,
            40.64055,
            40.7132665,
            40.707952,
            40.69473,
            40.7440727,
            40.62508413,
            40.663039,
            40.73021,
            40.7051442,
            40.88705436,
            40.622787,
            40.70453082,
            40.72929,
            40.71962375,
            40.7671973,
            40.70139127,
            40.72642453,
            40.73364,
            40.66163,
            40.6997372,
            40.69428,
            40.69211,
            40.70859,
            40.730121,
            40.723,
            40.73925,
            40.737014,
            40.72299,
            40.714338,
            40.7786199,
            40.71350162,
            40.7306597,
            40.72555137,
            40.75654884,
            40.7594817,
            40.71561,
            40.71505399999999,
            40.73226681,
            40.6977,
            40.714338,
            40.61772,
            40.64097667
           ],
           "legendgroup": "",
           "lon": [
            -73.9441794,
            -74.00396,
            -73.93491,
            -73.95037,
            -73.98296,
            -73.9495349,
            -73.9813704,
            -73.94348317,
            -73.98434,
            -73.98536,
            -73.94128,
            -73.99234,
            -73.93932,
            -73.9879,
            -73.98498719999999,
            -73.90714388,
            -73.93079401,
            -74.09838494,
            -73.98549,
            -73.8306099,
            -73.93491,
            -74.01069,
            -73.9675197,
            -73.98088,
            -73.992288,
            -73.99123,
            -73.98612,
            -73.9429234,
            -73.9593332,
            -73.9378,
            -73.96295,
            -73.98123,
            -73.94656,
            -73.974394,
            -73.99239,
            -73.95036416,
            -73.99123,
            -73.989104,
            -73.94033,
            -73.93491,
            -73.96604,
            -73.9815799,
            -74.2019284,
            -73.96544,
            -73.79105453,
            -73.98143284,
            -73.99739,
            -73.95586,
            -73.90881,
            -73.94749,
            -74.11611,
            -73.8290606,
            -73.950806,
            -73.9559,
            -73.9240104,
            -73.96155206,
            -73.840549,
            -73.98069,
            -73.80970669999999,
            -73.90423987,
            -73.7435809,
            -73.79679273,
            -73.98965,
            -73.98755917,
            -73.9624705,
            -73.88815017,
            -73.99558888,
            -73.95499,
            -73.99334,
            -73.9082459,
            -73.95783,
            -73.94583,
            -73.96116,
            -73.994108,
            -73.99458,
            -74.00312,
            -73.89564,
            -73.98549,
            -73.981708,
            -73.9529045,
            -73.99854598,
            -74.0021707,
            -73.95147023,
            -73.98080221,
            -73.9682781,
            -73.95352,
            -73.9446961,
            -74.00341905,
            -73.9599099,
            -73.981708,
            -73.93174,
            -73.95627033
           ],
           "marker": {
            "color": [
             2.75,
             2.5,
             2,
             2.25,
             1,
             1,
             2.5,
             2.45,
             2.5,
             2.75,
             2.25,
             1,
             2.25,
             2.25,
             2.85,
             2,
             2.25,
             2,
             1,
             2.75,
             2,
             2.5,
             2.75,
             2.71,
             2.75,
             2.75,
             3,
             1,
             2.5,
             2.25,
             2.5,
             1,
             2,
             2.5,
             2.5,
             2,
             2.75,
             2,
             2.25,
             2,
             2.5,
             2,
             2.5,
             2.5,
             2,
             2.5,
             2.75,
             2.75,
             2.5,
             2,
             2.5,
             2.25,
             2.75,
             2.75,
             2.5,
             5,
             2.75,
             2.5,
             2,
             3,
             3,
             3,
             2.75,
             1,
             2.75,
             2.5,
             2.85,
             2.5,
             2.25,
             2.5,
             2.25,
             2.25,
             2.5,
             2.25,
             2.95,
             2.5,
             2.25,
             1,
             2.25,
             3,
             2.75,
             2.75,
             2.25,
             1.09,
             3.05,
             3.25,
             2.75,
             2.75,
             2.75,
             2.25,
             2.55,
             2
            ],
            "coloraxis": "coloraxis",
            "size": [
             2.75,
             2.5,
             2,
             2.25,
             1,
             1,
             2.5,
             2.45,
             2.5,
             2.75,
             2.25,
             1,
             2.25,
             2.25,
             2.85,
             2,
             2.25,
             2,
             1,
             2.75,
             2,
             2.5,
             2.75,
             2.71,
             2.75,
             2.75,
             3,
             1,
             2.5,
             2.25,
             2.5,
             1,
             2,
             2.5,
             2.5,
             2,
             2.75,
             2,
             2.25,
             2,
             2.5,
             2,
             2.5,
             2.5,
             2,
             2.5,
             2.75,
             2.75,
             2.5,
             2,
             2.5,
             2.25,
             2.75,
             2.75,
             2.5,
             5,
             2.75,
             2.5,
             2,
             3,
             3,
             3,
             2.75,
             1,
             2.75,
             2.5,
             2.85,
             2.5,
             2.25,
             2.5,
             2.25,
             2.25,
             2.5,
             2.25,
             2.95,
             2.5,
             2.25,
             1,
             2.25,
             3,
             2.75,
             2.75,
             2.25,
             1.09,
             3.05,
             3.25,
             2.75,
             2.75,
             2.75,
             2.25,
             2.55,
             2
            ],
            "sizemode": "area",
            "sizeref": 0.0125
           },
           "mode": "markers",
           "name": "",
           "showlegend": false,
           "subplot": "mapbox",
           "type": "scattermapbox"
          }
         ],
         "name": "2014"
        },
        {
         "data": [
          {
           "hovertemplate": "<b>%{hovertext}</b><br><br>Year=2015<br>Price as number=%{marker.color}<br>location_lat=%{lat}<br>location_lng=%{lon}<extra></extra>",
           "hovertext": [
            "DJ Pizza",
            "San Remo Pizza",
            "Tony's Original's",
            "Abitino's Trattoria Pizzeria",
            "99 Cents Fresh Pizza",
            "City Slice",
            "Majestic Pizza",
            "Rosetti's Pizza",
            "Sal Pizza",
            "Pizza 33",
            "Yankee Pizza",
            "Primavera Pizza & Pasta",
            "La Bellezza Pizzeria",
            "King Pizza & Pasta",
            "Not Ray's Nick's Pizza Inc",
            "Abitino Pizzeria & Restaurant",
            "Gotham Pizza",
            "Mamma Mia Pizza & Grill",
            "Pizza Park Corp",
            "Papa John's Pizza",
            "Francesco's Pizza",
            "LaRustica Pizza",
            "Pizza Works",
            "Triangle Pizzeria",
            "Joey Pepperoni's Pizza",
            "Stella's Pizza",
            "Patsy's Pizza",
            "Sam's Famous Pizza 116th",
            "Cucina Bene",
            "Melani Pizzeria",
            "La Margarita Pizza",
            "Rosario Pizza Inc",
            "Sal's Pizza and Restaurant",
            "Napoli Pizza",
            "Not Ray's Leo's Pizza",
            "Pizza Boss NYC",
            "Arturo's Italian Restaurant",
            "Lunetta Pizza",
            "Phil's Pizza",
            "Krust Pizza",
            "Mike's Pizza",
            "Susano's Pizzeria Restaurant",
            "East Village Pizza",
            "Famiglia Pizzeria",
            "Stromboli Pizza",
            "Martinellos Pizza",
            "Napoli Pizza and Pasta ",
            "Giuseppe's Pizzeria",
            "Mike's Pizza",
            "Joe's Pizza",
            "Clinton Square Pizza",
            "Barone Pizza",
            "2 Bros Pizza",
            "Nunzio's Pizzeria",
            "Italy Pizza",
            "Pizza & bagel on 3rd",
            "City Island Delicatessan Inc",
            "Wilbel",
            "Dona Bella Pizza",
            "Anna Maria Pizza",
            "Joe's Pizza of The Village",
            "Pizza & Pasta Restaurant",
            "Russ Pizza",
            "Portofino Ristorante Forest Hills, Queens",
            "Pepino Pizzeria",
            "Pizza Town",
            "Pizza Di Napoli",
            "Dani's House of Pizza",
            "Joe's Pizza of The Village",
            "Antonio's Pizzeria & Restaurant",
            "Archie's Pizza ",
            "Corte Cafe Pizza",
            "Little Italy Pizza",
            "Tony's Pizza Spot",
            "2 Bros. Pizza",
            "Artichoke Basille's Pizza - East Village, NYC",
            "Percy's $1 Pizza",
            "Caesar's Palace Pizza"
           ],
           "lat": [
            40.74645,
            40.70031,
            40.63829,
            40.7546051,
            40.7331,
            40.7654294,
            40.7100713,
            40.7238,
            40.70445869,
            40.74505,
            40.7267,
            40.75699,
            40.71573018,
            40.68283,
            40.68606,
            40.74819,
            40.7699814,
            40.78022,
            40.7644499,
            40.71690571,
            40.775197,
            40.7841781,
            40.78761,
            40.79057,
            40.740868,
            40.74297,
            40.79714493,
            40.79844,
            40.70596,
            40.71904,
            40.7213955,
            40.72159,
            40.87531,
            40.87321,
            40.57535,
            40.77174,
            40.77543,
            40.77532,
            40.72914,
            40.73320627,
            40.7384851,
            40.7032122,
            40.72817548,
            40.73087,
            40.72777302,
            40.704277,
            40.7571861,
            40.7496969,
            40.65538,
            40.73331,
            40.71404706,
            40.7589362,
            40.75471,
            40.57794,
            40.7278729,
            40.66439,
            40.852584,
            40.81289,
            40.71502562,
            40.71796,
            40.667662,
            40.7042832,
            40.72646,
            40.71915,
            40.745328,
            40.68002,
            40.701088,
            40.70894,
            40.6717637,
            40.6769775,
            40.6998074,
            40.7138612,
            40.6982,
            40.69047,
            40.73111,
            40.73209,
            40.72919,
            40.7860815
           ],
           "legendgroup": "",
           "lon": [
            -73.98026,
            -73.90613,
            -74.07938,
            -73.9685234,
            -73.99955,
            -73.9909294,
            -74.0103149,
            -74.0045899,
            -73.91924267,
            -73.97821,
            -73.97727,
            -73.96722,
            -74.00505157,
            -73.96439,
            -73.97412,
            -73.97363,
            -73.9517212,
            -73.94672,
            -73.95868,
            -73.99038792,
            -73.98069100000001,
            -73.95240489999999,
            -73.94429,
            -73.94277,
            -73.978965,
            -74.00368,
            -73.93479109,
            -73.94157,
            -74.00993,
            -73.98466,
            -73.9874383,
            -73.98857,
            -73.87966,
            -73.87897,
            -73.99409,
            -73.95645,
            -73.94773,
            -73.95631,
            -74.005,
            -73.98586035,
            -73.9806696,
            -73.9080984,
            -73.98514688,
            -73.9923699,
            -73.98541376,
            -73.907211,
            -73.9268541,
            -73.9770222,
            -73.9565,
            -73.98763,
            -73.98719928,
            -73.8296299,
            -73.99186,
            -74.10259,
            -73.9528617,
            -73.99674,
            -73.789134,
            -73.90205,
            -74.00775155,
            -73.95746,
            -73.98741919999999,
            -73.9429234,
            -73.95244,
            -73.83986,
            -73.9033515,
            -73.97786,
            -73.941023,
            -73.83056,
            -73.9838561,
            -73.9725052,
            -73.9284114,
            -74.00388247,
            -73.93769,
            -73.96013,
            -74.00179,
            -73.98391,
            -74.00145,
            -73.9758174
           ],
           "marker": {
            "color": [
             2.5,
             2.5,
             2,
             3,
             1,
             2.75,
             2.5,
             2.75,
             2.25,
             3,
             2.25,
             3,
             2.5,
             1.75,
             2.75,
             3,
             2.75,
             2.25,
             2.75,
             1,
             2.85,
             2.75,
             2.75,
             2.25,
             1,
             2.75,
             1.75,
             2.25,
             2.75,
             1.5,
             2,
             2.5,
             2.5,
             2.5,
             2,
             3,
             2.5,
             2.5,
             2.75,
             1,
             2.5,
             1.5,
             2.5,
             2.85,
             2.75,
             1.5,
             2,
             2.75,
             2,
             2.75,
             2,
             2.5,
             1,
             2,
             2.75,
             2.25,
             2.25,
             2.25,
             2.5,
             2.25,
             2.75,
             2,
             2.75,
             2.45,
             2.5,
             2.75,
             1.5,
             3,
             2.75,
             2.75,
             3.5,
             2.5,
             2,
             2.25,
             1,
             4.5,
             1,
             3
            ],
            "coloraxis": "coloraxis",
            "size": [
             2.5,
             2.5,
             2,
             3,
             1,
             2.75,
             2.5,
             2.75,
             2.25,
             3,
             2.25,
             3,
             2.5,
             1.75,
             2.75,
             3,
             2.75,
             2.25,
             2.75,
             1,
             2.85,
             2.75,
             2.75,
             2.25,
             1,
             2.75,
             1.75,
             2.25,
             2.75,
             1.5,
             2,
             2.5,
             2.5,
             2.5,
             2,
             3,
             2.5,
             2.5,
             2.75,
             1,
             2.5,
             1.5,
             2.5,
             2.85,
             2.75,
             1.5,
             2,
             2.75,
             2,
             2.75,
             2,
             2.5,
             1,
             2,
             2.75,
             2.25,
             2.25,
             2.25,
             2.5,
             2.25,
             2.75,
             2,
             2.75,
             2.45,
             2.5,
             2.75,
             1.5,
             3,
             2.75,
             2.75,
             3.5,
             2.5,
             2,
             2.25,
             1,
             4.5,
             1,
             3
            ],
            "sizemode": "area",
            "sizeref": 0.0125
           },
           "mode": "markers",
           "name": "",
           "showlegend": false,
           "subplot": "mapbox",
           "type": "scattermapbox"
          }
         ],
         "name": "2015"
        },
        {
         "data": [
          {
           "hovertemplate": "<b>%{hovertext}</b><br><br>Year=2016<br>Price as number=%{marker.color}<br>location_lat=%{lat}<br>location_lng=%{lon}<extra></extra>",
           "hovertext": [
            "Joey Pepperoni's Pizza",
            "Tony's Pizzeria & Restaurant",
            "Villa Mia Pizzeria",
            "New York sal's pizza",
            "Pizza & Pita",
            "Luigi's Gourmet Pizza",
            "Giuseppe's Pizza At St George",
            "Tom's Pizza & Italian Restaurant Inc",
            "Three Brothers 3",
            "Domenick's Pizza",
            "John & Tony's",
            "J&D Pizzeria Restaurant",
            "Lenny's Pizza",
            "Romeo's Pizzeria",
            "Dany's Pizza Restaurant",
            "Cafe Daniellos",
            "Gino's Pizzeria",
            "Armando's Pizza",
            "Aenos Pizza",
            "Luke Pizza",
            "Fresco Pizza & Pasta",
            "Pinos La Forchetta Pizzeria & Restaurant",
            "Roma Pizza",
            "Saba's Pizza NY",
            "Little Italy Pizza",
            "99¢ Pizza",
            "Sal's Pizza Store",
            "Cotta Bene Pizzeria Restaurant",
            "NY Pizza Suprema",
            "Pizza Boy II",
            "Martiniello's Pizzeria",
            "Marabella Pizza",
            "Mark's Pizza",
            "Picasso Pizzeria",
            "Mario's Pizzeria",
            "Milano Pizza Shop",
            "620 Caton Pizzeria",
            "Gotham Pizza",
            "Bella Napoli",
            "Lunetta Pizza & Restaurant",
            "Royal Pizza",
            "Luigi Pizza Restaurant"
           ],
           "lat": [
            40.740868,
            40.6992,
            40.66949,
            40.7637799,
            40.74385051,
            40.76559,
            40.64222552,
            40.69498,
            40.680423,
            40.6781657,
            40.76042052,
            40.67429,
            40.65064377,
            40.6739049,
            40.690672,
            40.75882,
            40.65234,
            40.610228,
            40.83679,
            40.8293304,
            40.8142087,
            40.67133,
            40.7803,
            40.77711,
            40.77856,
            40.69244206,
            40.68361,
            40.67686,
            40.75014,
            40.74552183,
            40.74885,
            40.74031,
            40.67882,
            40.71021,
            40.68346,
            40.79684,
            40.64755,
            40.74381,
            40.7451099,
            40.73721,
            40.74875,
            40.74674
           ],
           "legendgroup": "",
           "lon": [
            -73.978965,
            -73.91882,
            -73.99285,
            -73.99224,
            -73.97396489,
            -73.98349,
            -74.07674037,
            -73.84286,
            -73.753499,
            -73.8317404,
            -73.9616057,
            -73.87879,
            -73.83810071,
            -73.8434862,
            -73.869665,
            -73.96543,
            -73.95902,
            -73.922216,
            -73.88908,
            -73.8915024,
            -73.9131972,
            -73.9777,
            -73.95312,
            -73.95716,
            -73.95294,
            -73.98670256,
            -73.99514,
            -73.98619,
            -73.99518,
            -73.90555705,
            -73.87086,
            -73.92373,
            -74.01138,
            -74.01649,
            -73.99002,
            -73.93812,
            -73.97392,
            -74.00295,
            -73.99471,
            -73.98395,
            -73.97614,
            -73.99722
           ],
           "marker": {
            "color": [
             1,
             2.5,
             2.5,
             2.75,
             2.75,
             2.75,
             2,
             2,
             2,
             2,
             2.95,
             1,
             3,
             2.5,
             2,
             2.75,
             2.25,
             2.45,
             2.25,
             2.5,
             2.25,
             2.75,
             2.5,
             3.25,
             2.75,
             1,
             2.75,
             2.5,
             3,
             2.45,
             1.5,
             2.5,
             2.5,
             3.15,
             1.5,
             2.25,
             2.5,
             2.5,
             2.45,
             2.5,
             2.5,
             2.25
            ],
            "coloraxis": "coloraxis",
            "size": [
             1,
             2.5,
             2.5,
             2.75,
             2.75,
             2.75,
             2,
             2,
             2,
             2,
             2.95,
             1,
             3,
             2.5,
             2,
             2.75,
             2.25,
             2.45,
             2.25,
             2.5,
             2.25,
             2.75,
             2.5,
             3.25,
             2.75,
             1,
             2.75,
             2.5,
             3,
             2.45,
             1.5,
             2.5,
             2.5,
             3.15,
             1.5,
             2.25,
             2.5,
             2.5,
             2.45,
             2.5,
             2.5,
             2.25
            ],
            "sizemode": "area",
            "sizeref": 0.0125
           },
           "mode": "markers",
           "name": "",
           "showlegend": false,
           "subplot": "mapbox",
           "type": "scattermapbox"
          }
         ],
         "name": "2016"
        },
        {
         "data": [
          {
           "hovertemplate": "<b>%{hovertext}</b><br><br>Year=2017<br>Price as number=%{marker.color}<br>location_lat=%{lat}<br>location_lng=%{lon}<extra></extra>",
           "hovertext": [
            "Alba Pizzeria",
            "Pizza Plus",
            "Am PM Pizza Bagel",
            "Pino's Pizza",
            "Margherita Pizza",
            "Carbo's Pizzeria",
            "Antonio's Pizzeria & Cafe",
            "Rosa's Pizza",
            "2 Bros Pizza",
            "Gotham Pizza",
            "Joey's Pizza",
            "NY Fresh Pizza",
            "Sutton Pizzeria",
            "Little Gio's Pizza",
            "99 Cent Express Pizza",
            "Luigi's Family Italian Ristorante and Pizzeria",
            "Italian Village Pizzeria & Restaurant NYC",
            "Bosa's Pizza of Harlem",
            "Rivoli Pizza II",
            "44st Pizza"
           ],
           "lat": [
            40.7093836,
            40.80188,
            40.62614,
            40.6009756,
            40.7043939,
            40.86262,
            40.69294,
            40.71221,
            40.75695,
            40.73214,
            40.7262164,
            40.7651482,
            40.76183,
            40.72374,
            40.75024,
            40.77843,
            40.77149,
            40.802747,
            40.7332899,
            40.75202
           ],
           "legendgroup": "",
           "lon": [
            -73.8188509,
            -73.93691,
            -73.97608,
            -74.0005968,
            -73.7971569,
            -73.84324,
            -73.99097,
            -73.90001,
            -73.9935,
            -73.98825,
            -73.8951812,
            -73.9881363,
            -73.96015,
            -73.9879,
            -73.9705,
            -73.94863,
            -73.95309,
            -73.93408819999999,
            -74.00619,
            -73.97376
           ],
           "marker": {
            "color": [
             2.75,
             2,
             2,
             2.5,
             3,
             2.5,
             2.5,
             2.65,
             1,
             2.75,
             2.75,
             1,
             2.75,
             2.25,
             1,
             2.75,
             2.75,
             2,
             3,
             1
            ],
            "coloraxis": "coloraxis",
            "size": [
             2.75,
             2,
             2,
             2.5,
             3,
             2.5,
             2.5,
             2.65,
             1,
             2.75,
             2.75,
             1,
             2.75,
             2.25,
             1,
             2.75,
             2.75,
             2,
             3,
             1
            ],
            "sizemode": "area",
            "sizeref": 0.0125
           },
           "mode": "markers",
           "name": "",
           "showlegend": false,
           "subplot": "mapbox",
           "type": "scattermapbox"
          }
         ],
         "name": "2017"
        },
        {
         "data": [
          {
           "hovertemplate": "<b>%{hovertext}</b><br><br>Year=2018<br>Price as number=%{marker.color}<br>location_lat=%{lat}<br>location_lng=%{lon}<extra></extra>",
           "hovertext": [
            "Kiss My Slice",
            "Springfield & LA Bari Pizza & Restaurant",
            "Margherita Pizza Inc",
            "Vaccaro's Pizzeria & Trattoria",
            "Mario's Pizzeria",
            "Mario's Pizza",
            "Lamici"
           ],
           "lat": [
            40.75576,
            40.6744308,
            40.70453082,
            40.72795,
            40.66489,
            40.65763,
            40.6635174
           ],
           "legendgroup": "",
           "lon": [
            -73.99052,
            -73.763588,
            -73.79679273,
            -73.71088,
            -73.73525,
            -73.76724,
            -73.7767928
           ],
           "marker": {
            "color": [
             1,
             2,
             3,
             2.65,
             2.5,
             2.75,
             2.5
            ],
            "coloraxis": "coloraxis",
            "size": [
             1,
             2,
             3,
             2.65,
             2.5,
             2.75,
             2.5
            ],
            "sizemode": "area",
            "sizeref": 0.0125
           },
           "mode": "markers",
           "name": "",
           "showlegend": false,
           "subplot": "mapbox",
           "type": "scattermapbox"
          }
         ],
         "name": "2018"
        },
        {
         "data": [
          {
           "hovertemplate": "<b>%{hovertext}</b><br><br>Year=2019<br>Price as number=%{marker.color}<br>location_lat=%{lat}<br>location_lng=%{lon}<extra></extra>",
           "hovertext": [
            "Tommy's Pizza",
            "Big Daddy's Pizza",
            "Bella Pizza Inc",
            "Tipsy Tomato Pizzeria",
            "Unique Bazaar Jamaica NY",
            "Margherita Pizza Inc",
            "Harbor Pizzeria",
            "Slice of Brooklyn",
            "Ciros Pizza",
            "99c Fresh Pizza",
            "Mangiamo Pizza",
            "Farmers Pizzeria Inc.",
            "Farmers Pizza and Grill",
            "Justino's Pizzeria Pizzeria",
            "Joe's Pizzeria & Restaurant",
            "Hot Fresh Pizza 99c",
            "Gino's",
            "Famous  Calabria Pizza",
            "Roccos Pizzeria",
            "Hi-Class Pizza",
            "Baker's Pizza",
            "Kiss My Slice",
            "99 Cent Fresh Hot Pizza"
           ],
           "lat": [
            40.68616,
            40.67435,
            40.70684,
            40.680199,
            40.70373,
            40.70453082,
            40.7183175,
            40.65691,
            40.57914,
            40.7518124,
            40.69909,
            40.70103,
            40.69088,
            40.70883,
            40.67869,
            40.71885,
            40.71067473,
            40.7116825,
            40.692128,
            40.72538,
            40.7294399,
            40.75576,
            40.69232
           ],
           "legendgroup": "",
           "lon": [
            -73.82553,
            -74.0071,
            -73.78983,
            -73.845768,
            -73.79706,
            -73.79679273,
            -73.8727355,
            -74.00143,
            -73.83702,
            -73.9743737,
            -73.9147,
            -73.76505,
            -73.76194,
            -74.00531,
            -73.86793,
            -74.00036,
            -73.99656346,
            -73.9995925,
            -73.94570415,
            -73.72167,
            -73.98125,
            -73.99052,
            -73.98696
           ],
           "marker": {
            "color": [
             3,
             2,
             2,
             2.75,
             1.5,
             3.25,
             2.75,
             2.25,
             2.75,
             1,
             2,
             2,
             2,
             2.75,
             2.5,
             1,
             2,
             3,
             2.75,
             2.75,
             3,
             2.75,
             1
            ],
            "coloraxis": "coloraxis",
            "size": [
             3,
             2,
             2,
             2.75,
             1.5,
             3.25,
             2.75,
             2.25,
             2.75,
             1,
             2,
             2,
             2,
             2.75,
             2.5,
             1,
             2,
             3,
             2.75,
             2.75,
             3,
             2.75,
             1
            ],
            "sizemode": "area",
            "sizeref": 0.0125
           },
           "mode": "markers",
           "name": "",
           "showlegend": false,
           "subplot": "mapbox",
           "type": "scattermapbox"
          }
         ],
         "name": "2019"
        },
        {
         "data": [
          {
           "hovertemplate": "<b>%{hovertext}</b><br><br>Year=2020<br>Price as number=%{marker.color}<br>location_lat=%{lat}<br>location_lng=%{lon}<extra></extra>",
           "hovertext": [
            "Tony's Pizzeria",
            "Pronto Pizza",
            "99¢ Fresh Pizza & Hot Dog",
            "La Mia Pizzeria & Restaurant",
            "Sam's Pizza",
            "Pizza2Go",
            "Italian Affair",
            "P & M Pizza & Restaurant",
            "Wholesome Garden Pizza",
            "Joe's Pizzeria",
            "Pizza Central of Brooklyn",
            "A & S Pizzeria",
            "Ciros Pizza 116st",
            "Woodhaven Cafe Pizzeria",
            "Cheeze Louiez",
            "Gino's Pizza Farockaway Queens NY",
            "JM Pizza",
            "Elegante",
            "Family Pizza",
            "Famous NY Pizza",
            "Beach Channel Pizza",
            "Star 99¢ Pizza",
            "Pizza D'Amore",
            "Joe's Pizza By The Sea",
            "Joe & Sal's Pizza Fort Greene",
            "Marios Chicken Pizza & Grill",
            "Pizza's San Miguel"
           ],
           "lat": [
            40.637601,
            40.6894599,
            40.72694509999999,
            40.7330887,
            40.87939,
            40.80486,
            40.72201222,
            40.82618,
            40.82611648,
            40.65863,
            40.63114,
            40.64401,
            40.57914,
            40.680109,
            40.701064,
            40.60337636,
            40.596594,
            40.58619,
            40.65585,
            40.6377231,
            40.597955,
            40.71807,
            40.5801496,
            40.5875839,
            40.69332939,
            40.6027254,
            40.63886
           ],
           "legendgroup": "",
           "lon": [
            -73.919525,
            -73.99233,
            -73.98311679999999,
            -73.9902141,
            -73.90601,
            -73.93816,
            -73.73004226,
            -73.9467,
            -73.95094532,
            -73.98171,
            -73.97703,
            -74.0776,
            -73.83702,
            -73.844141,
            -73.94123,
            -73.75302557,
            -73.754904,
            -73.81542,
            -73.96008,
            -74.0873695,
            -73.766132,
            -73.98586,
            -73.8370727,
            -73.8127052,
            -73.97220254,
            -73.7503447,
            -73.96888
           ],
           "marker": {
            "color": [
             2.5,
             2.5,
             1,
             2.75,
             3,
             1,
             2.25,
             2.5,
             2.5,
             2.75,
             2.75,
             2,
             2.75,
             1,
             2.75,
             2.5,
             2.5,
             3,
             2.75,
             2,
             2.25,
             1,
             2.5,
             2.5,
             2.75,
             2,
             2
            ],
            "coloraxis": "coloraxis",
            "size": [
             2.5,
             2.5,
             1,
             2.75,
             3,
             1,
             2.25,
             2.5,
             2.5,
             2.75,
             2.75,
             2,
             2.75,
             1,
             2.75,
             2.5,
             2.5,
             3,
             2.75,
             2,
             2.25,
             1,
             2.5,
             2.5,
             2.75,
             2,
             2
            ],
            "sizemode": "area",
            "sizeref": 0.0125
           },
           "mode": "markers",
           "name": "",
           "showlegend": false,
           "subplot": "mapbox",
           "type": "scattermapbox"
          }
         ],
         "name": "2020"
        },
        {
         "data": [
          {
           "hovertemplate": "<b>%{hovertext}</b><br><br>Year=2021<br>Price as number=%{marker.color}<br>location_lat=%{lat}<br>location_lng=%{lon}<extra></extra>",
           "hovertext": [
            "Gianni Pizza of Jackson Heights",
            "Gianni Pizza of Jackson Heights",
            "Table 87 Coal Oven Pizza",
            "Brothers pizza shop",
            "Tony Gs Pizza",
            "D'Angelo's Pizzeria",
            "Euro Pizza",
            "PG Pizza",
            "Upside Pizza",
            "Slice of Harlem Pizzeria",
            "Lennys Pizza",
            "Royal Pizzeria Restaurant Inc",
            "Joe's Pizza & Pasta",
            "Pizza Place",
            "Pizza Place",
            "Angies Cafe & Pizza",
            "Pizza Amore",
            "Landy's Pizzeria",
            "La Sorrentina Restaurant",
            "Pizza D'Amore",
            "Tigre's Pizza",
            "Frank's Bay Pizza",
            "La Bona Pizza & Pasta",
            "PG Pizza",
            "Mario's Pizza",
            "Margherita Pizza Inc.",
            "Tony's Pizza",
            "Bambinos Express",
            "620 On Caton Pizzeria ",
            "Belmora Pizza & Restaurant",
            "Sunset Park Pizza",
            "Giovanni S Pizza",
            "Sacco Pizza",
            "Gino's of Broadway",
            "Casabianca Family Italian Ristorante & Pizzeria",
            "Hank's Pizza",
            "Hank's Pizza",
            "Enzo & Claudio",
            "Joe's Pizza",
            "Pizza Prince",
            "Vito's Slices and Pizza",
            "Papa John's Pizza",
            "Pizza Market",
            "Zazzy's Pizza",
            "Michelangelo's Pizza",
            "Gino's Cucina Brick Oven Pizza",
            "Julie's Pizzeria & Restaurant",
            "Via Ponte Pizzeria",
            "11B Express",
            "NY 99¢ Fresh Pizza",
            "Norm’s Pizza",
            "Danny's Pizzeria",
            "San Remo's Pizza",
            "Antonio's Pizzeria & Cafe",
            "Barcklay's Pizza and Pasta",
            "Prima Pizza & Pasta",
            "Baker's Pizza"
           ],
           "lat": [
            40.7557169,
            40.75577,
            40.6561793,
            40.86726,
            40.86708,
            40.7340393,
            40.55962148,
            40.83381,
            40.7550912,
            40.81668,
            40.65099,
            40.6550694,
            40.76016292,
            40.8890631,
            40.889035,
            40.81153,
            40.6505369,
            40.61735,
            40.57845,
            40.61475744,
            40.84464,
            40.62484,
            40.6737,
            40.82622,
            40.65763,
            40.70453082,
            40.66485,
            40.7020409,
            40.64755,
            40.76095,
            40.64547,
            40.83522,
            40.76623,
            40.75757009,
            40.76944,
            40.7094362,
            40.7094362,
            40.7462825,
            40.71687,
            40.7237277,
            40.7545,
            40.69173293,
            40.746467,
            40.7365892,
            40.63087,
            40.67522,
            40.70416,
            40.5980108,
            40.727429,
            40.7332919,
            40.6931218,
            40.7220677,
            40.64081,
            40.69294,
            40.6827637,
            40.7282673,
            40.7294399
           ],
           "legendgroup": "",
           "lon": [
            -73.8857946,
            -73.88578,
            -74.00797374,
            -73.89639,
            -73.89603,
            -73.8497391,
            -74.1682369,
            -73.91519,
            -73.9911494,
            -73.946594,
            -73.94882,
            -73.8877085,
            -73.73149091,
            -73.859549,
            -73.859444,
            -73.92707,
            -73.70169729999999,
            -74.02738,
            -73.84928,
            -73.91270424,
            -73.9073,
            -74.07934,
            -73.88283,
            -73.917751,
            -73.76724,
            -73.79679273,
            -73.92329,
            -73.9066829,
            -73.97392,
            -73.96879,
            -73.99539,
            -73.92016,
            -73.98717,
            -73.91588521,
            -73.9889,
            -74.01202529999999,
            -74.01202529999999,
            -73.99367339999999,
            -73.95892,
            -73.9504086,
            -73.9952799,
            -73.98637801,
            -73.990096,
            -74.0013125,
            -74.12967,
            -73.9631,
            -73.9073,
            -74.0669935,
            -73.979695,
            -74.0028356,
            -73.9889093,
            -73.9042865,
            -73.96493,
            -73.99097,
            -73.96433830000001,
            -73.7358585,
            -73.98125
           ],
           "marker": {
            "color": [
             3,
             3,
             4,
             2.5,
             3,
             3.25,
             3.5,
             3,
             3.5,
             3.25,
             2.5,
             3,
             3,
             3.25,
             3.25,
             2.75,
             3,
             3,
             3,
             2.75,
             2.5,
             2.5,
             2.75,
             2.75,
             3,
             3.5,
             2.75,
             2.5,
             3,
             3.2,
             2,
             2,
             2.5,
             2.75,
             3,
             4.35,
             3.25,
             3.27,
             3,
             3,
             3,
             1,
             1,
             3.27,
             2.5,
             3,
             2,
             2.75,
             3,
             1,
             3,
             2.75,
             3,
             3,
             2.5,
             2.75,
             3.25
            ],
            "coloraxis": "coloraxis",
            "size": [
             3,
             3,
             4,
             2.5,
             3,
             3.25,
             3.5,
             3,
             3.5,
             3.25,
             2.5,
             3,
             3,
             3.25,
             3.25,
             2.75,
             3,
             3,
             3,
             2.75,
             2.5,
             2.5,
             2.75,
             2.75,
             3,
             3.5,
             2.75,
             2.5,
             3,
             3.2,
             2,
             2,
             2.5,
             2.75,
             3,
             4.35,
             3.25,
             3.27,
             3,
             3,
             3,
             1,
             1,
             3.27,
             2.5,
             3,
             2,
             2.75,
             3,
             1,
             3,
             2.75,
             3,
             3,
             2.5,
             2.75,
             3.25
            ],
            "sizemode": "area",
            "sizeref": 0.0125
           },
           "mode": "markers",
           "name": "",
           "showlegend": false,
           "subplot": "mapbox",
           "type": "scattermapbox"
          }
         ],
         "name": "2021"
        },
        {
         "data": [
          {
           "hovertemplate": "<b>%{hovertext}</b><br><br>Year=2022<br>Price as number=%{marker.color}<br>location_lat=%{lat}<br>location_lng=%{lon}<extra></extra>",
           "hovertext": [
            "Angelo’s Pizza",
            "Ozone Pizzeria",
            "Pino Pizza",
            "La Rondine",
            "Rony's Fresh Pizza",
            "John & Joe's Pizzeria",
            "Prego's Pizza",
            "N & D Pizza",
            "Peppinos",
            "Roccos Pizzeria",
            "Ciro Pizza Cafe",
            "Baxter Street Pizza",
            "Galleria pizza",
            "Emilio's Pizza",
            "Bella Napoli Pizza & Pasta",
            "Gravesend Pizza",
            "Jojo's Pizza",
            "Pizza Stop",
            "Joe and Johns Pizzeria",
            "Enzo's Pizzeria",
            "On The Run Pizza",
            "DiLeo's Pizzeria",
            "Corona Pizza",
            "iPizza NY",
            "S & S CALABRO PIZZERIA",
            "Sofia Pizza II",
            "Fontana Famous Pizza and Gyro",
            "Austin Street Pizza",
            "Villa Rustica Ristorante & Pizzeria",
            "Domy's Pizza Cafe",
            "Pizza Town",
            "Big John's Pizza - Queens Village NY",
            "Daro's Pizza",
            "Rockys Pizzeria",
            "Luigi's Pizza",
            "The Original Pizza Sam",
            "Sal Pizza",
            "Mama Mia Pizzeria",
            "Spiro's Cafe & Pizza",
            "La Vera Pizza & Restaurant 2447 Broadway New York 10025",
            "Lenny And Johns Pizzeria",
            "My Place Family Pizza",
            "Yankee J-Z Pizza Inc",
            "Circle Pizza",
            "Daisy's Pizza Place Inc",
            "Sam's Famous Pizza 116th",
            "La Loteria Pizzeria",
            "Monte Pizza ",
            "Natalie pizza",
            "Rosebank Pizza",
            "Samaria Pizzeria"
           ],
           "lat": [
            40.6232544,
            40.6808917,
            40.6000148,
            40.7133354,
            40.7482509,
            40.8545616,
            40.8631291,
            40.6004632,
            40.9036613,
            40.8676344,
            40.5332892,
            40.7166726,
            40.6843262,
            40.8679105,
            40.865699,
            40.6556156,
            40.6550446,
            40.8048198,
            40.7003521,
            40.6842128,
            40.5768705,
            40.610693,
            40.7434508,
            40.7608035,
            40.6249135,
            40.5989761,
            40.7575064,
            40.7195744,
            40.73996349999999,
            40.8164641,
            40.717725,
            40.7185614,
            40.7534698,
            40.6461233,
            40.57851960000001,
            40.7560589,
            40.7045071,
            40.5965296,
            40.654758,
            40.79120080000001,
            40.6201361,
            40.8691518,
            40.8294396,
            40.8324594,
            40.81692834,
            40.798309,
            40.854174,
            40.85994,
            40.7078242,
            40.61008,
            40.76566391
           ],
           "legendgroup": "",
           "lon": [
            -73.93792239999999,
            -73.8426307,
            -73.9994551,
            -73.8294102,
            -73.9923498,
            -73.86588180000001,
            -73.8585108,
            -73.94307239999999,
            -73.85046679999999,
            -73.8836046,
            -74.1927755,
            -73.9996701,
            -73.8450002,
            -73.9004894,
            -73.864609,
            -74.0033705,
            -73.91605059999999,
            -73.9547643,
            -73.8994387,
            -73.8593422,
            -73.9846206,
            -74.146137,
            -73.8547152,
            -73.9906251,
            -73.9993503,
            -73.9372106,
            -73.7829253,
            -73.8426559,
            -73.75824899999999,
            -73.9027071,
            -73.99988309999999,
            -73.7358451,
            -73.8218842,
            -73.97110409999999,
            -73.95800799999999,
            -73.87854229999999,
            -73.919242,
            -73.9939644,
            -74.004358,
            -73.9748165,
            -73.9345585,
            -73.8896161,
            -73.87575,
            -73.8610744,
            -73.89787505,
            -73.941632,
            -73.89900999999999,
            -73.89395,
            -73.8030173,
            -74.06334,
            -73.93079401
           ],
           "marker": {
            "color": [
             3,
             3,
             2.75,
             3.25,
             1,
             3.5,
             3,
             3.35,
             3,
             3.5,
             2.5,
             3.81,
             3,
             3.25,
             3,
             3,
             3,
             3,
             3,
             3.26,
             3,
             2.75,
             3,
             3.76,
             2.75,
             2.75,
             3.25,
             3.24,
             3.5,
             2.75,
             2,
             2.75,
             3,
             3,
             3,
             3.27,
             2.75,
             3,
             2.75,
             2.75,
             3,
             3,
             3,
             3,
             2.5,
             3,
             3,
             3,
             2.5,
             3,
             2.75
            ],
            "coloraxis": "coloraxis",
            "size": [
             3,
             3,
             2.75,
             3.25,
             1,
             3.5,
             3,
             3.35,
             3,
             3.5,
             2.5,
             3.81,
             3,
             3.25,
             3,
             3,
             3,
             3,
             3,
             3.26,
             3,
             2.75,
             3,
             3.76,
             2.75,
             2.75,
             3.25,
             3.24,
             3.5,
             2.75,
             2,
             2.75,
             3,
             3,
             3,
             3.27,
             2.75,
             3,
             2.75,
             2.75,
             3,
             3,
             3,
             3,
             2.5,
             3,
             3,
             3,
             2.5,
             3,
             2.75
            ],
            "sizemode": "area",
            "sizeref": 0.0125
           },
           "mode": "markers",
           "name": "",
           "showlegend": false,
           "subplot": "mapbox",
           "type": "scattermapbox"
          }
         ],
         "name": "2022"
        },
        {
         "data": [
          {
           "hovertemplate": "<b>%{hovertext}</b><br><br>Year=2023<br>Price as number=%{marker.color}<br>location_lat=%{lat}<br>location_lng=%{lon}<extra></extra>",
           "hovertext": [
            "Tommy's Pizzeria",
            "99¢ Pizza",
            "Family Pizza",
            "Elegante Pizzeria",
            "Joe's Pizza",
            "Federico’s Pizza",
            "L&B Spumoni Gardens",
            "Lona's Pizza",
            "Tony's Pizza",
            "Joe's Pizza Maspeth",
            "Bad Boys Pizza",
            "Sal's Pizzeria of Woodhaven",
            "Alfie's Pizza",
            "LaBella Pizza Express",
            "Margherita Pizza",
            "Romeo's Pizzeria",
            "Xochil Pizzeria",
            "Brothers pizza shop",
            "Mr Phil's Pizza",
            "Dominick's Pizzeria",
            "Lennys Pizza",
            "Emilio's Pizza",
            "Tommy's Pizzeria",
            "Gloria Pizza",
            "Ganni's Pizzeria",
            "The Original Napoli Pizza"
           ],
           "lat": [
            40.8195619,
            40.7516553,
            40.6558571,
            40.7771823,
            40.7168969,
            40.6005149,
            40.5947473,
            40.8714851,
            40.8931878,
            40.7212143,
            40.6005149,
            40.6926899,
            40.6998404,
            40.6018196,
            40.7046291,
            40.6817612,
            40.7771823,
            40.8673139,
            40.617892,
            40.637755,
            40.7573398,
            40.8243207,
            40.8195619,
            40.720763,
            40.6942132,
            40.8468605
           ],
           "legendgroup": "",
           "lon": [
            -73.8172086,
            -73.9904349,
            -73.9601721,
            -73.9635973,
            -73.9589576,
            -73.9909572,
            -73.9813043,
            -73.8769085,
            -73.8575829,
            -73.9033878,
            -73.9909572,
            -73.8587752,
            -73.8328891,
            -73.9936774,
            -73.7962887,
            -73.8370245,
            -73.9635973,
            -73.8963339,
            -73.9995883,
            -74.007206,
            -73.978476,
            -73.8198968,
            -73.8172086,
            -73.8432629,
            -73.9578108,
            -73.8963089
           ],
           "marker": {
            "color": [
             3,
             1,
             3,
             3.25,
             4,
             3.25,
             4,
             3.5,
             3.5,
             3,
             3,
             3,
             2.5,
             3,
             3.75,
             3,
             3,
             3.5,
             3,
             3,
             3,
             3.5,
             3,
             3.5,
             3,
             3.5
            ],
            "coloraxis": "coloraxis",
            "size": [
             3,
             1,
             3,
             3.25,
             4,
             3.25,
             4,
             3.5,
             3.5,
             3,
             3,
             3,
             2.5,
             3,
             3.75,
             3,
             3,
             3.5,
             3,
             3,
             3,
             3.5,
             3,
             3.5,
             3,
             3.5
            ],
            "sizemode": "area",
            "sizeref": 0.0125
           },
           "mode": "markers",
           "name": "",
           "showlegend": false,
           "subplot": "mapbox",
           "type": "scattermapbox"
          }
         ],
         "name": "2023"
        },
        {
         "data": [
          {
           "hovertemplate": "<b>%{hovertext}</b><br><br>Year=2024<br>Price as number=%{marker.color}<br>location_lat=%{lat}<br>location_lng=%{lon}<extra></extra>",
           "hovertext": [
            "Bravo Kosher Pizza"
           ],
           "lat": [
            40.6898043
           ],
           "legendgroup": "",
           "lon": [
            -73.9220436
           ],
           "marker": {
            "color": [
             4
            ],
            "coloraxis": "coloraxis",
            "size": [
             4
            ],
            "sizemode": "area",
            "sizeref": 0.0125
           },
           "mode": "markers",
           "name": "",
           "showlegend": false,
           "subplot": "mapbox",
           "type": "scattermapbox"
          }
         ],
         "name": "2024"
        }
       ],
       "layout": {
        "autosize": true,
        "coloraxis": {
         "cmax": 5,
         "cmin": 1,
         "colorbar": {
          "title": {
           "text": "Price as number"
          }
         },
         "colorscale": [
          [
           0,
           "#0d0887"
          ],
          [
           0.1111111111111111,
           "#46039f"
          ],
          [
           0.2222222222222222,
           "#7201a8"
          ],
          [
           0.3333333333333333,
           "#9c179e"
          ],
          [
           0.4444444444444444,
           "#bd3786"
          ],
          [
           0.5555555555555556,
           "#d8576b"
          ],
          [
           0.6666666666666666,
           "#ed7953"
          ],
          [
           0.7777777777777778,
           "#fb9f3a"
          ],
          [
           0.8888888888888888,
           "#fdca26"
          ],
          [
           1,
           "#f0f921"
          ]
         ]
        },
        "legend": {
         "itemsizing": "constant",
         "tracegroupgap": 0
        },
        "mapbox": {
         "accesstoken": "pk.eyJ1IjoicG1qdGVybSIsImEiOiJjbHJwNnE0YTAwMmw2MmptdGZodDU3cTJ2In0.g4wJH64HhHsTViH9hZlINA",
         "bearing": 0,
         "center": {
          "lat": 40.718416837547174,
          "lon": -73.9376498263915
         },
         "domain": {
          "x": [
           0,
           1
          ],
          "y": [
           0,
           1
          ]
         },
         "pitch": 0,
         "style": "carto-positron",
         "zoom": 10
        },
        "sliders": [
         {
          "active": 0,
          "currentvalue": {
           "prefix": "Year="
          },
          "len": 0.9,
          "pad": {
           "b": 10,
           "t": 60
          },
          "steps": [
           {
            "args": [
             [
              "2014"
             ],
             {
              "frame": {
               "duration": 0,
               "redraw": true
              },
              "fromcurrent": true,
              "mode": "immediate",
              "transition": {
               "duration": 0,
               "easing": "linear"
              }
             }
            ],
            "label": "2014",
            "method": "animate"
           },
           {
            "args": [
             [
              "2015"
             ],
             {
              "frame": {
               "duration": 0,
               "redraw": true
              },
              "fromcurrent": true,
              "mode": "immediate",
              "transition": {
               "duration": 0,
               "easing": "linear"
              }
             }
            ],
            "label": "2015",
            "method": "animate"
           },
           {
            "args": [
             [
              "2016"
             ],
             {
              "frame": {
               "duration": 0,
               "redraw": true
              },
              "fromcurrent": true,
              "mode": "immediate",
              "transition": {
               "duration": 0,
               "easing": "linear"
              }
             }
            ],
            "label": "2016",
            "method": "animate"
           },
           {
            "args": [
             [
              "2017"
             ],
             {
              "frame": {
               "duration": 0,
               "redraw": true
              },
              "fromcurrent": true,
              "mode": "immediate",
              "transition": {
               "duration": 0,
               "easing": "linear"
              }
             }
            ],
            "label": "2017",
            "method": "animate"
           },
           {
            "args": [
             [
              "2018"
             ],
             {
              "frame": {
               "duration": 0,
               "redraw": true
              },
              "fromcurrent": true,
              "mode": "immediate",
              "transition": {
               "duration": 0,
               "easing": "linear"
              }
             }
            ],
            "label": "2018",
            "method": "animate"
           },
           {
            "args": [
             [
              "2019"
             ],
             {
              "frame": {
               "duration": 0,
               "redraw": true
              },
              "fromcurrent": true,
              "mode": "immediate",
              "transition": {
               "duration": 0,
               "easing": "linear"
              }
             }
            ],
            "label": "2019",
            "method": "animate"
           },
           {
            "args": [
             [
              "2020"
             ],
             {
              "frame": {
               "duration": 0,
               "redraw": true
              },
              "fromcurrent": true,
              "mode": "immediate",
              "transition": {
               "duration": 0,
               "easing": "linear"
              }
             }
            ],
            "label": "2020",
            "method": "animate"
           },
           {
            "args": [
             [
              "2021"
             ],
             {
              "frame": {
               "duration": 0,
               "redraw": true
              },
              "fromcurrent": true,
              "mode": "immediate",
              "transition": {
               "duration": 0,
               "easing": "linear"
              }
             }
            ],
            "label": "2021",
            "method": "animate"
           },
           {
            "args": [
             [
              "2022"
             ],
             {
              "frame": {
               "duration": 0,
               "redraw": true
              },
              "fromcurrent": true,
              "mode": "immediate",
              "transition": {
               "duration": 0,
               "easing": "linear"
              }
             }
            ],
            "label": "2022",
            "method": "animate"
           },
           {
            "args": [
             [
              "2023"
             ],
             {
              "frame": {
               "duration": 0,
               "redraw": true
              },
              "fromcurrent": true,
              "mode": "immediate",
              "transition": {
               "duration": 0,
               "easing": "linear"
              }
             }
            ],
            "label": "2023",
            "method": "animate"
           },
           {
            "args": [
             [
              "2024"
             ],
             {
              "frame": {
               "duration": 0,
               "redraw": true
              },
              "fromcurrent": true,
              "mode": "immediate",
              "transition": {
               "duration": 0,
               "easing": "linear"
              }
             }
            ],
            "label": "2024",
            "method": "animate"
           }
          ],
          "x": 0.1,
          "xanchor": "left",
          "y": 0,
          "yanchor": "top"
         }
        ],
        "template": {
         "data": {
          "bar": [
           {
            "error_x": {
             "color": "#2a3f5f"
            },
            "error_y": {
             "color": "#2a3f5f"
            },
            "marker": {
             "line": {
              "color": "#E5ECF6",
              "width": 0.5
             },
             "pattern": {
              "fillmode": "overlay",
              "size": 10,
              "solidity": 0.2
             }
            },
            "type": "bar"
           }
          ],
          "barpolar": [
           {
            "marker": {
             "line": {
              "color": "#E5ECF6",
              "width": 0.5
             },
             "pattern": {
              "fillmode": "overlay",
              "size": 10,
              "solidity": 0.2
             }
            },
            "type": "barpolar"
           }
          ],
          "carpet": [
           {
            "aaxis": {
             "endlinecolor": "#2a3f5f",
             "gridcolor": "white",
             "linecolor": "white",
             "minorgridcolor": "white",
             "startlinecolor": "#2a3f5f"
            },
            "baxis": {
             "endlinecolor": "#2a3f5f",
             "gridcolor": "white",
             "linecolor": "white",
             "minorgridcolor": "white",
             "startlinecolor": "#2a3f5f"
            },
            "type": "carpet"
           }
          ],
          "choropleth": [
           {
            "colorbar": {
             "outlinewidth": 0,
             "ticks": ""
            },
            "type": "choropleth"
           }
          ],
          "contour": [
           {
            "colorbar": {
             "outlinewidth": 0,
             "ticks": ""
            },
            "colorscale": [
             [
              0,
              "#0d0887"
             ],
             [
              0.1111111111111111,
              "#46039f"
             ],
             [
              0.2222222222222222,
              "#7201a8"
             ],
             [
              0.3333333333333333,
              "#9c179e"
             ],
             [
              0.4444444444444444,
              "#bd3786"
             ],
             [
              0.5555555555555556,
              "#d8576b"
             ],
             [
              0.6666666666666666,
              "#ed7953"
             ],
             [
              0.7777777777777778,
              "#fb9f3a"
             ],
             [
              0.8888888888888888,
              "#fdca26"
             ],
             [
              1,
              "#f0f921"
             ]
            ],
            "type": "contour"
           }
          ],
          "contourcarpet": [
           {
            "colorbar": {
             "outlinewidth": 0,
             "ticks": ""
            },
            "type": "contourcarpet"
           }
          ],
          "heatmap": [
           {
            "colorbar": {
             "outlinewidth": 0,
             "ticks": ""
            },
            "colorscale": [
             [
              0,
              "#0d0887"
             ],
             [
              0.1111111111111111,
              "#46039f"
             ],
             [
              0.2222222222222222,
              "#7201a8"
             ],
             [
              0.3333333333333333,
              "#9c179e"
             ],
             [
              0.4444444444444444,
              "#bd3786"
             ],
             [
              0.5555555555555556,
              "#d8576b"
             ],
             [
              0.6666666666666666,
              "#ed7953"
             ],
             [
              0.7777777777777778,
              "#fb9f3a"
             ],
             [
              0.8888888888888888,
              "#fdca26"
             ],
             [
              1,
              "#f0f921"
             ]
            ],
            "type": "heatmap"
           }
          ],
          "heatmapgl": [
           {
            "colorbar": {
             "outlinewidth": 0,
             "ticks": ""
            },
            "colorscale": [
             [
              0,
              "#0d0887"
             ],
             [
              0.1111111111111111,
              "#46039f"
             ],
             [
              0.2222222222222222,
              "#7201a8"
             ],
             [
              0.3333333333333333,
              "#9c179e"
             ],
             [
              0.4444444444444444,
              "#bd3786"
             ],
             [
              0.5555555555555556,
              "#d8576b"
             ],
             [
              0.6666666666666666,
              "#ed7953"
             ],
             [
              0.7777777777777778,
              "#fb9f3a"
             ],
             [
              0.8888888888888888,
              "#fdca26"
             ],
             [
              1,
              "#f0f921"
             ]
            ],
            "type": "heatmapgl"
           }
          ],
          "histogram": [
           {
            "marker": {
             "pattern": {
              "fillmode": "overlay",
              "size": 10,
              "solidity": 0.2
             }
            },
            "type": "histogram"
           }
          ],
          "histogram2d": [
           {
            "colorbar": {
             "outlinewidth": 0,
             "ticks": ""
            },
            "colorscale": [
             [
              0,
              "#0d0887"
             ],
             [
              0.1111111111111111,
              "#46039f"
             ],
             [
              0.2222222222222222,
              "#7201a8"
             ],
             [
              0.3333333333333333,
              "#9c179e"
             ],
             [
              0.4444444444444444,
              "#bd3786"
             ],
             [
              0.5555555555555556,
              "#d8576b"
             ],
             [
              0.6666666666666666,
              "#ed7953"
             ],
             [
              0.7777777777777778,
              "#fb9f3a"
             ],
             [
              0.8888888888888888,
              "#fdca26"
             ],
             [
              1,
              "#f0f921"
             ]
            ],
            "type": "histogram2d"
           }
          ],
          "histogram2dcontour": [
           {
            "colorbar": {
             "outlinewidth": 0,
             "ticks": ""
            },
            "colorscale": [
             [
              0,
              "#0d0887"
             ],
             [
              0.1111111111111111,
              "#46039f"
             ],
             [
              0.2222222222222222,
              "#7201a8"
             ],
             [
              0.3333333333333333,
              "#9c179e"
             ],
             [
              0.4444444444444444,
              "#bd3786"
             ],
             [
              0.5555555555555556,
              "#d8576b"
             ],
             [
              0.6666666666666666,
              "#ed7953"
             ],
             [
              0.7777777777777778,
              "#fb9f3a"
             ],
             [
              0.8888888888888888,
              "#fdca26"
             ],
             [
              1,
              "#f0f921"
             ]
            ],
            "type": "histogram2dcontour"
           }
          ],
          "mesh3d": [
           {
            "colorbar": {
             "outlinewidth": 0,
             "ticks": ""
            },
            "type": "mesh3d"
           }
          ],
          "parcoords": [
           {
            "line": {
             "colorbar": {
              "outlinewidth": 0,
              "ticks": ""
             }
            },
            "type": "parcoords"
           }
          ],
          "pie": [
           {
            "automargin": true,
            "type": "pie"
           }
          ],
          "scatter": [
           {
            "fillpattern": {
             "fillmode": "overlay",
             "size": 10,
             "solidity": 0.2
            },
            "type": "scatter"
           }
          ],
          "scatter3d": [
           {
            "line": {
             "colorbar": {
              "outlinewidth": 0,
              "ticks": ""
             }
            },
            "marker": {
             "colorbar": {
              "outlinewidth": 0,
              "ticks": ""
             }
            },
            "type": "scatter3d"
           }
          ],
          "scattercarpet": [
           {
            "marker": {
             "colorbar": {
              "outlinewidth": 0,
              "ticks": ""
             }
            },
            "type": "scattercarpet"
           }
          ],
          "scattergeo": [
           {
            "marker": {
             "colorbar": {
              "outlinewidth": 0,
              "ticks": ""
             }
            },
            "type": "scattergeo"
           }
          ],
          "scattergl": [
           {
            "marker": {
             "colorbar": {
              "outlinewidth": 0,
              "ticks": ""
             }
            },
            "type": "scattergl"
           }
          ],
          "scattermapbox": [
           {
            "marker": {
             "colorbar": {
              "outlinewidth": 0,
              "ticks": ""
             }
            },
            "type": "scattermapbox"
           }
          ],
          "scatterpolar": [
           {
            "marker": {
             "colorbar": {
              "outlinewidth": 0,
              "ticks": ""
             }
            },
            "type": "scatterpolar"
           }
          ],
          "scatterpolargl": [
           {
            "marker": {
             "colorbar": {
              "outlinewidth": 0,
              "ticks": ""
             }
            },
            "type": "scatterpolargl"
           }
          ],
          "scatterternary": [
           {
            "marker": {
             "colorbar": {
              "outlinewidth": 0,
              "ticks": ""
             }
            },
            "type": "scatterternary"
           }
          ],
          "surface": [
           {
            "colorbar": {
             "outlinewidth": 0,
             "ticks": ""
            },
            "colorscale": [
             [
              0,
              "#0d0887"
             ],
             [
              0.1111111111111111,
              "#46039f"
             ],
             [
              0.2222222222222222,
              "#7201a8"
             ],
             [
              0.3333333333333333,
              "#9c179e"
             ],
             [
              0.4444444444444444,
              "#bd3786"
             ],
             [
              0.5555555555555556,
              "#d8576b"
             ],
             [
              0.6666666666666666,
              "#ed7953"
             ],
             [
              0.7777777777777778,
              "#fb9f3a"
             ],
             [
              0.8888888888888888,
              "#fdca26"
             ],
             [
              1,
              "#f0f921"
             ]
            ],
            "type": "surface"
           }
          ],
          "table": [
           {
            "cells": {
             "fill": {
              "color": "#EBF0F8"
             },
             "line": {
              "color": "white"
             }
            },
            "header": {
             "fill": {
              "color": "#C8D4E3"
             },
             "line": {
              "color": "white"
             }
            },
            "type": "table"
           }
          ]
         },
         "layout": {
          "annotationdefaults": {
           "arrowcolor": "#2a3f5f",
           "arrowhead": 0,
           "arrowwidth": 1
          },
          "autotypenumbers": "strict",
          "coloraxis": {
           "colorbar": {
            "outlinewidth": 0,
            "ticks": ""
           }
          },
          "colorscale": {
           "diverging": [
            [
             0,
             "#8e0152"
            ],
            [
             0.1,
             "#c51b7d"
            ],
            [
             0.2,
             "#de77ae"
            ],
            [
             0.3,
             "#f1b6da"
            ],
            [
             0.4,
             "#fde0ef"
            ],
            [
             0.5,
             "#f7f7f7"
            ],
            [
             0.6,
             "#e6f5d0"
            ],
            [
             0.7,
             "#b8e186"
            ],
            [
             0.8,
             "#7fbc41"
            ],
            [
             0.9,
             "#4d9221"
            ],
            [
             1,
             "#276419"
            ]
           ],
           "sequential": [
            [
             0,
             "#0d0887"
            ],
            [
             0.1111111111111111,
             "#46039f"
            ],
            [
             0.2222222222222222,
             "#7201a8"
            ],
            [
             0.3333333333333333,
             "#9c179e"
            ],
            [
             0.4444444444444444,
             "#bd3786"
            ],
            [
             0.5555555555555556,
             "#d8576b"
            ],
            [
             0.6666666666666666,
             "#ed7953"
            ],
            [
             0.7777777777777778,
             "#fb9f3a"
            ],
            [
             0.8888888888888888,
             "#fdca26"
            ],
            [
             1,
             "#f0f921"
            ]
           ],
           "sequentialminus": [
            [
             0,
             "#0d0887"
            ],
            [
             0.1111111111111111,
             "#46039f"
            ],
            [
             0.2222222222222222,
             "#7201a8"
            ],
            [
             0.3333333333333333,
             "#9c179e"
            ],
            [
             0.4444444444444444,
             "#bd3786"
            ],
            [
             0.5555555555555556,
             "#d8576b"
            ],
            [
             0.6666666666666666,
             "#ed7953"
            ],
            [
             0.7777777777777778,
             "#fb9f3a"
            ],
            [
             0.8888888888888888,
             "#fdca26"
            ],
            [
             1,
             "#f0f921"
            ]
           ]
          },
          "colorway": [
           "#636efa",
           "#EF553B",
           "#00cc96",
           "#ab63fa",
           "#FFA15A",
           "#19d3f3",
           "#FF6692",
           "#B6E880",
           "#FF97FF",
           "#FECB52"
          ],
          "font": {
           "color": "#2a3f5f"
          },
          "geo": {
           "bgcolor": "white",
           "lakecolor": "white",
           "landcolor": "#E5ECF6",
           "showlakes": true,
           "showland": true,
           "subunitcolor": "white"
          },
          "hoverlabel": {
           "align": "left"
          },
          "hovermode": "closest",
          "mapbox": {
           "style": "light"
          },
          "paper_bgcolor": "white",
          "plot_bgcolor": "#E5ECF6",
          "polar": {
           "angularaxis": {
            "gridcolor": "white",
            "linecolor": "white",
            "ticks": ""
           },
           "bgcolor": "#E5ECF6",
           "radialaxis": {
            "gridcolor": "white",
            "linecolor": "white",
            "ticks": ""
           }
          },
          "scene": {
           "xaxis": {
            "backgroundcolor": "#E5ECF6",
            "gridcolor": "white",
            "gridwidth": 2,
            "linecolor": "white",
            "showbackground": true,
            "ticks": "",
            "zerolinecolor": "white"
           },
           "yaxis": {
            "backgroundcolor": "#E5ECF6",
            "gridcolor": "white",
            "gridwidth": 2,
            "linecolor": "white",
            "showbackground": true,
            "ticks": "",
            "zerolinecolor": "white"
           },
           "zaxis": {
            "backgroundcolor": "#E5ECF6",
            "gridcolor": "white",
            "gridwidth": 2,
            "linecolor": "white",
            "showbackground": true,
            "ticks": "",
            "zerolinecolor": "white"
           }
          },
          "shapedefaults": {
           "line": {
            "color": "#2a3f5f"
           }
          },
          "ternary": {
           "aaxis": {
            "gridcolor": "white",
            "linecolor": "white",
            "ticks": ""
           },
           "baxis": {
            "gridcolor": "white",
            "linecolor": "white",
            "ticks": ""
           },
           "bgcolor": "#E5ECF6",
           "caxis": {
            "gridcolor": "white",
            "linecolor": "white",
            "ticks": ""
           }
          },
          "title": {
           "x": 0.05
          },
          "xaxis": {
           "automargin": true,
           "gridcolor": "white",
           "linecolor": "white",
           "ticks": "",
           "title": {
            "standoff": 15
           },
           "zerolinecolor": "white",
           "zerolinewidth": 2
          },
          "yaxis": {
           "automargin": true,
           "gridcolor": "white",
           "linecolor": "white",
           "ticks": "",
           "title": {
            "standoff": 15
           },
           "zerolinecolor": "white",
           "zerolinewidth": 2
          }
         }
        },
        "title": {
         "text": "Plain Pizza Slice Prices in NYC"
        },
        "updatemenus": [
         {
          "buttons": [
           {
            "args": [
             null,
             {
              "frame": {
               "duration": 500,
               "redraw": true
              },
              "fromcurrent": true,
              "mode": "immediate",
              "transition": {
               "duration": 500,
               "easing": "linear"
              }
             }
            ],
            "label": "&#9654;",
            "method": "animate"
           },
           {
            "args": [
             [
              null
             ],
             {
              "frame": {
               "duration": 0,
               "redraw": true
              },
              "fromcurrent": true,
              "mode": "immediate",
              "transition": {
               "duration": 0,
               "easing": "linear"
              }
             }
            ],
            "label": "&#9724;",
            "method": "animate"
           }
          ],
          "direction": "left",
          "pad": {
           "r": 10,
           "t": 70
          },
          "showactive": false,
          "type": "buttons",
          "x": 0.1,
          "xanchor": "right",
          "y": 0,
          "yanchor": "top"
         }
        ]
       }
      },
      "image/png": "[encoded data removed]",
      "text/html": [
       "<div>                            <div id=\"b7684251-adfb-4855-ac52-1ac216b376e9\" class=\"plotly-graph-div\" style=\"height:1000px; width:100%;\"></div>            <script type=\"text/javascript\">                require([\"plotly\"], function(Plotly) {                    window.PLOTLYENV=window.PLOTLYENV || {};                                    if (document.getElementById(\"b7684251-adfb-4855-ac52-1ac216b376e9\")) {                    Plotly.newPlot(                        \"b7684251-adfb-4855-ac52-1ac216b376e9\",                        [{\"hovertemplate\":\"\\u003cb\\u003e%{hovertext}\\u003c\\u002fb\\u003e\\u003cbr\\u003e\\u003cbr\\u003eYear=2014\\u003cbr\\u003ePrice as number=%{marker.color}\\u003cbr\\u003elocation_lat=%{lat}\\u003cbr\\u003elocation_lng=%{lon}\\u003cextra\\u003e\\u003c\\u002fextra\\u003e\",\"hovertext\":[\"Carmine and Sons\",\"Ginas Pizzeria\",\"Norberts Pizza\",\"Francos Pizza\",\"Vinny vincenz Pizza\",\"$1.00 Pizza\",\"Smiling Pizza\",\"Danny's Pizza II\",\"Iggy's Pizzeria\",\"Gotham Pizza NYC\",\"Nina's Restaurant & Pizzeria\",\"99c Fresh Pizza\",\"Milly's Pizza\",\"Little Gio's Pizza\",\"Two Boots Pizza\",\"Two Grandpa's Pizza\",\"Samaria Pizzeria\",\"Crispy Pizza\",\"Fdr 99 Cent Slice Pizza\",\"Neighborhood Pizza\",\"Norberts Pizza\",\"Pranzo\",\"IL Porto: Brick Oven Pizza and Ristorante\",\"La Traviata Pizzeria\",\"Little Italy Pizza III\",\"Williamsburg Pizza LES\",\"Mariella Pizza\",\"Pizza Pasta Restaurant\",\"Tom's Delicious Pizza\",\"Makkah Pizza\",\"Best Pizza of 1st Avenue\",\"99 Cents Famous Pizza\",\"Mike's Pizza\",\"Bergen Pizza\",\"Douma\",\"Brooklyn Harvest Market\",\"Williamsburg Pizza LES\",\"Lower East Side Pizza\",\"Bosco Pizza\",\"Norberts Pizza\",\"Liberty Pizza\",\"Angelica Pizzeria & Restaurant\",\"Domenico's Pizza & Pasta, Amboy Road\",\"Luigi Pizzeria\",\"Dee's & L Pizza Plus\",\"L&B Spumoni Gardens\",\"Roccos Pizza Joint\",\"Cafe Au Lee\",\"Ani Pizza Palace\",\"Cozzi Pizza\",\"Pronto Pizza\",\"La Rondine\",\"Williamsburg Pizza\",\"Coffee break\",\"Sunnyside Pizza\",\"Di Fara Pizza\",\"New Park Pizza\",\"Muzzarella Pizza\",\"Domenick's Pizza \",\"Goodfellas Pizzeria & Italian Restaurant\",\"South Shore Pizza\",\"Margherita Pizza Inc\",\"Ray's Bagel Caf\\u00e9 & Pizza\",\"Champion Pizza\",\"East Side Brick Oven Pizza\",\"Pisa Pizzeria\",\"Two Boots to Go-Go\",\"Triangolo Pizzeria\",\"Luigi's Pizza\",\"Royal Pizza Myrtle Ave\",\"Ganni's Pizza\",\"Rocco Pizza\",\"Roebling Pizza\",\"Pizza Mercato Waverly\",\"Prince St. Pizza\",\"Village Pizza\",\"69 pizzeria\",\"Fdr 99 Cent Slice Pizza\",\"Alphonso's Pizzeria & Trattoria - Pizza Shack\",\"Mimi's Pizza\",\"Luna Pizza\",\"Joe's Pizza\",\"Carmine's Original Pizza\",\"2 Bros. Pizza\",\"Cassiano's Pizza\",\"Best Pizza\",\"Tony's Pizza\",\"Bleecker Street Pizza\",\"Chai Pizza Sushi Cafe\",\"Alphonso's Pizzeria & Trattoria - Pizza Shack\",\"Frank's Pizza\",\"Bona Pizza\"],\"lat\":[40.7149322,40.65103,40.69661,40.67279,40.73113,40.6803986,40.6668856,40.70769661,40.72925,40.76302,40.72236,40.75814,40.69911,40.72374,40.7237135,40.84780692,40.76566391,40.64457051,40.72299,40.66023,40.69661,40.70331,40.6974427,40.77505,40.734771,40.71822,40.73507,40.7042832,40.8148961,40.81876,40.75796,40.73061,40.6958,40.680524,40.72254,40.70677704,40.71822,40.713945,40.692845,40.69661,40.69334,40.68789,40.5256981,40.68965,40.67385512,40.59467782,40.7422899,40.70224,40.76631,40.70377,40.64055,40.7132665,40.707952,40.69473,40.7440727,40.62508413,40.663039,40.73021,40.7051442,40.88705436,40.622787,40.70453082,40.72929,40.71962375,40.7671973,40.70139127,40.72642453,40.73364,40.66163,40.6997372,40.69428,40.69211,40.70859,40.730121,40.723,40.73925,40.737014,40.72299,40.714338,40.7786199,40.71350162,40.7306597,40.72555137,40.75654884,40.7594817,40.71561,40.71505399999999,40.73226681,40.6977,40.714338,40.61772,40.64097667],\"legendgroup\":\"\",\"lon\":[-73.9441794,-74.00396,-73.93491,-73.95037,-73.98296,-73.9495349,-73.9813704,-73.94348317,-73.98434,-73.98536,-73.94128,-73.99234,-73.93932,-73.9879,-73.98498719999999,-73.90714388,-73.93079401,-74.09838494,-73.98549,-73.8306099,-73.93491,-74.01069,-73.9675197,-73.98088,-73.992288,-73.99123,-73.98612,-73.9429234,-73.9593332,-73.9378,-73.96295,-73.98123,-73.94656,-73.974394,-73.99239,-73.95036416,-73.99123,-73.989104,-73.94033,-73.93491,-73.96604,-73.9815799,-74.2019284,-73.96544,-73.79105453,-73.98143284,-73.99739,-73.95586,-73.90881,-73.94749,-74.11611,-73.8290606,-73.950806,-73.9559,-73.9240104,-73.96155206,-73.840549,-73.98069,-73.80970669999999,-73.90423987,-73.7435809,-73.79679273,-73.98965,-73.98755917,-73.9624705,-73.88815017,-73.99558888,-73.95499,-73.99334,-73.9082459,-73.95783,-73.94583,-73.96116,-73.994108,-73.99458,-74.00312,-73.89564,-73.98549,-73.981708,-73.9529045,-73.99854598,-74.0021707,-73.95147023,-73.98080221,-73.9682781,-73.95352,-73.9446961,-74.00341905,-73.9599099,-73.981708,-73.93174,-73.95627033],\"marker\":{\"color\":[2.75,2.5,2.0,2.25,1.0,1.0,2.5,2.45,2.5,2.75,2.25,1.0,2.25,2.25,2.85,2.0,2.25,2.0,1.0,2.75,2.0,2.5,2.75,2.71,2.75,2.75,3.0,1.0,2.5,2.25,2.5,1.0,2.0,2.5,2.5,2.0,2.75,2.0,2.25,2.0,2.5,2.0,2.5,2.5,2.0,2.5,2.75,2.75,2.5,2.0,2.5,2.25,2.75,2.75,2.5,5.0,2.75,2.5,2.0,3.0,3.0,3.0,2.75,1.0,2.75,2.5,2.85,2.5,2.25,2.5,2.25,2.25,2.5,2.25,2.95,2.5,2.25,1.0,2.25,3.0,2.75,2.75,2.25,1.09,3.05,3.25,2.75,2.75,2.75,2.25,2.55,2.0],\"coloraxis\":\"coloraxis\",\"size\":[2.75,2.5,2.0,2.25,1.0,1.0,2.5,2.45,2.5,2.75,2.25,1.0,2.25,2.25,2.85,2.0,2.25,2.0,1.0,2.75,2.0,2.5,2.75,2.71,2.75,2.75,3.0,1.0,2.5,2.25,2.5,1.0,2.0,2.5,2.5,2.0,2.75,2.0,2.25,2.0,2.5,2.0,2.5,2.5,2.0,2.5,2.75,2.75,2.5,2.0,2.5,2.25,2.75,2.75,2.5,5.0,2.75,2.5,2.0,3.0,3.0,3.0,2.75,1.0,2.75,2.5,2.85,2.5,2.25,2.5,2.25,2.25,2.5,2.25,2.95,2.5,2.25,1.0,2.25,3.0,2.75,2.75,2.25,1.09,3.05,3.25,2.75,2.75,2.75,2.25,2.55,2.0],\"sizemode\":\"area\",\"sizeref\":0.0125},\"mode\":\"markers\",\"name\":\"\",\"showlegend\":false,\"subplot\":\"mapbox\",\"type\":\"scattermapbox\"}],                        {\"template\":{\"data\":{\"histogram2dcontour\":[{\"type\":\"histogram2dcontour\",\"colorbar\":{\"outlinewidth\":0,\"ticks\":\"\"},\"colorscale\":[[0.0,\"#0d0887\"],[0.1111111111111111,\"#46039f\"],[0.2222222222222222,\"#7201a8\"],[0.3333333333333333,\"#9c179e\"],[0.4444444444444444,\"#bd3786\"],[0.5555555555555556,\"#d8576b\"],[0.6666666666666666,\"#ed7953\"],[0.7777777777777778,\"#fb9f3a\"],[0.8888888888888888,\"#fdca26\"],[1.0,\"#f0f921\"]]}],\"choropleth\":[{\"type\":\"choropleth\",\"colorbar\":{\"outlinewidth\":0,\"ticks\":\"\"}}],\"histogram2d\":[{\"type\":\"histogram2d\",\"colorbar\":{\"outlinewidth\":0,\"ticks\":\"\"},\"colorscale\":[[0.0,\"#0d0887\"],[0.1111111111111111,\"#46039f\"],[0.2222222222222222,\"#7201a8\"],[0.3333333333333333,\"#9c179e\"],[0.4444444444444444,\"#bd3786\"],[0.5555555555555556,\"#d8576b\"],[0.6666666666666666,\"#ed7953\"],[0.7777777777777778,\"#fb9f3a\"],[0.8888888888888888,\"#fdca26\"],[1.0,\"#f0f921\"]]}],\"heatmap\":[{\"type\":\"heatmap\",\"colorbar\":{\"outlinewidth\":0,\"ticks\":\"\"},\"colorscale\":[[0.0,\"#0d0887\"],[0.1111111111111111,\"#46039f\"],[0.2222222222222222,\"#7201a8\"],[0.3333333333333333,\"#9c179e\"],[0.4444444444444444,\"#bd3786\"],[0.5555555555555556,\"#d8576b\"],[0.6666666666666666,\"#ed7953\"],[0.7777777777777778,\"#fb9f3a\"],[0.8888888888888888,\"#fdca26\"],[1.0,\"#f0f921\"]]}],\"heatmapgl\":[{\"type\":\"heatmapgl\",\"colorbar\":{\"outlinewidth\":0,\"ticks\":\"\"},\"colorscale\":[[0.0,\"#0d0887\"],[0.1111111111111111,\"#46039f\"],[0.2222222222222222,\"#7201a8\"],[0.3333333333333333,\"#9c179e\"],[0.4444444444444444,\"#bd3786\"],[0.5555555555555556,\"#d8576b\"],[0.6666666666666666,\"#ed7953\"],[0.7777777777777778,\"#fb9f3a\"],[0.8888888888888888,\"#fdca26\"],[1.0,\"#f0f921\"]]}],\"contourcarpet\":[{\"type\":\"contourcarpet\",\"colorbar\":{\"outlinewidth\":0,\"ticks\":\"\"}}],\"contour\":[{\"type\":\"contour\",\"colorbar\":{\"outlinewidth\":0,\"ticks\":\"\"},\"colorscale\":[[0.0,\"#0d0887\"],[0.1111111111111111,\"#46039f\"],[0.2222222222222222,\"#7201a8\"],[0.3333333333333333,\"#9c179e\"],[0.4444444444444444,\"#bd3786\"],[0.5555555555555556,\"#d8576b\"],[0.6666666666666666,\"#ed7953\"],[0.7777777777777778,\"#fb9f3a\"],[0.8888888888888888,\"#fdca26\"],[1.0,\"#f0f921\"]]}],\"surface\":[{\"type\":\"surface\",\"colorbar\":{\"outlinewidth\":0,\"ticks\":\"\"},\"colorscale\":[[0.0,\"#0d0887\"],[0.1111111111111111,\"#46039f\"],[0.2222222222222222,\"#7201a8\"],[0.3333333333333333,\"#9c179e\"],[0.4444444444444444,\"#bd3786\"],[0.5555555555555556,\"#d8576b\"],[0.6666666666666666,\"#ed7953\"],[0.7777777777777778,\"#fb9f3a\"],[0.8888888888888888,\"#fdca26\"],[1.0,\"#f0f921\"]]}],\"mesh3d\":[{\"type\":\"mesh3d\",\"colorbar\":{\"outlinewidth\":0,\"ticks\":\"\"}}],\"scatter\":[{\"fillpattern\":{\"fillmode\":\"overlay\",\"size\":10,\"solidity\":0.2},\"type\":\"scatter\"}],\"parcoords\":[{\"type\":\"parcoords\",\"line\":{\"colorbar\":{\"outlinewidth\":0,\"ticks\":\"\"}}}],\"scatterpolargl\":[{\"type\":\"scatterpolargl\",\"marker\":{\"colorbar\":{\"outlinewidth\":0,\"ticks\":\"\"}}}],\"bar\":[{\"error_x\":{\"color\":\"#2a3f5f\"},\"error_y\":{\"color\":\"#2a3f5f\"},\"marker\":{\"line\":{\"color\":\"#E5ECF6\",\"width\":0.5},\"pattern\":{\"fillmode\":\"overlay\",\"size\":10,\"solidity\":0.2}},\"type\":\"bar\"}],\"scattergeo\":[{\"type\":\"scattergeo\",\"marker\":{\"colorbar\":{\"outlinewidth\":0,\"ticks\":\"\"}}}],\"scatterpolar\":[{\"type\":\"scatterpolar\",\"marker\":{\"colorbar\":{\"outlinewidth\":0,\"ticks\":\"\"}}}],\"histogram\":[{\"marker\":{\"pattern\":{\"fillmode\":\"overlay\",\"size\":10,\"solidity\":0.2}},\"type\":\"histogram\"}],\"scattergl\":[{\"type\":\"scattergl\",\"marker\":{\"colorbar\":{\"outlinewidth\":0,\"ticks\":\"\"}}}],\"scatter3d\":[{\"type\":\"scatter3d\",\"line\":{\"colorbar\":{\"outlinewidth\":0,\"ticks\":\"\"}},\"marker\":{\"colorbar\":{\"outlinewidth\":0,\"ticks\":\"\"}}}],\"scattermapbox\":[{\"type\":\"scattermapbox\",\"marker\":{\"colorbar\":{\"outlinewidth\":0,\"ticks\":\"\"}}}],\"scatterternary\":[{\"type\":\"scatterternary\",\"marker\":{\"colorbar\":{\"outlinewidth\":0,\"ticks\":\"\"}}}],\"scattercarpet\":[{\"type\":\"scattercarpet\",\"marker\":{\"colorbar\":{\"outlinewidth\":0,\"ticks\":\"\"}}}],\"carpet\":[{\"aaxis\":{\"endlinecolor\":\"#2a3f5f\",\"gridcolor\":\"white\",\"linecolor\":\"white\",\"minorgridcolor\":\"white\",\"startlinecolor\":\"#2a3f5f\"},\"baxis\":{\"endlinecolor\":\"#2a3f5f\",\"gridcolor\":\"white\",\"linecolor\":\"white\",\"minorgridcolor\":\"white\",\"startlinecolor\":\"#2a3f5f\"},\"type\":\"carpet\"}],\"table\":[{\"cells\":{\"fill\":{\"color\":\"#EBF0F8\"},\"line\":{\"color\":\"white\"}},\"header\":{\"fill\":{\"color\":\"#C8D4E3\"},\"line\":{\"color\":\"white\"}},\"type\":\"table\"}],\"barpolar\":[{\"marker\":{\"line\":{\"color\":\"#E5ECF6\",\"width\":0.5},\"pattern\":{\"fillmode\":\"overlay\",\"size\":10,\"solidity\":0.2}},\"type\":\"barpolar\"}],\"pie\":[{\"automargin\":true,\"type\":\"pie\"}]},\"layout\":{\"autotypenumbers\":\"strict\",\"colorway\":[\"#636efa\",\"#EF553B\",\"#00cc96\",\"#ab63fa\",\"#FFA15A\",\"#19d3f3\",\"#FF6692\",\"#B6E880\",\"#FF97FF\",\"#FECB52\"],\"font\":{\"color\":\"#2a3f5f\"},\"hovermode\":\"closest\",\"hoverlabel\":{\"align\":\"left\"},\"paper_bgcolor\":\"white\",\"plot_bgcolor\":\"#E5ECF6\",\"polar\":{\"bgcolor\":\"#E5ECF6\",\"angularaxis\":{\"gridcolor\":\"white\",\"linecolor\":\"white\",\"ticks\":\"\"},\"radialaxis\":{\"gridcolor\":\"white\",\"linecolor\":\"white\",\"ticks\":\"\"}},\"ternary\":{\"bgcolor\":\"#E5ECF6\",\"aaxis\":{\"gridcolor\":\"white\",\"linecolor\":\"white\",\"ticks\":\"\"},\"baxis\":{\"gridcolor\":\"white\",\"linecolor\":\"white\",\"ticks\":\"\"},\"caxis\":{\"gridcolor\":\"white\",\"linecolor\":\"white\",\"ticks\":\"\"}},\"coloraxis\":{\"colorbar\":{\"outlinewidth\":0,\"ticks\":\"\"}},\"colorscale\":{\"sequential\":[[0.0,\"#0d0887\"],[0.1111111111111111,\"#46039f\"],[0.2222222222222222,\"#7201a8\"],[0.3333333333333333,\"#9c179e\"],[0.4444444444444444,\"#bd3786\"],[0.5555555555555556,\"#d8576b\"],[0.6666666666666666,\"#ed7953\"],[0.7777777777777778,\"#fb9f3a\"],[0.8888888888888888,\"#fdca26\"],[1.0,\"#f0f921\"]],\"sequentialminus\":[[0.0,\"#0d0887\"],[0.1111111111111111,\"#46039f\"],[0.2222222222222222,\"#7201a8\"],[0.3333333333333333,\"#9c179e\"],[0.4444444444444444,\"#bd3786\"],[0.5555555555555556,\"#d8576b\"],[0.6666666666666666,\"#ed7953\"],[0.7777777777777778,\"#fb9f3a\"],[0.8888888888888888,\"#fdca26\"],[1.0,\"#f0f921\"]],\"diverging\":[[0,\"#8e0152\"],[0.1,\"#c51b7d\"],[0.2,\"#de77ae\"],[0.3,\"#f1b6da\"],[0.4,\"#fde0ef\"],[0.5,\"#f7f7f7\"],[0.6,\"#e6f5d0\"],[0.7,\"#b8e186\"],[0.8,\"#7fbc41\"],[0.9,\"#4d9221\"],[1,\"#276419\"]]},\"xaxis\":{\"gridcolor\":\"white\",\"linecolor\":\"white\",\"ticks\":\"\",\"title\":{\"standoff\":15},\"zerolinecolor\":\"white\",\"automargin\":true,\"zerolinewidth\":2},\"yaxis\":{\"gridcolor\":\"white\",\"linecolor\":\"white\",\"ticks\":\"\",\"title\":{\"standoff\":15},\"zerolinecolor\":\"white\",\"automargin\":true,\"zerolinewidth\":2},\"scene\":{\"xaxis\":{\"backgroundcolor\":\"#E5ECF6\",\"gridcolor\":\"white\",\"linecolor\":\"white\",\"showbackground\":true,\"ticks\":\"\",\"zerolinecolor\":\"white\",\"gridwidth\":2},\"yaxis\":{\"backgroundcolor\":\"#E5ECF6\",\"gridcolor\":\"white\",\"linecolor\":\"white\",\"showbackground\":true,\"ticks\":\"\",\"zerolinecolor\":\"white\",\"gridwidth\":2},\"zaxis\":{\"backgroundcolor\":\"#E5ECF6\",\"gridcolor\":\"white\",\"linecolor\":\"white\",\"showbackground\":true,\"ticks\":\"\",\"zerolinecolor\":\"white\",\"gridwidth\":2}},\"shapedefaults\":{\"line\":{\"color\":\"#2a3f5f\"}},\"annotationdefaults\":{\"arrowcolor\":\"#2a3f5f\",\"arrowhead\":0,\"arrowwidth\":1},\"geo\":{\"bgcolor\":\"white\",\"landcolor\":\"#E5ECF6\",\"subunitcolor\":\"white\",\"showland\":true,\"showlakes\":true,\"lakecolor\":\"white\"},\"title\":{\"x\":0.05},\"mapbox\":{\"style\":\"light\"}}},\"mapbox\":{\"domain\":{\"x\":[0.0,1.0],\"y\":[0.0,1.0]},\"center\":{\"lat\":40.718416837547174,\"lon\":-73.9376498263915},\"zoom\":10,\"style\":\"carto-positron\",\"accesstoken\":\"pk.eyJ1IjoicG1qdGVybSIsImEiOiJjbHJwNnE0YTAwMmw2MmptdGZodDU3cTJ2In0.g4wJH64HhHsTViH9hZlINA\",\"bearing\":0,\"pitch\":0},\"coloraxis\":{\"colorbar\":{\"title\":{\"text\":\"Price as number\"}},\"colorscale\":[[0.0,\"#0d0887\"],[0.1111111111111111,\"#46039f\"],[0.2222222222222222,\"#7201a8\"],[0.3333333333333333,\"#9c179e\"],[0.4444444444444444,\"#bd3786\"],[0.5555555555555556,\"#d8576b\"],[0.6666666666666666,\"#ed7953\"],[0.7777777777777778,\"#fb9f3a\"],[0.8888888888888888,\"#fdca26\"],[1.0,\"#f0f921\"]],\"cmin\":1.0,\"cmax\":5.0},\"legend\":{\"tracegroupgap\":0,\"itemsizing\":\"constant\"},\"title\":{\"text\":\"Plain Pizza Slice Prices in NYC\"},\"height\":1000,\"updatemenus\":[{\"buttons\":[{\"args\":[null,{\"frame\":{\"duration\":500,\"redraw\":true},\"mode\":\"immediate\",\"fromcurrent\":true,\"transition\":{\"duration\":500,\"easing\":\"linear\"}}],\"label\":\"&#9654;\",\"method\":\"animate\"},{\"args\":[[null],{\"frame\":{\"duration\":0,\"redraw\":true},\"mode\":\"immediate\",\"fromcurrent\":true,\"transition\":{\"duration\":0,\"easing\":\"linear\"}}],\"label\":\"&#9724;\",\"method\":\"animate\"}],\"direction\":\"left\",\"pad\":{\"r\":10,\"t\":70},\"showactive\":false,\"type\":\"buttons\",\"x\":0.1,\"xanchor\":\"right\",\"y\":0,\"yanchor\":\"top\"}],\"sliders\":[{\"active\":0,\"currentvalue\":{\"prefix\":\"Year=\"},\"len\":0.9,\"pad\":{\"b\":10,\"t\":60},\"steps\":[{\"args\":[[\"2014\"],{\"frame\":{\"duration\":0,\"redraw\":true},\"mode\":\"immediate\",\"fromcurrent\":true,\"transition\":{\"duration\":0,\"easing\":\"linear\"}}],\"label\":\"2014\",\"method\":\"animate\"},{\"args\":[[\"2015\"],{\"frame\":{\"duration\":0,\"redraw\":true},\"mode\":\"immediate\",\"fromcurrent\":true,\"transition\":{\"duration\":0,\"easing\":\"linear\"}}],\"label\":\"2015\",\"method\":\"animate\"},{\"args\":[[\"2016\"],{\"frame\":{\"duration\":0,\"redraw\":true},\"mode\":\"immediate\",\"fromcurrent\":true,\"transition\":{\"duration\":0,\"easing\":\"linear\"}}],\"label\":\"2016\",\"method\":\"animate\"},{\"args\":[[\"2017\"],{\"frame\":{\"duration\":0,\"redraw\":true},\"mode\":\"immediate\",\"fromcurrent\":true,\"transition\":{\"duration\":0,\"easing\":\"linear\"}}],\"label\":\"2017\",\"method\":\"animate\"},{\"args\":[[\"2018\"],{\"frame\":{\"duration\":0,\"redraw\":true},\"mode\":\"immediate\",\"fromcurrent\":true,\"transition\":{\"duration\":0,\"easing\":\"linear\"}}],\"label\":\"2018\",\"method\":\"animate\"},{\"args\":[[\"2019\"],{\"frame\":{\"duration\":0,\"redraw\":true},\"mode\":\"immediate\",\"fromcurrent\":true,\"transition\":{\"duration\":0,\"easing\":\"linear\"}}],\"label\":\"2019\",\"method\":\"animate\"},{\"args\":[[\"2020\"],{\"frame\":{\"duration\":0,\"redraw\":true},\"mode\":\"immediate\",\"fromcurrent\":true,\"transition\":{\"duration\":0,\"easing\":\"linear\"}}],\"label\":\"2020\",\"method\":\"animate\"},{\"args\":[[\"2021\"],{\"frame\":{\"duration\":0,\"redraw\":true},\"mode\":\"immediate\",\"fromcurrent\":true,\"transition\":{\"duration\":0,\"easing\":\"linear\"}}],\"label\":\"2021\",\"method\":\"animate\"},{\"args\":[[\"2022\"],{\"frame\":{\"duration\":0,\"redraw\":true},\"mode\":\"immediate\",\"fromcurrent\":true,\"transition\":{\"duration\":0,\"easing\":\"linear\"}}],\"label\":\"2022\",\"method\":\"animate\"},{\"args\":[[\"2023\"],{\"frame\":{\"duration\":0,\"redraw\":true},\"mode\":\"immediate\",\"fromcurrent\":true,\"transition\":{\"duration\":0,\"easing\":\"linear\"}}],\"label\":\"2023\",\"method\":\"animate\"},{\"args\":[[\"2024\"],{\"frame\":{\"duration\":0,\"redraw\":true},\"mode\":\"immediate\",\"fromcurrent\":true,\"transition\":{\"duration\":0,\"easing\":\"linear\"}}],\"label\":\"2024\",\"method\":\"animate\"}],\"x\":0.1,\"xanchor\":\"left\",\"y\":0,\"yanchor\":\"top\"}]},                        {\"responsive\": true}                    ).then(function(){\n",
       "                            Plotly.addFrames('b7684251-adfb-4855-ac52-1ac216b376e9', [{\"data\":[{\"hovertemplate\":\"\\u003cb\\u003e%{hovertext}\\u003c\\u002fb\\u003e\\u003cbr\\u003e\\u003cbr\\u003eYear=2014\\u003cbr\\u003ePrice as number=%{marker.color}\\u003cbr\\u003elocation_lat=%{lat}\\u003cbr\\u003elocation_lng=%{lon}\\u003cextra\\u003e\\u003c\\u002fextra\\u003e\",\"hovertext\":[\"Carmine and Sons\",\"Ginas Pizzeria\",\"Norberts Pizza\",\"Francos Pizza\",\"Vinny vincenz Pizza\",\"$1.00 Pizza\",\"Smiling Pizza\",\"Danny's Pizza II\",\"Iggy's Pizzeria\",\"Gotham Pizza NYC\",\"Nina's Restaurant & Pizzeria\",\"99c Fresh Pizza\",\"Milly's Pizza\",\"Little Gio's Pizza\",\"Two Boots Pizza\",\"Two Grandpa's Pizza\",\"Samaria Pizzeria\",\"Crispy Pizza\",\"Fdr 99 Cent Slice Pizza\",\"Neighborhood Pizza\",\"Norberts Pizza\",\"Pranzo\",\"IL Porto: Brick Oven Pizza and Ristorante\",\"La Traviata Pizzeria\",\"Little Italy Pizza III\",\"Williamsburg Pizza LES\",\"Mariella Pizza\",\"Pizza Pasta Restaurant\",\"Tom's Delicious Pizza\",\"Makkah Pizza\",\"Best Pizza of 1st Avenue\",\"99 Cents Famous Pizza\",\"Mike's Pizza\",\"Bergen Pizza\",\"Douma\",\"Brooklyn Harvest Market\",\"Williamsburg Pizza LES\",\"Lower East Side Pizza\",\"Bosco Pizza\",\"Norberts Pizza\",\"Liberty Pizza\",\"Angelica Pizzeria & Restaurant\",\"Domenico's Pizza & Pasta, Amboy Road\",\"Luigi Pizzeria\",\"Dee's & L Pizza Plus\",\"L&B Spumoni Gardens\",\"Roccos Pizza Joint\",\"Cafe Au Lee\",\"Ani Pizza Palace\",\"Cozzi Pizza\",\"Pronto Pizza\",\"La Rondine\",\"Williamsburg Pizza\",\"Coffee break\",\"Sunnyside Pizza\",\"Di Fara Pizza\",\"New Park Pizza\",\"Muzzarella Pizza\",\"Domenick's Pizza \",\"Goodfellas Pizzeria & Italian Restaurant\",\"South Shore Pizza\",\"Margherita Pizza Inc\",\"Ray's Bagel Caf\\u00e9 & Pizza\",\"Champion Pizza\",\"East Side Brick Oven Pizza\",\"Pisa Pizzeria\",\"Two Boots to Go-Go\",\"Triangolo Pizzeria\",\"Luigi's Pizza\",\"Royal Pizza Myrtle Ave\",\"Ganni's Pizza\",\"Rocco Pizza\",\"Roebling Pizza\",\"Pizza Mercato Waverly\",\"Prince St. Pizza\",\"Village Pizza\",\"69 pizzeria\",\"Fdr 99 Cent Slice Pizza\",\"Alphonso's Pizzeria & Trattoria - Pizza Shack\",\"Mimi's Pizza\",\"Luna Pizza\",\"Joe's Pizza\",\"Carmine's Original Pizza\",\"2 Bros. Pizza\",\"Cassiano's Pizza\",\"Best Pizza\",\"Tony's Pizza\",\"Bleecker Street Pizza\",\"Chai Pizza Sushi Cafe\",\"Alphonso's Pizzeria & Trattoria - Pizza Shack\",\"Frank's Pizza\",\"Bona Pizza\"],\"lat\":[40.7149322,40.65103,40.69661,40.67279,40.73113,40.6803986,40.6668856,40.70769661,40.72925,40.76302,40.72236,40.75814,40.69911,40.72374,40.7237135,40.84780692,40.76566391,40.64457051,40.72299,40.66023,40.69661,40.70331,40.6974427,40.77505,40.734771,40.71822,40.73507,40.7042832,40.8148961,40.81876,40.75796,40.73061,40.6958,40.680524,40.72254,40.70677704,40.71822,40.713945,40.692845,40.69661,40.69334,40.68789,40.5256981,40.68965,40.67385512,40.59467782,40.7422899,40.70224,40.76631,40.70377,40.64055,40.7132665,40.707952,40.69473,40.7440727,40.62508413,40.663039,40.73021,40.7051442,40.88705436,40.622787,40.70453082,40.72929,40.71962375,40.7671973,40.70139127,40.72642453,40.73364,40.66163,40.6997372,40.69428,40.69211,40.70859,40.730121,40.723,40.73925,40.737014,40.72299,40.714338,40.7786199,40.71350162,40.7306597,40.72555137,40.75654884,40.7594817,40.71561,40.71505399999999,40.73226681,40.6977,40.714338,40.61772,40.64097667],\"legendgroup\":\"\",\"lon\":[-73.9441794,-74.00396,-73.93491,-73.95037,-73.98296,-73.9495349,-73.9813704,-73.94348317,-73.98434,-73.98536,-73.94128,-73.99234,-73.93932,-73.9879,-73.98498719999999,-73.90714388,-73.93079401,-74.09838494,-73.98549,-73.8306099,-73.93491,-74.01069,-73.9675197,-73.98088,-73.992288,-73.99123,-73.98612,-73.9429234,-73.9593332,-73.9378,-73.96295,-73.98123,-73.94656,-73.974394,-73.99239,-73.95036416,-73.99123,-73.989104,-73.94033,-73.93491,-73.96604,-73.9815799,-74.2019284,-73.96544,-73.79105453,-73.98143284,-73.99739,-73.95586,-73.90881,-73.94749,-74.11611,-73.8290606,-73.950806,-73.9559,-73.9240104,-73.96155206,-73.840549,-73.98069,-73.80970669999999,-73.90423987,-73.7435809,-73.79679273,-73.98965,-73.98755917,-73.9624705,-73.88815017,-73.99558888,-73.95499,-73.99334,-73.9082459,-73.95783,-73.94583,-73.96116,-73.994108,-73.99458,-74.00312,-73.89564,-73.98549,-73.981708,-73.9529045,-73.99854598,-74.0021707,-73.95147023,-73.98080221,-73.9682781,-73.95352,-73.9446961,-74.00341905,-73.9599099,-73.981708,-73.93174,-73.95627033],\"marker\":{\"color\":[2.75,2.5,2.0,2.25,1.0,1.0,2.5,2.45,2.5,2.75,2.25,1.0,2.25,2.25,2.85,2.0,2.25,2.0,1.0,2.75,2.0,2.5,2.75,2.71,2.75,2.75,3.0,1.0,2.5,2.25,2.5,1.0,2.0,2.5,2.5,2.0,2.75,2.0,2.25,2.0,2.5,2.0,2.5,2.5,2.0,2.5,2.75,2.75,2.5,2.0,2.5,2.25,2.75,2.75,2.5,5.0,2.75,2.5,2.0,3.0,3.0,3.0,2.75,1.0,2.75,2.5,2.85,2.5,2.25,2.5,2.25,2.25,2.5,2.25,2.95,2.5,2.25,1.0,2.25,3.0,2.75,2.75,2.25,1.09,3.05,3.25,2.75,2.75,2.75,2.25,2.55,2.0],\"coloraxis\":\"coloraxis\",\"size\":[2.75,2.5,2.0,2.25,1.0,1.0,2.5,2.45,2.5,2.75,2.25,1.0,2.25,2.25,2.85,2.0,2.25,2.0,1.0,2.75,2.0,2.5,2.75,2.71,2.75,2.75,3.0,1.0,2.5,2.25,2.5,1.0,2.0,2.5,2.5,2.0,2.75,2.0,2.25,2.0,2.5,2.0,2.5,2.5,2.0,2.5,2.75,2.75,2.5,2.0,2.5,2.25,2.75,2.75,2.5,5.0,2.75,2.5,2.0,3.0,3.0,3.0,2.75,1.0,2.75,2.5,2.85,2.5,2.25,2.5,2.25,2.25,2.5,2.25,2.95,2.5,2.25,1.0,2.25,3.0,2.75,2.75,2.25,1.09,3.05,3.25,2.75,2.75,2.75,2.25,2.55,2.0],\"sizemode\":\"area\",\"sizeref\":0.0125},\"mode\":\"markers\",\"name\":\"\",\"showlegend\":false,\"subplot\":\"mapbox\",\"type\":\"scattermapbox\"}],\"name\":\"2014\"},{\"data\":[{\"hovertemplate\":\"\\u003cb\\u003e%{hovertext}\\u003c\\u002fb\\u003e\\u003cbr\\u003e\\u003cbr\\u003eYear=2015\\u003cbr\\u003ePrice as number=%{marker.color}\\u003cbr\\u003elocation_lat=%{lat}\\u003cbr\\u003elocation_lng=%{lon}\\u003cextra\\u003e\\u003c\\u002fextra\\u003e\",\"hovertext\":[\"DJ Pizza\",\"San Remo Pizza\",\"Tony's Original's\",\"Abitino's Trattoria Pizzeria\",\"99 Cents Fresh Pizza\",\"City Slice\",\"Majestic Pizza\",\"Rosetti's Pizza\",\"Sal Pizza\",\"Pizza 33\",\"Yankee Pizza\",\"Primavera Pizza & Pasta\",\"La Bellezza Pizzeria\",\"King Pizza & Pasta\",\"Not Ray's Nick's Pizza Inc\",\"Abitino Pizzeria & Restaurant\",\"Gotham Pizza\",\"Mamma Mia Pizza & Grill\",\"Pizza Park Corp\",\"Papa John's Pizza\",\"Francesco's Pizza\",\"LaRustica Pizza\",\"Pizza Works\",\"Triangle Pizzeria\",\"Joey Pepperoni's Pizza\",\"Stella's Pizza\",\"Patsy's Pizza\",\"Sam's Famous Pizza 116th\",\"Cucina Bene\",\"Melani Pizzeria\",\"La Margarita Pizza\",\"Rosario Pizza Inc\",\"Sal's Pizza and Restaurant\",\"Napoli Pizza\",\"Not Ray's Leo's Pizza\",\"Pizza Boss NYC\",\"Arturo's Italian Restaurant\",\"Lunetta Pizza\",\"Phil's Pizza\",\"Krust Pizza\",\"Mike's Pizza\",\"Susano's Pizzeria Restaurant\",\"East Village Pizza\",\"Famiglia Pizzeria\",\"Stromboli Pizza\",\"Martinellos Pizza\",\"Napoli Pizza and Pasta \",\"Giuseppe's Pizzeria\",\"Mike's Pizza\",\"Joe's Pizza\",\"Clinton Square Pizza\",\"Barone Pizza\",\"2 Bros Pizza\",\"Nunzio's Pizzeria\",\"Italy Pizza\",\"Pizza & bagel on 3rd\",\"City Island Delicatessan Inc\",\"Wilbel\",\"Dona Bella Pizza\",\"Anna Maria Pizza\",\"Joe's Pizza of The Village\",\"Pizza & Pasta Restaurant\",\"Russ Pizza\",\"Portofino Ristorante Forest Hills, Queens\",\"Pepino Pizzeria\",\"Pizza Town\",\"Pizza Di Napoli\",\"Dani's House of Pizza\",\"Joe's Pizza of The Village\",\"Antonio's Pizzeria & Restaurant\",\"Archie's Pizza \",\"Corte Cafe Pizza\",\"Little Italy Pizza\",\"Tony's Pizza Spot\",\"2 Bros. Pizza\",\"Artichoke Basille's Pizza - East Village, NYC\",\"Percy's $1 Pizza\",\"Caesar's Palace Pizza\"],\"lat\":[40.74645,40.70031,40.63829,40.7546051,40.7331,40.7654294,40.7100713,40.7238,40.70445869,40.74505,40.7267,40.75699,40.71573018,40.68283,40.68606,40.74819,40.7699814,40.78022,40.7644499,40.71690571,40.775197,40.7841781,40.78761,40.79057,40.740868,40.74297,40.79714493,40.79844,40.70596,40.71904,40.7213955,40.72159,40.87531,40.87321,40.57535,40.77174,40.77543,40.77532,40.72914,40.73320627,40.7384851,40.7032122,40.72817548,40.73087,40.72777302,40.704277,40.7571861,40.7496969,40.65538,40.73331,40.71404706,40.7589362,40.75471,40.57794,40.7278729,40.66439,40.852584,40.81289,40.71502562,40.71796,40.667662,40.7042832,40.72646,40.71915,40.745328,40.68002,40.701088,40.70894,40.6717637,40.6769775,40.6998074,40.7138612,40.6982,40.69047,40.73111,40.73209,40.72919,40.7860815],\"legendgroup\":\"\",\"lon\":[-73.98026,-73.90613,-74.07938,-73.9685234,-73.99955,-73.9909294,-74.0103149,-74.0045899,-73.91924267,-73.97821,-73.97727,-73.96722,-74.00505157,-73.96439,-73.97412,-73.97363,-73.9517212,-73.94672,-73.95868,-73.99038792,-73.98069100000001,-73.95240489999999,-73.94429,-73.94277,-73.978965,-74.00368,-73.93479109,-73.94157,-74.00993,-73.98466,-73.9874383,-73.98857,-73.87966,-73.87897,-73.99409,-73.95645,-73.94773,-73.95631,-74.005,-73.98586035,-73.9806696,-73.9080984,-73.98514688,-73.9923699,-73.98541376,-73.907211,-73.9268541,-73.9770222,-73.9565,-73.98763,-73.98719928,-73.8296299,-73.99186,-74.10259,-73.9528617,-73.99674,-73.789134,-73.90205,-74.00775155,-73.95746,-73.98741919999999,-73.9429234,-73.95244,-73.83986,-73.9033515,-73.97786,-73.941023,-73.83056,-73.9838561,-73.9725052,-73.9284114,-74.00388247,-73.93769,-73.96013,-74.00179,-73.98391,-74.00145,-73.9758174],\"marker\":{\"color\":[2.5,2.5,2.0,3.0,1.0,2.75,2.5,2.75,2.25,3.0,2.25,3.0,2.5,1.75,2.75,3.0,2.75,2.25,2.75,1.0,2.85,2.75,2.75,2.25,1.0,2.75,1.75,2.25,2.75,1.5,2.0,2.5,2.5,2.5,2.0,3.0,2.5,2.5,2.75,1.0,2.5,1.5,2.5,2.85,2.75,1.5,2.0,2.75,2.0,2.75,2.0,2.5,1.0,2.0,2.75,2.25,2.25,2.25,2.5,2.25,2.75,2.0,2.75,2.45,2.5,2.75,1.5,3.0,2.75,2.75,3.5,2.5,2.0,2.25,1.0,4.5,1.0,3.0],\"coloraxis\":\"coloraxis\",\"size\":[2.5,2.5,2.0,3.0,1.0,2.75,2.5,2.75,2.25,3.0,2.25,3.0,2.5,1.75,2.75,3.0,2.75,2.25,2.75,1.0,2.85,2.75,2.75,2.25,1.0,2.75,1.75,2.25,2.75,1.5,2.0,2.5,2.5,2.5,2.0,3.0,2.5,2.5,2.75,1.0,2.5,1.5,2.5,2.85,2.75,1.5,2.0,2.75,2.0,2.75,2.0,2.5,1.0,2.0,2.75,2.25,2.25,2.25,2.5,2.25,2.75,2.0,2.75,2.45,2.5,2.75,1.5,3.0,2.75,2.75,3.5,2.5,2.0,2.25,1.0,4.5,1.0,3.0],\"sizemode\":\"area\",\"sizeref\":0.0125},\"mode\":\"markers\",\"name\":\"\",\"showlegend\":false,\"subplot\":\"mapbox\",\"type\":\"scattermapbox\"}],\"name\":\"2015\"},{\"data\":[{\"hovertemplate\":\"\\u003cb\\u003e%{hovertext}\\u003c\\u002fb\\u003e\\u003cbr\\u003e\\u003cbr\\u003eYear=2016\\u003cbr\\u003ePrice as number=%{marker.color}\\u003cbr\\u003elocation_lat=%{lat}\\u003cbr\\u003elocation_lng=%{lon}\\u003cextra\\u003e\\u003c\\u002fextra\\u003e\",\"hovertext\":[\"Joey Pepperoni's Pizza\",\"Tony's Pizzeria & Restaurant\",\"Villa Mia Pizzeria\",\"New York sal's pizza\",\"Pizza & Pita\",\"Luigi's Gourmet Pizza\",\"Giuseppe's Pizza At St George\",\"Tom's Pizza & Italian Restaurant Inc\",\"Three Brothers 3\",\"Domenick's Pizza\",\"John & Tony's\",\"J&D Pizzeria Restaurant\",\"Lenny's Pizza\",\"Romeo's Pizzeria\",\"Dany's Pizza Restaurant\",\"Cafe Daniellos\",\"Gino's Pizzeria\",\"Armando's Pizza\",\"Aenos Pizza\",\"Luke Pizza\",\"Fresco Pizza & Pasta\",\"Pinos La Forchetta Pizzeria & Restaurant\",\"Roma Pizza\",\"Saba's Pizza NY\",\"Little Italy Pizza\",\"99\\u00a2 Pizza\",\"Sal's Pizza Store\",\"Cotta Bene Pizzeria Restaurant\",\"NY Pizza Suprema\",\"Pizza Boy II\",\"Martiniello's Pizzeria\",\"Marabella Pizza\",\"Mark's Pizza\",\"Picasso Pizzeria\",\"Mario's Pizzeria\",\"Milano Pizza Shop\",\"620 Caton Pizzeria\",\"Gotham Pizza\",\"Bella Napoli\",\"Lunetta Pizza & Restaurant\",\"Royal Pizza\",\"Luigi Pizza Restaurant\"],\"lat\":[40.740868,40.6992,40.66949,40.7637799,40.74385051,40.76559,40.64222552,40.69498,40.680423,40.6781657,40.76042052,40.67429,40.65064377,40.6739049,40.690672,40.75882,40.65234,40.610228,40.83679,40.8293304,40.8142087,40.67133,40.7803,40.77711,40.77856,40.69244206,40.68361,40.67686,40.75014,40.74552183,40.74885,40.74031,40.67882,40.71021,40.68346,40.79684,40.64755,40.74381,40.7451099,40.73721,40.74875,40.74674],\"legendgroup\":\"\",\"lon\":[-73.978965,-73.91882,-73.99285,-73.99224,-73.97396489,-73.98349,-74.07674037,-73.84286,-73.753499,-73.8317404,-73.9616057,-73.87879,-73.83810071,-73.8434862,-73.869665,-73.96543,-73.95902,-73.922216,-73.88908,-73.8915024,-73.9131972,-73.9777,-73.95312,-73.95716,-73.95294,-73.98670256,-73.99514,-73.98619,-73.99518,-73.90555705,-73.87086,-73.92373,-74.01138,-74.01649,-73.99002,-73.93812,-73.97392,-74.00295,-73.99471,-73.98395,-73.97614,-73.99722],\"marker\":{\"color\":[1.0,2.5,2.5,2.75,2.75,2.75,2.0,2.0,2.0,2.0,2.95,1.0,3.0,2.5,2.0,2.75,2.25,2.45,2.25,2.5,2.25,2.75,2.5,3.25,2.75,1.0,2.75,2.5,3.0,2.45,1.5,2.5,2.5,3.15,1.5,2.25,2.5,2.5,2.45,2.5,2.5,2.25],\"coloraxis\":\"coloraxis\",\"size\":[1.0,2.5,2.5,2.75,2.75,2.75,2.0,2.0,2.0,2.0,2.95,1.0,3.0,2.5,2.0,2.75,2.25,2.45,2.25,2.5,2.25,2.75,2.5,3.25,2.75,1.0,2.75,2.5,3.0,2.45,1.5,2.5,2.5,3.15,1.5,2.25,2.5,2.5,2.45,2.5,2.5,2.25],\"sizemode\":\"area\",\"sizeref\":0.0125},\"mode\":\"markers\",\"name\":\"\",\"showlegend\":false,\"subplot\":\"mapbox\",\"type\":\"scattermapbox\"}],\"name\":\"2016\"},{\"data\":[{\"hovertemplate\":\"\\u003cb\\u003e%{hovertext}\\u003c\\u002fb\\u003e\\u003cbr\\u003e\\u003cbr\\u003eYear=2017\\u003cbr\\u003ePrice as number=%{marker.color}\\u003cbr\\u003elocation_lat=%{lat}\\u003cbr\\u003elocation_lng=%{lon}\\u003cextra\\u003e\\u003c\\u002fextra\\u003e\",\"hovertext\":[\"Alba Pizzeria\",\"Pizza Plus\",\"Am PM Pizza Bagel\",\"Pino's Pizza\",\"Margherita Pizza\",\"Carbo's Pizzeria\",\"Antonio's Pizzeria & Cafe\",\"Rosa's Pizza\",\"2 Bros Pizza\",\"Gotham Pizza\",\"Joey's Pizza\",\"NY Fresh Pizza\",\"Sutton Pizzeria\",\"Little Gio's Pizza\",\"99 Cent Express Pizza\",\"Luigi's Family Italian Ristorante and Pizzeria\",\"Italian Village Pizzeria & Restaurant NYC\",\"Bosa's Pizza of Harlem\",\"Rivoli Pizza II\",\"44st Pizza\"],\"lat\":[40.7093836,40.80188,40.62614,40.6009756,40.7043939,40.86262,40.69294,40.71221,40.75695,40.73214,40.7262164,40.7651482,40.76183,40.72374,40.75024,40.77843,40.77149,40.802747,40.7332899,40.75202],\"legendgroup\":\"\",\"lon\":[-73.8188509,-73.93691,-73.97608,-74.0005968,-73.7971569,-73.84324,-73.99097,-73.90001,-73.9935,-73.98825,-73.8951812,-73.9881363,-73.96015,-73.9879,-73.9705,-73.94863,-73.95309,-73.93408819999999,-74.00619,-73.97376],\"marker\":{\"color\":[2.75,2.0,2.0,2.5,3.0,2.5,2.5,2.65,1.0,2.75,2.75,1.0,2.75,2.25,1.0,2.75,2.75,2.0,3.0,1.0],\"coloraxis\":\"coloraxis\",\"size\":[2.75,2.0,2.0,2.5,3.0,2.5,2.5,2.65,1.0,2.75,2.75,1.0,2.75,2.25,1.0,2.75,2.75,2.0,3.0,1.0],\"sizemode\":\"area\",\"sizeref\":0.0125},\"mode\":\"markers\",\"name\":\"\",\"showlegend\":false,\"subplot\":\"mapbox\",\"type\":\"scattermapbox\"}],\"name\":\"2017\"},{\"data\":[{\"hovertemplate\":\"\\u003cb\\u003e%{hovertext}\\u003c\\u002fb\\u003e\\u003cbr\\u003e\\u003cbr\\u003eYear=2018\\u003cbr\\u003ePrice as number=%{marker.color}\\u003cbr\\u003elocation_lat=%{lat}\\u003cbr\\u003elocation_lng=%{lon}\\u003cextra\\u003e\\u003c\\u002fextra\\u003e\",\"hovertext\":[\"Kiss My Slice\",\"Springfield & LA Bari Pizza & Restaurant\",\"Margherita Pizza Inc\",\"Vaccaro's Pizzeria & Trattoria\",\"Mario's Pizzeria\",\"Mario's Pizza\",\"Lamici\"],\"lat\":[40.75576,40.6744308,40.70453082,40.72795,40.66489,40.65763,40.6635174],\"legendgroup\":\"\",\"lon\":[-73.99052,-73.763588,-73.79679273,-73.71088,-73.73525,-73.76724,-73.7767928],\"marker\":{\"color\":[1.0,2.0,3.0,2.65,2.5,2.75,2.5],\"coloraxis\":\"coloraxis\",\"size\":[1.0,2.0,3.0,2.65,2.5,2.75,2.5],\"sizemode\":\"area\",\"sizeref\":0.0125},\"mode\":\"markers\",\"name\":\"\",\"showlegend\":false,\"subplot\":\"mapbox\",\"type\":\"scattermapbox\"}],\"name\":\"2018\"},{\"data\":[{\"hovertemplate\":\"\\u003cb\\u003e%{hovertext}\\u003c\\u002fb\\u003e\\u003cbr\\u003e\\u003cbr\\u003eYear=2019\\u003cbr\\u003ePrice as number=%{marker.color}\\u003cbr\\u003elocation_lat=%{lat}\\u003cbr\\u003elocation_lng=%{lon}\\u003cextra\\u003e\\u003c\\u002fextra\\u003e\",\"hovertext\":[\"Tommy's Pizza\",\"Big Daddy's Pizza\",\"Bella Pizza Inc\",\"Tipsy Tomato Pizzeria\",\"Unique Bazaar Jamaica NY\",\"Margherita Pizza Inc\",\"Harbor Pizzeria\",\"Slice of Brooklyn\",\"Ciros Pizza\",\"99c Fresh Pizza\",\"Mangiamo Pizza\",\"Farmers Pizzeria Inc.\",\"Farmers Pizza and Grill\",\"Justino's Pizzeria Pizzeria\",\"Joe's Pizzeria & Restaurant\",\"Hot Fresh Pizza 99c\",\"Gino's\",\"Famous  Calabria Pizza\",\"Roccos Pizzeria\",\"Hi-Class Pizza\",\"Baker's Pizza\",\"Kiss My Slice\",\"99 Cent Fresh Hot Pizza\"],\"lat\":[40.68616,40.67435,40.70684,40.680199,40.70373,40.70453082,40.7183175,40.65691,40.57914,40.7518124,40.69909,40.70103,40.69088,40.70883,40.67869,40.71885,40.71067473,40.7116825,40.692128,40.72538,40.7294399,40.75576,40.69232],\"legendgroup\":\"\",\"lon\":[-73.82553,-74.0071,-73.78983,-73.845768,-73.79706,-73.79679273,-73.8727355,-74.00143,-73.83702,-73.9743737,-73.9147,-73.76505,-73.76194,-74.00531,-73.86793,-74.00036,-73.99656346,-73.9995925,-73.94570415,-73.72167,-73.98125,-73.99052,-73.98696],\"marker\":{\"color\":[3.0,2.0,2.0,2.75,1.5,3.25,2.75,2.25,2.75,1.0,2.0,2.0,2.0,2.75,2.5,1.0,2.0,3.0,2.75,2.75,3.0,2.75,1.0],\"coloraxis\":\"coloraxis\",\"size\":[3.0,2.0,2.0,2.75,1.5,3.25,2.75,2.25,2.75,1.0,2.0,2.0,2.0,2.75,2.5,1.0,2.0,3.0,2.75,2.75,3.0,2.75,1.0],\"sizemode\":\"area\",\"sizeref\":0.0125},\"mode\":\"markers\",\"name\":\"\",\"showlegend\":false,\"subplot\":\"mapbox\",\"type\":\"scattermapbox\"}],\"name\":\"2019\"},{\"data\":[{\"hovertemplate\":\"\\u003cb\\u003e%{hovertext}\\u003c\\u002fb\\u003e\\u003cbr\\u003e\\u003cbr\\u003eYear=2020\\u003cbr\\u003ePrice as number=%{marker.color}\\u003cbr\\u003elocation_lat=%{lat}\\u003cbr\\u003elocation_lng=%{lon}\\u003cextra\\u003e\\u003c\\u002fextra\\u003e\",\"hovertext\":[\"Tony's Pizzeria\",\"Pronto Pizza\",\"99\\u00a2 Fresh Pizza & Hot Dog\",\"La Mia Pizzeria & Restaurant\",\"Sam's Pizza\",\"Pizza2Go\",\"Italian Affair\",\"P & M Pizza & Restaurant\",\"Wholesome Garden Pizza\",\"Joe's Pizzeria\",\"Pizza Central of Brooklyn\",\"A & S Pizzeria\",\"Ciros Pizza 116st\",\"Woodhaven Cafe Pizzeria\",\"Cheeze Louiez\",\"Gino's Pizza Farockaway Queens NY\",\"JM Pizza\",\"Elegante\",\"Family Pizza\",\"Famous NY Pizza\",\"Beach Channel Pizza\",\"Star 99\\u00a2 Pizza\",\"Pizza D'Amore\",\"Joe's Pizza By The Sea\",\"Joe & Sal's Pizza Fort Greene\",\"Marios Chicken Pizza & Grill\",\"Pizza's San Miguel\"],\"lat\":[40.637601,40.6894599,40.72694509999999,40.7330887,40.87939,40.80486,40.72201222,40.82618,40.82611648,40.65863,40.63114,40.64401,40.57914,40.680109,40.701064,40.60337636,40.596594,40.58619,40.65585,40.6377231,40.597955,40.71807,40.5801496,40.5875839,40.69332939,40.6027254,40.63886],\"legendgroup\":\"\",\"lon\":[-73.919525,-73.99233,-73.98311679999999,-73.9902141,-73.90601,-73.93816,-73.73004226,-73.9467,-73.95094532,-73.98171,-73.97703,-74.0776,-73.83702,-73.844141,-73.94123,-73.75302557,-73.754904,-73.81542,-73.96008,-74.0873695,-73.766132,-73.98586,-73.8370727,-73.8127052,-73.97220254,-73.7503447,-73.96888],\"marker\":{\"color\":[2.5,2.5,1.0,2.75,3.0,1.0,2.25,2.5,2.5,2.75,2.75,2.0,2.75,1.0,2.75,2.5,2.5,3.0,2.75,2.0,2.25,1.0,2.5,2.5,2.75,2.0,2.0],\"coloraxis\":\"coloraxis\",\"size\":[2.5,2.5,1.0,2.75,3.0,1.0,2.25,2.5,2.5,2.75,2.75,2.0,2.75,1.0,2.75,2.5,2.5,3.0,2.75,2.0,2.25,1.0,2.5,2.5,2.75,2.0,2.0],\"sizemode\":\"area\",\"sizeref\":0.0125},\"mode\":\"markers\",\"name\":\"\",\"showlegend\":false,\"subplot\":\"mapbox\",\"type\":\"scattermapbox\"}],\"name\":\"2020\"},{\"data\":[{\"hovertemplate\":\"\\u003cb\\u003e%{hovertext}\\u003c\\u002fb\\u003e\\u003cbr\\u003e\\u003cbr\\u003eYear=2021\\u003cbr\\u003ePrice as number=%{marker.color}\\u003cbr\\u003elocation_lat=%{lat}\\u003cbr\\u003elocation_lng=%{lon}\\u003cextra\\u003e\\u003c\\u002fextra\\u003e\",\"hovertext\":[\"Gianni Pizza of Jackson Heights\",\"Gianni Pizza of Jackson Heights\",\"Table 87 Coal Oven Pizza\",\"Brothers pizza shop\",\"Tony Gs Pizza\",\"D'Angelo's Pizzeria\",\"Euro Pizza\",\"PG Pizza\",\"Upside Pizza\",\"Slice of Harlem Pizzeria\",\"Lennys Pizza\",\"Royal Pizzeria Restaurant Inc\",\"Joe's Pizza & Pasta\",\"Pizza Place\",\"Pizza Place\",\"Angies Cafe & Pizza\",\"Pizza Amore\",\"Landy's Pizzeria\",\"La Sorrentina Restaurant\",\"Pizza D'Amore\",\"Tigre's Pizza\",\"Frank's Bay Pizza\",\"La Bona Pizza & Pasta\",\"PG Pizza\",\"Mario's Pizza\",\"Margherita Pizza Inc.\",\"Tony's Pizza\",\"Bambinos Express\",\"620 On Caton Pizzeria \",\"Belmora Pizza & Restaurant\",\"Sunset Park Pizza\",\"Giovanni S Pizza\",\"Sacco Pizza\",\"Gino's of Broadway\",\"Casabianca Family Italian Ristorante & Pizzeria\",\"Hank's Pizza\",\"Hank's Pizza\",\"Enzo & Claudio\",\"Joe's Pizza\",\"Pizza Prince\",\"Vito's Slices and Pizza\",\"Papa John's Pizza\",\"Pizza Market\",\"Zazzy's Pizza\",\"Michelangelo's Pizza\",\"Gino's Cucina Brick Oven Pizza\",\"Julie's Pizzeria & Restaurant\",\"Via Ponte Pizzeria\",\"11B Express\",\"NY 99\\u00a2 Fresh Pizza\",\"Norm\\u2019s Pizza\",\"Danny's Pizzeria\",\"San Remo's Pizza\",\"Antonio's Pizzeria & Cafe\",\"Barcklay's Pizza and Pasta\",\"Prima Pizza & Pasta\",\"Baker's Pizza\"],\"lat\":[40.7557169,40.75577,40.6561793,40.86726,40.86708,40.7340393,40.55962148,40.83381,40.7550912,40.81668,40.65099,40.6550694,40.76016292,40.8890631,40.889035,40.81153,40.6505369,40.61735,40.57845,40.61475744,40.84464,40.62484,40.6737,40.82622,40.65763,40.70453082,40.66485,40.7020409,40.64755,40.76095,40.64547,40.83522,40.76623,40.75757009,40.76944,40.7094362,40.7094362,40.7462825,40.71687,40.7237277,40.7545,40.69173293,40.746467,40.7365892,40.63087,40.67522,40.70416,40.5980108,40.727429,40.7332919,40.6931218,40.7220677,40.64081,40.69294,40.6827637,40.7282673,40.7294399],\"legendgroup\":\"\",\"lon\":[-73.8857946,-73.88578,-74.00797374,-73.89639,-73.89603,-73.8497391,-74.1682369,-73.91519,-73.9911494,-73.946594,-73.94882,-73.8877085,-73.73149091,-73.859549,-73.859444,-73.92707,-73.70169729999999,-74.02738,-73.84928,-73.91270424,-73.9073,-74.07934,-73.88283,-73.917751,-73.76724,-73.79679273,-73.92329,-73.9066829,-73.97392,-73.96879,-73.99539,-73.92016,-73.98717,-73.91588521,-73.9889,-74.01202529999999,-74.01202529999999,-73.99367339999999,-73.95892,-73.9504086,-73.9952799,-73.98637801,-73.990096,-74.0013125,-74.12967,-73.9631,-73.9073,-74.0669935,-73.979695,-74.0028356,-73.9889093,-73.9042865,-73.96493,-73.99097,-73.96433830000001,-73.7358585,-73.98125],\"marker\":{\"color\":[3.0,3.0,4.0,2.5,3.0,3.25,3.5,3.0,3.5,3.25,2.5,3.0,3.0,3.25,3.25,2.75,3.0,3.0,3.0,2.75,2.5,2.5,2.75,2.75,3.0,3.5,2.75,2.5,3.0,3.2,2.0,2.0,2.5,2.75,3.0,4.35,3.25,3.27,3.0,3.0,3.0,1.0,1.0,3.27,2.5,3.0,2.0,2.75,3.0,1.0,3.0,2.75,3.0,3.0,2.5,2.75,3.25],\"coloraxis\":\"coloraxis\",\"size\":[3.0,3.0,4.0,2.5,3.0,3.25,3.5,3.0,3.5,3.25,2.5,3.0,3.0,3.25,3.25,2.75,3.0,3.0,3.0,2.75,2.5,2.5,2.75,2.75,3.0,3.5,2.75,2.5,3.0,3.2,2.0,2.0,2.5,2.75,3.0,4.35,3.25,3.27,3.0,3.0,3.0,1.0,1.0,3.27,2.5,3.0,2.0,2.75,3.0,1.0,3.0,2.75,3.0,3.0,2.5,2.75,3.25],\"sizemode\":\"area\",\"sizeref\":0.0125},\"mode\":\"markers\",\"name\":\"\",\"showlegend\":false,\"subplot\":\"mapbox\",\"type\":\"scattermapbox\"}],\"name\":\"2021\"},{\"data\":[{\"hovertemplate\":\"\\u003cb\\u003e%{hovertext}\\u003c\\u002fb\\u003e\\u003cbr\\u003e\\u003cbr\\u003eYear=2022\\u003cbr\\u003ePrice as number=%{marker.color}\\u003cbr\\u003elocation_lat=%{lat}\\u003cbr\\u003elocation_lng=%{lon}\\u003cextra\\u003e\\u003c\\u002fextra\\u003e\",\"hovertext\":[\"Angelo\\u2019s Pizza\",\"Ozone Pizzeria\",\"Pino Pizza\",\"La Rondine\",\"Rony's Fresh Pizza\",\"John & Joe's Pizzeria\",\"Prego's Pizza\",\"N & D Pizza\",\"Peppinos\",\"Roccos Pizzeria\",\"Ciro Pizza Cafe\",\"Baxter Street Pizza\",\"Galleria pizza\",\"Emilio's Pizza\",\"Bella Napoli Pizza & Pasta\",\"Gravesend Pizza\",\"Jojo's Pizza\",\"Pizza Stop\",\"Joe and Johns Pizzeria\",\"Enzo's Pizzeria\",\"On The Run Pizza\",\"DiLeo's Pizzeria\",\"Corona Pizza\",\"iPizza NY\",\"S & S CALABRO PIZZERIA\",\"Sofia Pizza II\",\"Fontana Famous Pizza and Gyro\",\"Austin Street Pizza\",\"Villa Rustica Ristorante & Pizzeria\",\"Domy's Pizza Cafe\",\"Pizza Town\",\"Big John's Pizza - Queens Village NY\",\"Daro's Pizza\",\"Rockys Pizzeria\",\"Luigi's Pizza\",\"The Original Pizza Sam\",\"Sal Pizza\",\"Mama Mia Pizzeria\",\"Spiro's Cafe & Pizza\",\"La Vera Pizza & Restaurant 2447 Broadway New York 10025\",\"Lenny And Johns Pizzeria\",\"My Place Family Pizza\",\"Yankee J-Z Pizza Inc\",\"Circle Pizza\",\"Daisy's Pizza Place Inc\",\"Sam's Famous Pizza 116th\",\"La Loteria Pizzeria\",\"Monte Pizza \",\"Natalie pizza\",\"Rosebank Pizza\",\"Samaria Pizzeria\"],\"lat\":[40.6232544,40.6808917,40.6000148,40.7133354,40.7482509,40.8545616,40.8631291,40.6004632,40.9036613,40.8676344,40.5332892,40.7166726,40.6843262,40.8679105,40.865699,40.6556156,40.6550446,40.8048198,40.7003521,40.6842128,40.5768705,40.610693,40.7434508,40.7608035,40.6249135,40.5989761,40.7575064,40.7195744,40.73996349999999,40.8164641,40.717725,40.7185614,40.7534698,40.6461233,40.57851960000001,40.7560589,40.7045071,40.5965296,40.654758,40.79120080000001,40.6201361,40.8691518,40.8294396,40.8324594,40.81692834,40.798309,40.854174,40.85994,40.7078242,40.61008,40.76566391],\"legendgroup\":\"\",\"lon\":[-73.93792239999999,-73.8426307,-73.9994551,-73.8294102,-73.9923498,-73.86588180000001,-73.8585108,-73.94307239999999,-73.85046679999999,-73.8836046,-74.1927755,-73.9996701,-73.8450002,-73.9004894,-73.864609,-74.0033705,-73.91605059999999,-73.9547643,-73.8994387,-73.8593422,-73.9846206,-74.146137,-73.8547152,-73.9906251,-73.9993503,-73.9372106,-73.7829253,-73.8426559,-73.75824899999999,-73.9027071,-73.99988309999999,-73.7358451,-73.8218842,-73.97110409999999,-73.95800799999999,-73.87854229999999,-73.919242,-73.9939644,-74.004358,-73.9748165,-73.9345585,-73.8896161,-73.87575,-73.8610744,-73.89787505,-73.941632,-73.89900999999999,-73.89395,-73.8030173,-74.06334,-73.93079401],\"marker\":{\"color\":[3.0,3.0,2.75,3.25,1.0,3.5,3.0,3.35,3.0,3.5,2.5,3.81,3.0,3.25,3.0,3.0,3.0,3.0,3.0,3.26,3.0,2.75,3.0,3.76,2.75,2.75,3.25,3.24,3.5,2.75,2.0,2.75,3.0,3.0,3.0,3.27,2.75,3.0,2.75,2.75,3.0,3.0,3.0,3.0,2.5,3.0,3.0,3.0,2.5,3.0,2.75],\"coloraxis\":\"coloraxis\",\"size\":[3.0,3.0,2.75,3.25,1.0,3.5,3.0,3.35,3.0,3.5,2.5,3.81,3.0,3.25,3.0,3.0,3.0,3.0,3.0,3.26,3.0,2.75,3.0,3.76,2.75,2.75,3.25,3.24,3.5,2.75,2.0,2.75,3.0,3.0,3.0,3.27,2.75,3.0,2.75,2.75,3.0,3.0,3.0,3.0,2.5,3.0,3.0,3.0,2.5,3.0,2.75],\"sizemode\":\"area\",\"sizeref\":0.0125},\"mode\":\"markers\",\"name\":\"\",\"showlegend\":false,\"subplot\":\"mapbox\",\"type\":\"scattermapbox\"}],\"name\":\"2022\"},{\"data\":[{\"hovertemplate\":\"\\u003cb\\u003e%{hovertext}\\u003c\\u002fb\\u003e\\u003cbr\\u003e\\u003cbr\\u003eYear=2023\\u003cbr\\u003ePrice as number=%{marker.color}\\u003cbr\\u003elocation_lat=%{lat}\\u003cbr\\u003elocation_lng=%{lon}\\u003cextra\\u003e\\u003c\\u002fextra\\u003e\",\"hovertext\":[\"Tommy's Pizzeria\",\"99\\u00a2 Pizza\",\"Family Pizza\",\"Elegante Pizzeria\",\"Joe's Pizza\",\"Federico\\u2019s Pizza\",\"L&B Spumoni Gardens\",\"Lona's Pizza\",\"Tony's Pizza\",\"Joe's Pizza Maspeth\",\"Bad Boys Pizza\",\"Sal's Pizzeria of Woodhaven\",\"Alfie's Pizza\",\"LaBella Pizza Express\",\"Margherita Pizza\",\"Romeo's Pizzeria\",\"Xochil Pizzeria\",\"Brothers pizza shop\",\"Mr Phil's Pizza\",\"Dominick's Pizzeria\",\"Lennys Pizza\",\"Emilio's Pizza\",\"Tommy's Pizzeria\",\"Gloria Pizza\",\"Ganni's Pizzeria\",\"The Original Napoli Pizza\"],\"lat\":[40.8195619,40.7516553,40.6558571,40.7771823,40.7168969,40.6005149,40.5947473,40.8714851,40.8931878,40.7212143,40.6005149,40.6926899,40.6998404,40.6018196,40.7046291,40.6817612,40.7771823,40.8673139,40.617892,40.637755,40.7573398,40.8243207,40.8195619,40.720763,40.6942132,40.8468605],\"legendgroup\":\"\",\"lon\":[-73.8172086,-73.9904349,-73.9601721,-73.9635973,-73.9589576,-73.9909572,-73.9813043,-73.8769085,-73.8575829,-73.9033878,-73.9909572,-73.8587752,-73.8328891,-73.9936774,-73.7962887,-73.8370245,-73.9635973,-73.8963339,-73.9995883,-74.007206,-73.978476,-73.8198968,-73.8172086,-73.8432629,-73.9578108,-73.8963089],\"marker\":{\"color\":[3.0,1.0,3.0,3.25,4.0,3.25,4.0,3.5,3.5,3.0,3.0,3.0,2.5,3.0,3.75,3.0,3.0,3.5,3.0,3.0,3.0,3.5,3.0,3.5,3.0,3.5],\"coloraxis\":\"coloraxis\",\"size\":[3.0,1.0,3.0,3.25,4.0,3.25,4.0,3.5,3.5,3.0,3.0,3.0,2.5,3.0,3.75,3.0,3.0,3.5,3.0,3.0,3.0,3.5,3.0,3.5,3.0,3.5],\"sizemode\":\"area\",\"sizeref\":0.0125},\"mode\":\"markers\",\"name\":\"\",\"showlegend\":false,\"subplot\":\"mapbox\",\"type\":\"scattermapbox\"}],\"name\":\"2023\"},{\"data\":[{\"hovertemplate\":\"\\u003cb\\u003e%{hovertext}\\u003c\\u002fb\\u003e\\u003cbr\\u003e\\u003cbr\\u003eYear=2024\\u003cbr\\u003ePrice as number=%{marker.color}\\u003cbr\\u003elocation_lat=%{lat}\\u003cbr\\u003elocation_lng=%{lon}\\u003cextra\\u003e\\u003c\\u002fextra\\u003e\",\"hovertext\":[\"Bravo Kosher Pizza\"],\"lat\":[40.6898043],\"legendgroup\":\"\",\"lon\":[-73.9220436],\"marker\":{\"color\":[4.0],\"coloraxis\":\"coloraxis\",\"size\":[4.0],\"sizemode\":\"area\",\"sizeref\":0.0125},\"mode\":\"markers\",\"name\":\"\",\"showlegend\":false,\"subplot\":\"mapbox\",\"type\":\"scattermapbox\"}],\"name\":\"2024\"}]);\n",
       "                        }).then(function(){\n",
       "                            \n",
       "var gd = document.getElementById('b7684251-adfb-4855-ac52-1ac216b376e9');\n",
       "var x = new MutationObserver(function (mutations, observer) {{\n",
       "        var display = window.getComputedStyle(gd).display;\n",
       "        if (!display || display === 'none') {{\n",
       "            console.log([gd, 'removed!']);\n",
       "            Plotly.purge(gd);\n",
       "            observer.disconnect();\n",
       "        }}\n",
       "}});\n",
       "\n",
       "// Listen for the removal of the full notebook cells\n",
       "var notebookContainer = gd.closest('#notebook-container');\n",
       "if (notebookContainer) {{\n",
       "    x.observe(notebookContainer, {childList: true});\n",
       "}}\n",
       "\n",
       "// Listen for the clearing of the current output cell\n",
       "var outputEl = gd.closest('.output');\n",
       "if (outputEl) {{\n",
       "    x.observe(outputEl, {childList: true});\n",
       "}}\n",
       "\n",
       "                        })                };                });            </script>        </div>"
      ]
     },
     "metadata": {},
     "output_type": "display_data"
    }
   ],
   "source": [
    "#| label: heatmap_w_slider\n",
    "\n",
    "# Assuming you have a DataFrame named nyp\n",
    "# Replace 'nyp' with your actual DataFrame\n",
    "\n",
    "# Filter the DataFrame for 'Plain' style\n",
    "plain_pizza_nyp = nyp[nyp['Style'] == 'Plain']\n",
    "\n",
    "# Set the correct order of years\n",
    "year_order = sorted(plain_pizza_nyp['Year'].unique())\n",
    "\n",
    "# Create a geospatial heatmap with slider for plain pizza prices using Plotly Express\n",
    "fig = px.scatter_mapbox(\n",
    "    plain_pizza_nyp,\n",
    "    lat='location_lat',\n",
    "    lon='location_lng',\n",
    "    size='Price as number',  # Use the 'Price' column for marker size\n",
    "    color='Price as number',  # Use the 'Price' column for color intensity\n",
    "    height=1000,\n",
    "    hover_name='Name',  # Display restaurant names on hover\n",
    "    animation_frame='Year',  # Use the 'Year' column for animation\n",
    "    range_color=(plain_pizza_nyp['Price as number'].min(), plain_pizza_nyp['Price as number'].max()),  # Set the color range\n",
    "    zoom=10,  # Adjust the initial zoom level\n",
    "    mapbox_style='carto-positron',  # Choose the map style (you can explore other styles)\n",
    "    title='Plain Pizza Slice Prices in NYC',\n",
    "    category_orders={'Year': year_order}  # Set the order of years in the slider\n",
    ")\n",
    "\n",
    "# Customize the appearance\n",
    "fig.update_layout(\n",
    "    mapbox=dict(\n",
    "        accesstoken='pk.eyJ1IjoicG1qdGVybSIsImEiOiJjbHJwNnE0YTAwMmw2MmptdGZodDU3cTJ2In0.g4wJH64HhHsTViH9hZlINA',  # Replace with your Mapbox access token\n",
    "        bearing=0,\n",
    "        pitch=0\n",
    "    )\n",
    ")\n",
    "\n",
    "# Show the map\n",
    "fig.show()\n"
   ]
  },
  {
   "cell_type": "code",
   "execution_count": 9,
   "id": "0e9d18c4-4d50-4f13-8e8f-9365fa7aa48b",
   "metadata": {},
   "outputs": [
    {
     "data": {
      "application/vnd.plotly.v1+json": {
       "config": {
        "plotlyServerURL": "https://plot.ly"
       },
       "data": [
        {
         "hovertemplate": "<b>%{hovertext}</b><br><br>Price=%{marker.color}<br>Latitude=%{lat}<br>Longitude=%{lon}<extra></extra>",
         "hovertext": [
          "Tommy's Pizzeria",
          "99¢ Pizza",
          "Family Pizza",
          "Elegante Pizzeria",
          "Joe's Pizza",
          "Federico’s Pizza",
          "L&B Spumoni Gardens",
          "Lona's Pizza",
          "Tony's Pizza",
          "Joe's Pizza Maspeth",
          "Bad Boys Pizza",
          "Sal's Pizzeria of Woodhaven",
          "Alfie's Pizza",
          "LaBella Pizza Express",
          "Margherita Pizza",
          "Romeo's Pizzeria",
          "Xochil Pizzeria",
          "Brothers pizza shop",
          "Mr Phil's Pizza",
          "Dominick's Pizzeria",
          "Lennys Pizza",
          "Emilio's Pizza",
          "Tommy's Pizzeria",
          "Gloria Pizza",
          "Ganni's Pizzeria",
          "The Original Napoli Pizza",
          "Bravo Kosher Pizza",
          "Angelo’s Pizza",
          "Ozone Pizzeria",
          "Pino Pizza",
          "La Rondine",
          "Rony's Fresh Pizza",
          "John & Joe's Pizzeria",
          "Prego's Pizza",
          "N & D Pizza",
          "Peppinos",
          "Roccos Pizzeria",
          "Ciro Pizza Cafe",
          "Baxter Street Pizza",
          "Galleria pizza",
          "Emilio's Pizza",
          "Bella Napoli Pizza & Pasta",
          "Gravesend Pizza",
          "Jojo's Pizza",
          "Pizza Stop",
          "Joe and Johns Pizzeria",
          "Enzo's Pizzeria",
          "On The Run Pizza",
          "DiLeo's Pizzeria",
          "Corona Pizza",
          "iPizza NY",
          "S & S CALABRO PIZZERIA",
          "Sofia Pizza II",
          "Fontana Famous Pizza and Gyro",
          "Austin Street Pizza",
          "Villa Rustica Ristorante & Pizzeria",
          "Domy's Pizza Cafe",
          "Pizza Town",
          "Big John's Pizza - Queens Village NY",
          "Daro's Pizza",
          "Rockys Pizzeria",
          "Luigi's Pizza",
          "The Original Pizza Sam",
          "Sal Pizza",
          "Mama Mia Pizzeria",
          "Spiro's Cafe & Pizza",
          "La Vera Pizza & Restaurant 2447 Broadway New York 10025",
          "Lenny And Johns Pizzeria",
          "My Place Family Pizza",
          "Yankee J-Z Pizza Inc",
          "Circle Pizza",
          "Daisy's Pizza Place Inc",
          "Sam's Famous Pizza 116th",
          "La Loteria Pizzeria",
          "Monte Pizza ",
          "Natalie pizza",
          "Rosebank Pizza",
          "Samaria Pizzeria",
          "Gianni Pizza of Jackson Heights",
          "Gianni Pizza of Jackson Heights",
          "Table 87 Coal Oven Pizza",
          "Brothers pizza shop",
          "Tony Gs Pizza",
          "D'Angelo's Pizzeria",
          "Euro Pizza",
          "PG Pizza",
          "Upside Pizza",
          "Slice of Harlem Pizzeria",
          "Lennys Pizza",
          "Royal Pizzeria Restaurant Inc",
          "Joe's Pizza & Pasta",
          "Pizza Place",
          "Pizza Place",
          "Angies Cafe & Pizza",
          "Pizza Amore",
          "Landy's Pizzeria",
          "La Sorrentina Restaurant",
          "Pizza D'Amore",
          "Tigre's Pizza",
          "Frank's Bay Pizza",
          "La Bona Pizza & Pasta",
          "PG Pizza",
          "Mario's Pizza",
          "Margherita Pizza Inc.",
          "Tony's Pizza",
          "Bambinos Express",
          "620 On Caton Pizzeria ",
          "Belmora Pizza & Restaurant",
          "Sunset Park Pizza",
          "Giovanni S Pizza",
          "Sacco Pizza",
          "Gino's of Broadway",
          "Casabianca Family Italian Ristorante & Pizzeria",
          "Hank's Pizza",
          "Hank's Pizza",
          "Enzo & Claudio",
          "Joe's Pizza",
          "Pizza Prince",
          "Vito's Slices and Pizza",
          "Papa John's Pizza",
          "Pizza Market",
          "Zazzy's Pizza",
          "Michelangelo's Pizza",
          "Gino's Cucina Brick Oven Pizza",
          "Julie's Pizzeria & Restaurant",
          "Via Ponte Pizzeria",
          "11B Express",
          "NY 99¢ Fresh Pizza",
          "Norm’s Pizza",
          "Danny's Pizzeria",
          "San Remo's Pizza",
          "Antonio's Pizzeria & Cafe",
          "Barcklay's Pizza and Pasta",
          "Prima Pizza & Pasta",
          "Baker's Pizza",
          "Tony's Pizzeria",
          "Pronto Pizza",
          "99¢ Fresh Pizza & Hot Dog",
          "La Mia Pizzeria & Restaurant",
          "Sam's Pizza",
          "Pizza2Go",
          "Italian Affair",
          "P & M Pizza & Restaurant",
          "Wholesome Garden Pizza",
          "Joe's Pizzeria",
          "Pizza Central of Brooklyn",
          "A & S Pizzeria",
          "Ciros Pizza 116st",
          "Woodhaven Cafe Pizzeria",
          "Cheeze Louiez",
          "Gino's Pizza Farockaway Queens NY",
          "JM Pizza",
          "Elegante",
          "Family Pizza",
          "Famous NY Pizza",
          "Beach Channel Pizza",
          "Star 99¢ Pizza",
          "Pizza D'Amore",
          "Joe's Pizza By The Sea",
          "Joe & Sal's Pizza Fort Greene",
          "Marios Chicken Pizza & Grill",
          "Pizza's San Miguel",
          "Tommy's Pizza",
          "Big Daddy's Pizza",
          "Bella Pizza Inc",
          "Tipsy Tomato Pizzeria",
          "Unique Bazaar Jamaica NY",
          "Margherita Pizza Inc",
          "Harbor Pizzeria",
          "Slice of Brooklyn",
          "Ciros Pizza",
          "99c Fresh Pizza",
          "Mangiamo Pizza",
          "Farmers Pizzeria Inc.",
          "Farmers Pizza and Grill",
          "Justino's Pizzeria Pizzeria",
          "Joe's Pizzeria & Restaurant",
          "Hot Fresh Pizza 99c",
          "Gino's",
          "Famous  Calabria Pizza",
          "Roccos Pizzeria",
          "Hi-Class Pizza",
          "Baker's Pizza",
          "Kiss My Slice",
          "99 Cent Fresh Hot Pizza",
          "Kiss My Slice",
          "Springfield & LA Bari Pizza & Restaurant",
          "Margherita Pizza Inc",
          "Vaccaro's Pizzeria & Trattoria",
          "Mario's Pizzeria",
          "Mario's Pizza",
          "Lamici",
          "Alba Pizzeria",
          "Pizza Plus",
          "Am PM Pizza Bagel",
          "Pino's Pizza",
          "Margherita Pizza",
          "Carbo's Pizzeria",
          "Antonio's Pizzeria & Cafe",
          "Rosa's Pizza",
          "2 Bros Pizza",
          "Gotham Pizza",
          "Joey's Pizza",
          "NY Fresh Pizza",
          "Sutton Pizzeria",
          "Little Gio's Pizza",
          "99 Cent Express Pizza",
          "Luigi's Family Italian Ristorante and Pizzeria",
          "Italian Village Pizzeria & Restaurant NYC",
          "Bosa's Pizza of Harlem",
          "Rivoli Pizza II",
          "44st Pizza",
          "Joey Pepperoni's Pizza",
          "Tony's Pizzeria & Restaurant",
          "Villa Mia Pizzeria",
          "New York sal's pizza",
          "Pizza & Pita",
          "Luigi's Gourmet Pizza",
          "Giuseppe's Pizza At St George",
          "Tom's Pizza & Italian Restaurant Inc",
          "Three Brothers 3",
          "Domenick's Pizza",
          "John & Tony's",
          "J&D Pizzeria Restaurant",
          "Lenny's Pizza",
          "Romeo's Pizzeria",
          "Dany's Pizza Restaurant",
          "Cafe Daniellos",
          "Gino's Pizzeria",
          "Armando's Pizza",
          "Aenos Pizza",
          "Luke Pizza",
          "Fresco Pizza & Pasta",
          "Pinos La Forchetta Pizzeria & Restaurant",
          "Roma Pizza",
          "Saba's Pizza NY",
          "Little Italy Pizza",
          "99¢ Pizza",
          "Sal's Pizza Store",
          "Cotta Bene Pizzeria Restaurant",
          "NY Pizza Suprema",
          "Pizza Boy II",
          "Martiniello's Pizzeria",
          "Marabella Pizza",
          "Mark's Pizza",
          "Picasso Pizzeria",
          "Mario's Pizzeria",
          "Milano Pizza Shop",
          "620 Caton Pizzeria",
          "Gotham Pizza",
          "Bella Napoli",
          "Lunetta Pizza & Restaurant",
          "Royal Pizza",
          "Luigi Pizza Restaurant",
          "DJ Pizza",
          "San Remo Pizza",
          "Tony's Original's",
          "Abitino's Trattoria Pizzeria",
          "99 Cents Fresh Pizza",
          "City Slice",
          "Majestic Pizza",
          "Rosetti's Pizza",
          "Sal Pizza",
          "Pizza 33",
          "Yankee Pizza",
          "Primavera Pizza & Pasta",
          "La Bellezza Pizzeria",
          "King Pizza & Pasta",
          "Not Ray's Nick's Pizza Inc",
          "Abitino Pizzeria & Restaurant",
          "Gotham Pizza",
          "Mamma Mia Pizza & Grill",
          "Pizza Park Corp",
          "Papa John's Pizza",
          "Francesco's Pizza",
          "LaRustica Pizza",
          "Pizza Works",
          "Triangle Pizzeria",
          "Joey Pepperoni's Pizza",
          "Stella's Pizza",
          "Patsy's Pizza",
          "Sam's Famous Pizza 116th",
          "Cucina Bene",
          "Melani Pizzeria",
          "La Margarita Pizza",
          "Rosario Pizza Inc",
          "Sal's Pizza and Restaurant",
          "Napoli Pizza",
          "Not Ray's Leo's Pizza",
          "Pizza Boss NYC",
          "Arturo's Italian Restaurant",
          "Lunetta Pizza",
          "Phil's Pizza",
          "Krust Pizza",
          "Mike's Pizza",
          "Susano's Pizzeria Restaurant",
          "East Village Pizza",
          "Famiglia Pizzeria",
          "Stromboli Pizza",
          "Martinellos Pizza",
          "Napoli Pizza and Pasta ",
          "Giuseppe's Pizzeria",
          "Mike's Pizza",
          "Joe's Pizza",
          "Clinton Square Pizza",
          "Barone Pizza",
          "2 Bros Pizza",
          "Nunzio's Pizzeria",
          "Italy Pizza",
          "Pizza & bagel on 3rd",
          "City Island Delicatessan Inc",
          "Wilbel",
          "Dona Bella Pizza",
          "Anna Maria Pizza",
          "Joe's Pizza of The Village",
          "Pizza & Pasta Restaurant",
          "Russ Pizza",
          "Portofino Ristorante Forest Hills, Queens",
          "Pepino Pizzeria",
          "Pizza Town",
          "Pizza Di Napoli",
          "Dani's House of Pizza",
          "Joe's Pizza of The Village",
          "Antonio's Pizzeria & Restaurant",
          "Archie's Pizza ",
          "Corte Cafe Pizza",
          "Little Italy Pizza",
          "Tony's Pizza Spot",
          "2 Bros. Pizza",
          "Artichoke Basille's Pizza - East Village, NYC",
          "Percy's $1 Pizza",
          "Caesar's Palace Pizza",
          "Carmine and Sons",
          "Ginas Pizzeria",
          "Norberts Pizza",
          "Francos Pizza",
          "Vinny vincenz Pizza",
          "$1.00 Pizza",
          "Smiling Pizza",
          "Danny's Pizza II",
          "Iggy's Pizzeria",
          "Gotham Pizza NYC",
          "Nina's Restaurant & Pizzeria",
          "99c Fresh Pizza",
          "Milly's Pizza",
          "Little Gio's Pizza",
          "Two Boots Pizza",
          "Two Grandpa's Pizza",
          "Samaria Pizzeria",
          "Crispy Pizza",
          "Fdr 99 Cent Slice Pizza",
          "Neighborhood Pizza",
          "Norberts Pizza",
          "Pranzo",
          "IL Porto: Brick Oven Pizza and Ristorante",
          "La Traviata Pizzeria",
          "Little Italy Pizza III",
          "Williamsburg Pizza LES",
          "Mariella Pizza",
          "Pizza Pasta Restaurant",
          "Tom's Delicious Pizza",
          "Makkah Pizza",
          "Best Pizza of 1st Avenue",
          "99 Cents Famous Pizza",
          "Mike's Pizza",
          "Bergen Pizza",
          "Douma",
          "Brooklyn Harvest Market",
          "Williamsburg Pizza LES",
          "Lower East Side Pizza",
          "Bosco Pizza",
          "Norberts Pizza",
          "Liberty Pizza",
          "Angelica Pizzeria & Restaurant",
          "Domenico's Pizza & Pasta, Amboy Road",
          "Luigi Pizzeria",
          "Dee's & L Pizza Plus",
          "L&B Spumoni Gardens",
          "Roccos Pizza Joint",
          "Cafe Au Lee",
          "Ani Pizza Palace",
          "Cozzi Pizza",
          "Pronto Pizza",
          "La Rondine",
          "Williamsburg Pizza",
          "Coffee break",
          "Sunnyside Pizza",
          "Di Fara Pizza",
          "New Park Pizza",
          "Muzzarella Pizza",
          "Domenick's Pizza ",
          "Goodfellas Pizzeria & Italian Restaurant",
          "South Shore Pizza",
          "Margherita Pizza Inc",
          "Ray's Bagel Café & Pizza",
          "Champion Pizza",
          "East Side Brick Oven Pizza",
          "Pisa Pizzeria",
          "Two Boots to Go-Go",
          "Triangolo Pizzeria",
          "Luigi's Pizza",
          "Royal Pizza Myrtle Ave",
          "Ganni's Pizza",
          "Rocco Pizza",
          "Roebling Pizza",
          "Pizza Mercato Waverly",
          "Prince St. Pizza",
          "Village Pizza",
          "69 pizzeria",
          "Fdr 99 Cent Slice Pizza",
          "Alphonso's Pizzeria & Trattoria - Pizza Shack",
          "Mimi's Pizza",
          "Luna Pizza",
          "Joe's Pizza",
          "Carmine's Original Pizza",
          "2 Bros. Pizza",
          "Cassiano's Pizza",
          "Best Pizza",
          "Tony's Pizza",
          "Bleecker Street Pizza",
          "Chai Pizza Sushi Cafe",
          "Alphonso's Pizzeria & Trattoria - Pizza Shack",
          "Frank's Pizza",
          "Bona Pizza"
         ],
         "lat": [
          40.8195619,
          40.7516553,
          40.6558571,
          40.7771823,
          40.7168969,
          40.6005149,
          40.5947473,
          40.8714851,
          40.8931878,
          40.7212143,
          40.6005149,
          40.6926899,
          40.6998404,
          40.6018196,
          40.7046291,
          40.6817612,
          40.7771823,
          40.8673139,
          40.617892,
          40.637755,
          40.7573398,
          40.8243207,
          40.8195619,
          40.720763,
          40.6942132,
          40.8468605,
          40.6898043,
          40.6232544,
          40.6808917,
          40.6000148,
          40.7133354,
          40.7482509,
          40.8545616,
          40.8631291,
          40.6004632,
          40.9036613,
          40.8676344,
          40.5332892,
          40.7166726,
          40.6843262,
          40.8679105,
          40.865699,
          40.6556156,
          40.6550446,
          40.8048198,
          40.7003521,
          40.6842128,
          40.5768705,
          40.610693,
          40.7434508,
          40.7608035,
          40.6249135,
          40.5989761,
          40.7575064,
          40.7195744,
          40.73996349999999,
          40.8164641,
          40.717725,
          40.7185614,
          40.7534698,
          40.6461233,
          40.57851960000001,
          40.7560589,
          40.7045071,
          40.5965296,
          40.654758,
          40.79120080000001,
          40.6201361,
          40.8691518,
          40.8294396,
          40.8324594,
          40.81692834,
          40.798309,
          40.854174,
          40.85994,
          40.7078242,
          40.61008,
          40.76566391,
          40.7557169,
          40.75577,
          40.6561793,
          40.86726,
          40.86708,
          40.7340393,
          40.55962148,
          40.83381,
          40.7550912,
          40.81668,
          40.65099,
          40.6550694,
          40.76016292,
          40.8890631,
          40.889035,
          40.81153,
          40.6505369,
          40.61735,
          40.57845,
          40.61475744,
          40.84464,
          40.62484,
          40.6737,
          40.82622,
          40.65763,
          40.70453082,
          40.66485,
          40.7020409,
          40.64755,
          40.76095,
          40.64547,
          40.83522,
          40.76623,
          40.75757009,
          40.76944,
          40.7094362,
          40.7094362,
          40.7462825,
          40.71687,
          40.7237277,
          40.7545,
          40.69173293,
          40.746467,
          40.7365892,
          40.63087,
          40.67522,
          40.70416,
          40.5980108,
          40.727429,
          40.7332919,
          40.6931218,
          40.7220677,
          40.64081,
          40.69294,
          40.6827637,
          40.7282673,
          40.7294399,
          40.637601,
          40.6894599,
          40.72694509999999,
          40.7330887,
          40.87939,
          40.80486,
          40.72201222,
          40.82618,
          40.82611648,
          40.65863,
          40.63114,
          40.64401,
          40.57914,
          40.680109,
          40.701064,
          40.60337636,
          40.596594,
          40.58619,
          40.65585,
          40.6377231,
          40.597955,
          40.71807,
          40.5801496,
          40.5875839,
          40.69332939,
          40.6027254,
          40.63886,
          40.68616,
          40.67435,
          40.70684,
          40.680199,
          40.70373,
          40.70453082,
          40.7183175,
          40.65691,
          40.57914,
          40.7518124,
          40.69909,
          40.70103,
          40.69088,
          40.70883,
          40.67869,
          40.71885,
          40.71067473,
          40.7116825,
          40.692128,
          40.72538,
          40.7294399,
          40.75576,
          40.69232,
          40.75576,
          40.6744308,
          40.70453082,
          40.72795,
          40.66489,
          40.65763,
          40.6635174,
          40.7093836,
          40.80188,
          40.62614,
          40.6009756,
          40.7043939,
          40.86262,
          40.69294,
          40.71221,
          40.75695,
          40.73214,
          40.7262164,
          40.7651482,
          40.76183,
          40.72374,
          40.75024,
          40.77843,
          40.77149,
          40.802747,
          40.7332899,
          40.75202,
          40.740868,
          40.6992,
          40.66949,
          40.7637799,
          40.74385051,
          40.76559,
          40.64222552,
          40.69498,
          40.680423,
          40.6781657,
          40.76042052,
          40.67429,
          40.65064377,
          40.6739049,
          40.690672,
          40.75882,
          40.65234,
          40.610228,
          40.83679,
          40.8293304,
          40.8142087,
          40.67133,
          40.7803,
          40.77711,
          40.77856,
          40.69244206,
          40.68361,
          40.67686,
          40.75014,
          40.74552183,
          40.74885,
          40.74031,
          40.67882,
          40.71021,
          40.68346,
          40.79684,
          40.64755,
          40.74381,
          40.7451099,
          40.73721,
          40.74875,
          40.74674,
          40.74645,
          40.70031,
          40.63829,
          40.7546051,
          40.7331,
          40.7654294,
          40.7100713,
          40.7238,
          40.70445869,
          40.74505,
          40.7267,
          40.75699,
          40.71573018,
          40.68283,
          40.68606,
          40.74819,
          40.7699814,
          40.78022,
          40.7644499,
          40.71690571,
          40.775197,
          40.7841781,
          40.78761,
          40.79057,
          40.740868,
          40.74297,
          40.79714493,
          40.79844,
          40.70596,
          40.71904,
          40.7213955,
          40.72159,
          40.87531,
          40.87321,
          40.57535,
          40.77174,
          40.77543,
          40.77532,
          40.72914,
          40.73320627,
          40.7384851,
          40.7032122,
          40.72817548,
          40.73087,
          40.72777302,
          40.704277,
          40.7571861,
          40.7496969,
          40.65538,
          40.73331,
          40.71404706,
          40.7589362,
          40.75471,
          40.57794,
          40.7278729,
          40.66439,
          40.852584,
          40.81289,
          40.71502562,
          40.71796,
          40.667662,
          40.7042832,
          40.72646,
          40.71915,
          40.745328,
          40.68002,
          40.701088,
          40.70894,
          40.6717637,
          40.6769775,
          40.6998074,
          40.7138612,
          40.6982,
          40.69047,
          40.73111,
          40.73209,
          40.72919,
          40.7860815,
          40.7149322,
          40.65103,
          40.69661,
          40.67279,
          40.73113,
          40.6803986,
          40.6668856,
          40.70769661,
          40.72925,
          40.76302,
          40.72236,
          40.75814,
          40.69911,
          40.72374,
          40.7237135,
          40.84780692,
          40.76566391,
          40.64457051,
          40.72299,
          40.66023,
          40.69661,
          40.70331,
          40.6974427,
          40.77505,
          40.734771,
          40.71822,
          40.73507,
          40.7042832,
          40.8148961,
          40.81876,
          40.75796,
          40.73061,
          40.6958,
          40.680524,
          40.72254,
          40.70677704,
          40.71822,
          40.713945,
          40.692845,
          40.69661,
          40.69334,
          40.68789,
          40.5256981,
          40.68965,
          40.67385512,
          40.59467782,
          40.7422899,
          40.70224,
          40.76631,
          40.70377,
          40.64055,
          40.7132665,
          40.707952,
          40.69473,
          40.7440727,
          40.62508413,
          40.663039,
          40.73021,
          40.7051442,
          40.88705436,
          40.622787,
          40.70453082,
          40.72929,
          40.71962375,
          40.7671973,
          40.70139127,
          40.72642453,
          40.73364,
          40.66163,
          40.6997372,
          40.69428,
          40.69211,
          40.70859,
          40.730121,
          40.723,
          40.73925,
          40.737014,
          40.72299,
          40.714338,
          40.7786199,
          40.71350162,
          40.7306597,
          40.72555137,
          40.75654884,
          40.7594817,
          40.71561,
          40.71505399999999,
          40.73226681,
          40.6977,
          40.714338,
          40.61772,
          40.64097667
         ],
         "legendgroup": "",
         "lon": [
          -73.8172086,
          -73.9904349,
          -73.9601721,
          -73.9635973,
          -73.9589576,
          -73.9909572,
          -73.9813043,
          -73.8769085,
          -73.8575829,
          -73.9033878,
          -73.9909572,
          -73.8587752,
          -73.8328891,
          -73.9936774,
          -73.7962887,
          -73.8370245,
          -73.9635973,
          -73.8963339,
          -73.9995883,
          -74.007206,
          -73.978476,
          -73.8198968,
          -73.8172086,
          -73.8432629,
          -73.9578108,
          -73.8963089,
          -73.9220436,
          -73.93792239999999,
          -73.8426307,
          -73.9994551,
          -73.8294102,
          -73.9923498,
          -73.86588180000001,
          -73.8585108,
          -73.94307239999999,
          -73.85046679999999,
          -73.8836046,
          -74.1927755,
          -73.9996701,
          -73.8450002,
          -73.9004894,
          -73.864609,
          -74.0033705,
          -73.91605059999999,
          -73.9547643,
          -73.8994387,
          -73.8593422,
          -73.9846206,
          -74.146137,
          -73.8547152,
          -73.9906251,
          -73.9993503,
          -73.9372106,
          -73.7829253,
          -73.8426559,
          -73.75824899999999,
          -73.9027071,
          -73.99988309999999,
          -73.7358451,
          -73.8218842,
          -73.97110409999999,
          -73.95800799999999,
          -73.87854229999999,
          -73.919242,
          -73.9939644,
          -74.004358,
          -73.9748165,
          -73.9345585,
          -73.8896161,
          -73.87575,
          -73.8610744,
          -73.89787505,
          -73.941632,
          -73.89900999999999,
          -73.89395,
          -73.8030173,
          -74.06334,
          -73.93079401,
          -73.8857946,
          -73.88578,
          -74.00797374,
          -73.89639,
          -73.89603,
          -73.8497391,
          -74.1682369,
          -73.91519,
          -73.9911494,
          -73.946594,
          -73.94882,
          -73.8877085,
          -73.73149091,
          -73.859549,
          -73.859444,
          -73.92707,
          -73.70169729999999,
          -74.02738,
          -73.84928,
          -73.91270424,
          -73.9073,
          -74.07934,
          -73.88283,
          -73.917751,
          -73.76724,
          -73.79679273,
          -73.92329,
          -73.9066829,
          -73.97392,
          -73.96879,
          -73.99539,
          -73.92016,
          -73.98717,
          -73.91588521,
          -73.9889,
          -74.01202529999999,
          -74.01202529999999,
          -73.99367339999999,
          -73.95892,
          -73.9504086,
          -73.9952799,
          -73.98637801,
          -73.990096,
          -74.0013125,
          -74.12967,
          -73.9631,
          -73.9073,
          -74.0669935,
          -73.979695,
          -74.0028356,
          -73.9889093,
          -73.9042865,
          -73.96493,
          -73.99097,
          -73.96433830000001,
          -73.7358585,
          -73.98125,
          -73.919525,
          -73.99233,
          -73.98311679999999,
          -73.9902141,
          -73.90601,
          -73.93816,
          -73.73004226,
          -73.9467,
          -73.95094532,
          -73.98171,
          -73.97703,
          -74.0776,
          -73.83702,
          -73.844141,
          -73.94123,
          -73.75302557,
          -73.754904,
          -73.81542,
          -73.96008,
          -74.0873695,
          -73.766132,
          -73.98586,
          -73.8370727,
          -73.8127052,
          -73.97220254,
          -73.7503447,
          -73.96888,
          -73.82553,
          -74.0071,
          -73.78983,
          -73.845768,
          -73.79706,
          -73.79679273,
          -73.8727355,
          -74.00143,
          -73.83702,
          -73.9743737,
          -73.9147,
          -73.76505,
          -73.76194,
          -74.00531,
          -73.86793,
          -74.00036,
          -73.99656346,
          -73.9995925,
          -73.94570415,
          -73.72167,
          -73.98125,
          -73.99052,
          -73.98696,
          -73.99052,
          -73.763588,
          -73.79679273,
          -73.71088,
          -73.73525,
          -73.76724,
          -73.7767928,
          -73.8188509,
          -73.93691,
          -73.97608,
          -74.0005968,
          -73.7971569,
          -73.84324,
          -73.99097,
          -73.90001,
          -73.9935,
          -73.98825,
          -73.8951812,
          -73.9881363,
          -73.96015,
          -73.9879,
          -73.9705,
          -73.94863,
          -73.95309,
          -73.93408819999999,
          -74.00619,
          -73.97376,
          -73.978965,
          -73.91882,
          -73.99285,
          -73.99224,
          -73.97396489,
          -73.98349,
          -74.07674037,
          -73.84286,
          -73.753499,
          -73.8317404,
          -73.9616057,
          -73.87879,
          -73.83810071,
          -73.8434862,
          -73.869665,
          -73.96543,
          -73.95902,
          -73.922216,
          -73.88908,
          -73.8915024,
          -73.9131972,
          -73.9777,
          -73.95312,
          -73.95716,
          -73.95294,
          -73.98670256,
          -73.99514,
          -73.98619,
          -73.99518,
          -73.90555705,
          -73.87086,
          -73.92373,
          -74.01138,
          -74.01649,
          -73.99002,
          -73.93812,
          -73.97392,
          -74.00295,
          -73.99471,
          -73.98395,
          -73.97614,
          -73.99722,
          -73.98026,
          -73.90613,
          -74.07938,
          -73.9685234,
          -73.99955,
          -73.9909294,
          -74.0103149,
          -74.0045899,
          -73.91924267,
          -73.97821,
          -73.97727,
          -73.96722,
          -74.00505157,
          -73.96439,
          -73.97412,
          -73.97363,
          -73.9517212,
          -73.94672,
          -73.95868,
          -73.99038792,
          -73.98069100000001,
          -73.95240489999999,
          -73.94429,
          -73.94277,
          -73.978965,
          -74.00368,
          -73.93479109,
          -73.94157,
          -74.00993,
          -73.98466,
          -73.9874383,
          -73.98857,
          -73.87966,
          -73.87897,
          -73.99409,
          -73.95645,
          -73.94773,
          -73.95631,
          -74.005,
          -73.98586035,
          -73.9806696,
          -73.9080984,
          -73.98514688,
          -73.9923699,
          -73.98541376,
          -73.907211,
          -73.9268541,
          -73.9770222,
          -73.9565,
          -73.98763,
          -73.98719928,
          -73.8296299,
          -73.99186,
          -74.10259,
          -73.9528617,
          -73.99674,
          -73.789134,
          -73.90205,
          -74.00775155,
          -73.95746,
          -73.98741919999999,
          -73.9429234,
          -73.95244,
          -73.83986,
          -73.9033515,
          -73.97786,
          -73.941023,
          -73.83056,
          -73.9838561,
          -73.9725052,
          -73.9284114,
          -74.00388247,
          -73.93769,
          -73.96013,
          -74.00179,
          -73.98391,
          -74.00145,
          -73.9758174,
          -73.9441794,
          -74.00396,
          -73.93491,
          -73.95037,
          -73.98296,
          -73.9495349,
          -73.9813704,
          -73.94348317,
          -73.98434,
          -73.98536,
          -73.94128,
          -73.99234,
          -73.93932,
          -73.9879,
          -73.98498719999999,
          -73.90714388,
          -73.93079401,
          -74.09838494,
          -73.98549,
          -73.8306099,
          -73.93491,
          -74.01069,
          -73.9675197,
          -73.98088,
          -73.992288,
          -73.99123,
          -73.98612,
          -73.9429234,
          -73.9593332,
          -73.9378,
          -73.96295,
          -73.98123,
          -73.94656,
          -73.974394,
          -73.99239,
          -73.95036416,
          -73.99123,
          -73.989104,
          -73.94033,
          -73.93491,
          -73.96604,
          -73.9815799,
          -74.2019284,
          -73.96544,
          -73.79105453,
          -73.98143284,
          -73.99739,
          -73.95586,
          -73.90881,
          -73.94749,
          -74.11611,
          -73.8290606,
          -73.950806,
          -73.9559,
          -73.9240104,
          -73.96155206,
          -73.840549,
          -73.98069,
          -73.80970669999999,
          -73.90423987,
          -73.7435809,
          -73.79679273,
          -73.98965,
          -73.98755917,
          -73.9624705,
          -73.88815017,
          -73.99558888,
          -73.95499,
          -73.99334,
          -73.9082459,
          -73.95783,
          -73.94583,
          -73.96116,
          -73.994108,
          -73.99458,
          -74.00312,
          -73.89564,
          -73.98549,
          -73.981708,
          -73.9529045,
          -73.99854598,
          -74.0021707,
          -73.95147023,
          -73.98080221,
          -73.9682781,
          -73.95352,
          -73.9446961,
          -74.00341905,
          -73.9599099,
          -73.981708,
          -73.93174,
          -73.95627033
         ],
         "marker": {
          "color": [
           3,
           1,
           3,
           3.25,
           4,
           3.25,
           4,
           3.5,
           3.5,
           3,
           3,
           3,
           2.5,
           3,
           3.75,
           3,
           3,
           3.5,
           3,
           3,
           3,
           3.5,
           3,
           3.5,
           3,
           3.5,
           4,
           3,
           3,
           2.75,
           3.25,
           1,
           3.5,
           3,
           3.35,
           3,
           3.5,
           2.5,
           3.81,
           3,
           3.25,
           3,
           3,
           3,
           3,
           3,
           3.26,
           3,
           2.75,
           3,
           3.76,
           2.75,
           2.75,
           3.25,
           3.24,
           3.5,
           2.75,
           2,
           2.75,
           3,
           3,
           3,
           3.27,
           2.75,
           3,
           2.75,
           2.75,
           3,
           3,
           3,
           3,
           2.5,
           3,
           3,
           3,
           2.5,
           3,
           2.75,
           3,
           3,
           4,
           2.5,
           3,
           3.25,
           3.5,
           3,
           3.5,
           3.25,
           2.5,
           3,
           3,
           3.25,
           3.25,
           2.75,
           3,
           3,
           3,
           2.75,
           2.5,
           2.5,
           2.75,
           2.75,
           3,
           3.5,
           2.75,
           2.5,
           3,
           3.2,
           2,
           2,
           2.5,
           2.75,
           3,
           4.35,
           3.25,
           3.27,
           3,
           3,
           3,
           1,
           1,
           3.27,
           2.5,
           3,
           2,
           2.75,
           3,
           1,
           3,
           2.75,
           3,
           3,
           2.5,
           2.75,
           3.25,
           2.5,
           2.5,
           1,
           2.75,
           3,
           1,
           2.25,
           2.5,
           2.5,
           2.75,
           2.75,
           2,
           2.75,
           1,
           2.75,
           2.5,
           2.5,
           3,
           2.75,
           2,
           2.25,
           1,
           2.5,
           2.5,
           2.75,
           2,
           2,
           3,
           2,
           2,
           2.75,
           1.5,
           3.25,
           2.75,
           2.25,
           2.75,
           1,
           2,
           2,
           2,
           2.75,
           2.5,
           1,
           2,
           3,
           2.75,
           2.75,
           3,
           2.75,
           1,
           1,
           2,
           3,
           2.65,
           2.5,
           2.75,
           2.5,
           2.75,
           2,
           2,
           2.5,
           3,
           2.5,
           2.5,
           2.65,
           1,
           2.75,
           2.75,
           1,
           2.75,
           2.25,
           1,
           2.75,
           2.75,
           2,
           3,
           1,
           1,
           2.5,
           2.5,
           2.75,
           2.75,
           2.75,
           2,
           2,
           2,
           2,
           2.95,
           1,
           3,
           2.5,
           2,
           2.75,
           2.25,
           2.45,
           2.25,
           2.5,
           2.25,
           2.75,
           2.5,
           3.25,
           2.75,
           1,
           2.75,
           2.5,
           3,
           2.45,
           1.5,
           2.5,
           2.5,
           3.15,
           1.5,
           2.25,
           2.5,
           2.5,
           2.45,
           2.5,
           2.5,
           2.25,
           2.5,
           2.5,
           2,
           3,
           1,
           2.75,
           2.5,
           2.75,
           2.25,
           3,
           2.25,
           3,
           2.5,
           1.75,
           2.75,
           3,
           2.75,
           2.25,
           2.75,
           1,
           2.85,
           2.75,
           2.75,
           2.25,
           1,
           2.75,
           1.75,
           2.25,
           2.75,
           1.5,
           2,
           2.5,
           2.5,
           2.5,
           2,
           3,
           2.5,
           2.5,
           2.75,
           1,
           2.5,
           1.5,
           2.5,
           2.85,
           2.75,
           1.5,
           2,
           2.75,
           2,
           2.75,
           2,
           2.5,
           1,
           2,
           2.75,
           2.25,
           2.25,
           2.25,
           2.5,
           2.25,
           2.75,
           2,
           2.75,
           2.45,
           2.5,
           2.75,
           1.5,
           3,
           2.75,
           2.75,
           3.5,
           2.5,
           2,
           2.25,
           1,
           4.5,
           1,
           3,
           2.75,
           2.5,
           2,
           2.25,
           1,
           1,
           2.5,
           2.45,
           2.5,
           2.75,
           2.25,
           1,
           2.25,
           2.25,
           2.85,
           2,
           2.25,
           2,
           1,
           2.75,
           2,
           2.5,
           2.75,
           2.71,
           2.75,
           2.75,
           3,
           1,
           2.5,
           2.25,
           2.5,
           1,
           2,
           2.5,
           2.5,
           2,
           2.75,
           2,
           2.25,
           2,
           2.5,
           2,
           2.5,
           2.5,
           2,
           2.5,
           2.75,
           2.75,
           2.5,
           2,
           2.5,
           2.25,
           2.75,
           2.75,
           2.5,
           5,
           2.75,
           2.5,
           2,
           3,
           3,
           3,
           2.75,
           1,
           2.75,
           2.5,
           2.85,
           2.5,
           2.25,
           2.5,
           2.25,
           2.25,
           2.5,
           2.25,
           2.95,
           2.5,
           2.25,
           1,
           2.25,
           3,
           2.75,
           2.75,
           2.25,
           1.09,
           3.05,
           3.25,
           2.75,
           2.75,
           2.75,
           2.25,
           2.55,
           2
          ],
          "coloraxis": "coloraxis",
          "size": [
           3,
           1,
           3,
           3.25,
           4,
           3.25,
           4,
           3.5,
           3.5,
           3,
           3,
           3,
           2.5,
           3,
           3.75,
           3,
           3,
           3.5,
           3,
           3,
           3,
           3.5,
           3,
           3.5,
           3,
           3.5,
           4,
           3,
           3,
           2.75,
           3.25,
           1,
           3.5,
           3,
           3.35,
           3,
           3.5,
           2.5,
           3.81,
           3,
           3.25,
           3,
           3,
           3,
           3,
           3,
           3.26,
           3,
           2.75,
           3,
           3.76,
           2.75,
           2.75,
           3.25,
           3.24,
           3.5,
           2.75,
           2,
           2.75,
           3,
           3,
           3,
           3.27,
           2.75,
           3,
           2.75,
           2.75,
           3,
           3,
           3,
           3,
           2.5,
           3,
           3,
           3,
           2.5,
           3,
           2.75,
           3,
           3,
           4,
           2.5,
           3,
           3.25,
           3.5,
           3,
           3.5,
           3.25,
           2.5,
           3,
           3,
           3.25,
           3.25,
           2.75,
           3,
           3,
           3,
           2.75,
           2.5,
           2.5,
           2.75,
           2.75,
           3,
           3.5,
           2.75,
           2.5,
           3,
           3.2,
           2,
           2,
           2.5,
           2.75,
           3,
           4.35,
           3.25,
           3.27,
           3,
           3,
           3,
           1,
           1,
           3.27,
           2.5,
           3,
           2,
           2.75,
           3,
           1,
           3,
           2.75,
           3,
           3,
           2.5,
           2.75,
           3.25,
           2.5,
           2.5,
           1,
           2.75,
           3,
           1,
           2.25,
           2.5,
           2.5,
           2.75,
           2.75,
           2,
           2.75,
           1,
           2.75,
           2.5,
           2.5,
           3,
           2.75,
           2,
           2.25,
           1,
           2.5,
           2.5,
           2.75,
           2,
           2,
           3,
           2,
           2,
           2.75,
           1.5,
           3.25,
           2.75,
           2.25,
           2.75,
           1,
           2,
           2,
           2,
           2.75,
           2.5,
           1,
           2,
           3,
           2.75,
           2.75,
           3,
           2.75,
           1,
           1,
           2,
           3,
           2.65,
           2.5,
           2.75,
           2.5,
           2.75,
           2,
           2,
           2.5,
           3,
           2.5,
           2.5,
           2.65,
           1,
           2.75,
           2.75,
           1,
           2.75,
           2.25,
           1,
           2.75,
           2.75,
           2,
           3,
           1,
           1,
           2.5,
           2.5,
           2.75,
           2.75,
           2.75,
           2,
           2,
           2,
           2,
           2.95,
           1,
           3,
           2.5,
           2,
           2.75,
           2.25,
           2.45,
           2.25,
           2.5,
           2.25,
           2.75,
           2.5,
           3.25,
           2.75,
           1,
           2.75,
           2.5,
           3,
           2.45,
           1.5,
           2.5,
           2.5,
           3.15,
           1.5,
           2.25,
           2.5,
           2.5,
           2.45,
           2.5,
           2.5,
           2.25,
           2.5,
           2.5,
           2,
           3,
           1,
           2.75,
           2.5,
           2.75,
           2.25,
           3,
           2.25,
           3,
           2.5,
           1.75,
           2.75,
           3,
           2.75,
           2.25,
           2.75,
           1,
           2.85,
           2.75,
           2.75,
           2.25,
           1,
           2.75,
           1.75,
           2.25,
           2.75,
           1.5,
           2,
           2.5,
           2.5,
           2.5,
           2,
           3,
           2.5,
           2.5,
           2.75,
           1,
           2.5,
           1.5,
           2.5,
           2.85,
           2.75,
           1.5,
           2,
           2.75,
           2,
           2.75,
           2,
           2.5,
           1,
           2,
           2.75,
           2.25,
           2.25,
           2.25,
           2.5,
           2.25,
           2.75,
           2,
           2.75,
           2.45,
           2.5,
           2.75,
           1.5,
           3,
           2.75,
           2.75,
           3.5,
           2.5,
           2,
           2.25,
           1,
           4.5,
           1,
           3,
           2.75,
           2.5,
           2,
           2.25,
           1,
           1,
           2.5,
           2.45,
           2.5,
           2.75,
           2.25,
           1,
           2.25,
           2.25,
           2.85,
           2,
           2.25,
           2,
           1,
           2.75,
           2,
           2.5,
           2.75,
           2.71,
           2.75,
           2.75,
           3,
           1,
           2.5,
           2.25,
           2.5,
           1,
           2,
           2.5,
           2.5,
           2,
           2.75,
           2,
           2.25,
           2,
           2.5,
           2,
           2.5,
           2.5,
           2,
           2.5,
           2.75,
           2.75,
           2.5,
           2,
           2.5,
           2.25,
           2.75,
           2.75,
           2.5,
           5,
           2.75,
           2.5,
           2,
           3,
           3,
           3,
           2.75,
           1,
           2.75,
           2.5,
           2.85,
           2.5,
           2.25,
           2.5,
           2.25,
           2.25,
           2.5,
           2.25,
           2.95,
           2.5,
           2.25,
           1,
           2.25,
           3,
           2.75,
           2.75,
           2.25,
           1.09,
           3.05,
           3.25,
           2.75,
           2.75,
           2.75,
           2.25,
           2.55,
           2
          ],
          "sizemode": "area",
          "sizeref": 0.0125
         },
         "mode": "markers",
         "name": "",
         "showlegend": false,
         "subplot": "mapbox",
         "type": "scattermapbox"
        }
       ],
       "layout": {
        "autosize": true,
        "coloraxis": {
         "colorbar": {
          "title": {
           "text": "Price"
          }
         },
         "colorscale": [
          [
           0,
           "#0d0887"
          ],
          [
           0.1111111111111111,
           "#46039f"
          ],
          [
           0.2222222222222222,
           "#7201a8"
          ],
          [
           0.3333333333333333,
           "#9c179e"
          ],
          [
           0.4444444444444444,
           "#bd3786"
          ],
          [
           0.5555555555555556,
           "#d8576b"
          ],
          [
           0.6666666666666666,
           "#ed7953"
          ],
          [
           0.7777777777777778,
           "#fb9f3a"
          ],
          [
           0.8888888888888888,
           "#fdca26"
          ],
          [
           1,
           "#f0f921"
          ]
         ]
        },
        "legend": {
         "itemsizing": "constant",
         "tracegroupgap": 0
        },
        "mapbox": {
         "accesstoken": "pk.eyJ1IjoicG1qdGVybSIsImEiOiJjbHJwNnE0YTAwMmw2MmptdGZodDU3cTJ2In0.g4wJH64HhHsTViH9hZlINA",
         "bearing": 0,
         "center": {
          "lat": 40.15355621571945,
          "lon": -74.78820689036905
         },
         "domain": {
          "x": [
           0,
           1
          ],
          "y": [
           0,
           1
          ]
         },
         "pitch": 0,
         "style": "carto-positron",
         "zoom": 6.167284862671334
        },
        "template": {
         "data": {
          "bar": [
           {
            "error_x": {
             "color": "#2a3f5f"
            },
            "error_y": {
             "color": "#2a3f5f"
            },
            "marker": {
             "line": {
              "color": "#E5ECF6",
              "width": 0.5
             },
             "pattern": {
              "fillmode": "overlay",
              "size": 10,
              "solidity": 0.2
             }
            },
            "type": "bar"
           }
          ],
          "barpolar": [
           {
            "marker": {
             "line": {
              "color": "#E5ECF6",
              "width": 0.5
             },
             "pattern": {
              "fillmode": "overlay",
              "size": 10,
              "solidity": 0.2
             }
            },
            "type": "barpolar"
           }
          ],
          "carpet": [
           {
            "aaxis": {
             "endlinecolor": "#2a3f5f",
             "gridcolor": "white",
             "linecolor": "white",
             "minorgridcolor": "white",
             "startlinecolor": "#2a3f5f"
            },
            "baxis": {
             "endlinecolor": "#2a3f5f",
             "gridcolor": "white",
             "linecolor": "white",
             "minorgridcolor": "white",
             "startlinecolor": "#2a3f5f"
            },
            "type": "carpet"
           }
          ],
          "choropleth": [
           {
            "colorbar": {
             "outlinewidth": 0,
             "ticks": ""
            },
            "type": "choropleth"
           }
          ],
          "contour": [
           {
            "colorbar": {
             "outlinewidth": 0,
             "ticks": ""
            },
            "colorscale": [
             [
              0,
              "#0d0887"
             ],
             [
              0.1111111111111111,
              "#46039f"
             ],
             [
              0.2222222222222222,
              "#7201a8"
             ],
             [
              0.3333333333333333,
              "#9c179e"
             ],
             [
              0.4444444444444444,
              "#bd3786"
             ],
             [
              0.5555555555555556,
              "#d8576b"
             ],
             [
              0.6666666666666666,
              "#ed7953"
             ],
             [
              0.7777777777777778,
              "#fb9f3a"
             ],
             [
              0.8888888888888888,
              "#fdca26"
             ],
             [
              1,
              "#f0f921"
             ]
            ],
            "type": "contour"
           }
          ],
          "contourcarpet": [
           {
            "colorbar": {
             "outlinewidth": 0,
             "ticks": ""
            },
            "type": "contourcarpet"
           }
          ],
          "heatmap": [
           {
            "colorbar": {
             "outlinewidth": 0,
             "ticks": ""
            },
            "colorscale": [
             [
              0,
              "#0d0887"
             ],
             [
              0.1111111111111111,
              "#46039f"
             ],
             [
              0.2222222222222222,
              "#7201a8"
             ],
             [
              0.3333333333333333,
              "#9c179e"
             ],
             [
              0.4444444444444444,
              "#bd3786"
             ],
             [
              0.5555555555555556,
              "#d8576b"
             ],
             [
              0.6666666666666666,
              "#ed7953"
             ],
             [
              0.7777777777777778,
              "#fb9f3a"
             ],
             [
              0.8888888888888888,
              "#fdca26"
             ],
             [
              1,
              "#f0f921"
             ]
            ],
            "type": "heatmap"
           }
          ],
          "heatmapgl": [
           {
            "colorbar": {
             "outlinewidth": 0,
             "ticks": ""
            },
            "colorscale": [
             [
              0,
              "#0d0887"
             ],
             [
              0.1111111111111111,
              "#46039f"
             ],
             [
              0.2222222222222222,
              "#7201a8"
             ],
             [
              0.3333333333333333,
              "#9c179e"
             ],
             [
              0.4444444444444444,
              "#bd3786"
             ],
             [
              0.5555555555555556,
              "#d8576b"
             ],
             [
              0.6666666666666666,
              "#ed7953"
             ],
             [
              0.7777777777777778,
              "#fb9f3a"
             ],
             [
              0.8888888888888888,
              "#fdca26"
             ],
             [
              1,
              "#f0f921"
             ]
            ],
            "type": "heatmapgl"
           }
          ],
          "histogram": [
           {
            "marker": {
             "pattern": {
              "fillmode": "overlay",
              "size": 10,
              "solidity": 0.2
             }
            },
            "type": "histogram"
           }
          ],
          "histogram2d": [
           {
            "colorbar": {
             "outlinewidth": 0,
             "ticks": ""
            },
            "colorscale": [
             [
              0,
              "#0d0887"
             ],
             [
              0.1111111111111111,
              "#46039f"
             ],
             [
              0.2222222222222222,
              "#7201a8"
             ],
             [
              0.3333333333333333,
              "#9c179e"
             ],
             [
              0.4444444444444444,
              "#bd3786"
             ],
             [
              0.5555555555555556,
              "#d8576b"
             ],
             [
              0.6666666666666666,
              "#ed7953"
             ],
             [
              0.7777777777777778,
              "#fb9f3a"
             ],
             [
              0.8888888888888888,
              "#fdca26"
             ],
             [
              1,
              "#f0f921"
             ]
            ],
            "type": "histogram2d"
           }
          ],
          "histogram2dcontour": [
           {
            "colorbar": {
             "outlinewidth": 0,
             "ticks": ""
            },
            "colorscale": [
             [
              0,
              "#0d0887"
             ],
             [
              0.1111111111111111,
              "#46039f"
             ],
             [
              0.2222222222222222,
              "#7201a8"
             ],
             [
              0.3333333333333333,
              "#9c179e"
             ],
             [
              0.4444444444444444,
              "#bd3786"
             ],
             [
              0.5555555555555556,
              "#d8576b"
             ],
             [
              0.6666666666666666,
              "#ed7953"
             ],
             [
              0.7777777777777778,
              "#fb9f3a"
             ],
             [
              0.8888888888888888,
              "#fdca26"
             ],
             [
              1,
              "#f0f921"
             ]
            ],
            "type": "histogram2dcontour"
           }
          ],
          "mesh3d": [
           {
            "colorbar": {
             "outlinewidth": 0,
             "ticks": ""
            },
            "type": "mesh3d"
           }
          ],
          "parcoords": [
           {
            "line": {
             "colorbar": {
              "outlinewidth": 0,
              "ticks": ""
             }
            },
            "type": "parcoords"
           }
          ],
          "pie": [
           {
            "automargin": true,
            "type": "pie"
           }
          ],
          "scatter": [
           {
            "fillpattern": {
             "fillmode": "overlay",
             "size": 10,
             "solidity": 0.2
            },
            "type": "scatter"
           }
          ],
          "scatter3d": [
           {
            "line": {
             "colorbar": {
              "outlinewidth": 0,
              "ticks": ""
             }
            },
            "marker": {
             "colorbar": {
              "outlinewidth": 0,
              "ticks": ""
             }
            },
            "type": "scatter3d"
           }
          ],
          "scattercarpet": [
           {
            "marker": {
             "colorbar": {
              "outlinewidth": 0,
              "ticks": ""
             }
            },
            "type": "scattercarpet"
           }
          ],
          "scattergeo": [
           {
            "marker": {
             "colorbar": {
              "outlinewidth": 0,
              "ticks": ""
             }
            },
            "type": "scattergeo"
           }
          ],
          "scattergl": [
           {
            "marker": {
             "colorbar": {
              "outlinewidth": 0,
              "ticks": ""
             }
            },
            "type": "scattergl"
           }
          ],
          "scattermapbox": [
           {
            "marker": {
             "colorbar": {
              "outlinewidth": 0,
              "ticks": ""
             }
            },
            "type": "scattermapbox"
           }
          ],
          "scatterpolar": [
           {
            "marker": {
             "colorbar": {
              "outlinewidth": 0,
              "ticks": ""
             }
            },
            "type": "scatterpolar"
           }
          ],
          "scatterpolargl": [
           {
            "marker": {
             "colorbar": {
              "outlinewidth": 0,
              "ticks": ""
             }
            },
            "type": "scatterpolargl"
           }
          ],
          "scatterternary": [
           {
            "marker": {
             "colorbar": {
              "outlinewidth": 0,
              "ticks": ""
             }
            },
            "type": "scatterternary"
           }
          ],
          "surface": [
           {
            "colorbar": {
             "outlinewidth": 0,
             "ticks": ""
            },
            "colorscale": [
             [
              0,
              "#0d0887"
             ],
             [
              0.1111111111111111,
              "#46039f"
             ],
             [
              0.2222222222222222,
              "#7201a8"
             ],
             [
              0.3333333333333333,
              "#9c179e"
             ],
             [
              0.4444444444444444,
              "#bd3786"
             ],
             [
              0.5555555555555556,
              "#d8576b"
             ],
             [
              0.6666666666666666,
              "#ed7953"
             ],
             [
              0.7777777777777778,
              "#fb9f3a"
             ],
             [
              0.8888888888888888,
              "#fdca26"
             ],
             [
              1,
              "#f0f921"
             ]
            ],
            "type": "surface"
           }
          ],
          "table": [
           {
            "cells": {
             "fill": {
              "color": "#EBF0F8"
             },
             "line": {
              "color": "white"
             }
            },
            "header": {
             "fill": {
              "color": "#C8D4E3"
             },
             "line": {
              "color": "white"
             }
            },
            "type": "table"
           }
          ]
         },
         "layout": {
          "annotationdefaults": {
           "arrowcolor": "#2a3f5f",
           "arrowhead": 0,
           "arrowwidth": 1
          },
          "autotypenumbers": "strict",
          "coloraxis": {
           "colorbar": {
            "outlinewidth": 0,
            "ticks": ""
           }
          },
          "colorscale": {
           "diverging": [
            [
             0,
             "#8e0152"
            ],
            [
             0.1,
             "#c51b7d"
            ],
            [
             0.2,
             "#de77ae"
            ],
            [
             0.3,
             "#f1b6da"
            ],
            [
             0.4,
             "#fde0ef"
            ],
            [
             0.5,
             "#f7f7f7"
            ],
            [
             0.6,
             "#e6f5d0"
            ],
            [
             0.7,
             "#b8e186"
            ],
            [
             0.8,
             "#7fbc41"
            ],
            [
             0.9,
             "#4d9221"
            ],
            [
             1,
             "#276419"
            ]
           ],
           "sequential": [
            [
             0,
             "#0d0887"
            ],
            [
             0.1111111111111111,
             "#46039f"
            ],
            [
             0.2222222222222222,
             "#7201a8"
            ],
            [
             0.3333333333333333,
             "#9c179e"
            ],
            [
             0.4444444444444444,
             "#bd3786"
            ],
            [
             0.5555555555555556,
             "#d8576b"
            ],
            [
             0.6666666666666666,
             "#ed7953"
            ],
            [
             0.7777777777777778,
             "#fb9f3a"
            ],
            [
             0.8888888888888888,
             "#fdca26"
            ],
            [
             1,
             "#f0f921"
            ]
           ],
           "sequentialminus": [
            [
             0,
             "#0d0887"
            ],
            [
             0.1111111111111111,
             "#46039f"
            ],
            [
             0.2222222222222222,
             "#7201a8"
            ],
            [
             0.3333333333333333,
             "#9c179e"
            ],
            [
             0.4444444444444444,
             "#bd3786"
            ],
            [
             0.5555555555555556,
             "#d8576b"
            ],
            [
             0.6666666666666666,
             "#ed7953"
            ],
            [
             0.7777777777777778,
             "#fb9f3a"
            ],
            [
             0.8888888888888888,
             "#fdca26"
            ],
            [
             1,
             "#f0f921"
            ]
           ]
          },
          "colorway": [
           "#636efa",
           "#EF553B",
           "#00cc96",
           "#ab63fa",
           "#FFA15A",
           "#19d3f3",
           "#FF6692",
           "#B6E880",
           "#FF97FF",
           "#FECB52"
          ],
          "font": {
           "color": "#2a3f5f"
          },
          "geo": {
           "bgcolor": "white",
           "lakecolor": "white",
           "landcolor": "#E5ECF6",
           "showlakes": true,
           "showland": true,
           "subunitcolor": "white"
          },
          "hoverlabel": {
           "align": "left"
          },
          "hovermode": "closest",
          "mapbox": {
           "style": "light"
          },
          "paper_bgcolor": "white",
          "plot_bgcolor": "#E5ECF6",
          "polar": {
           "angularaxis": {
            "gridcolor": "white",
            "linecolor": "white",
            "ticks": ""
           },
           "bgcolor": "#E5ECF6",
           "radialaxis": {
            "gridcolor": "white",
            "linecolor": "white",
            "ticks": ""
           }
          },
          "scene": {
           "xaxis": {
            "backgroundcolor": "#E5ECF6",
            "gridcolor": "white",
            "gridwidth": 2,
            "linecolor": "white",
            "showbackground": true,
            "ticks": "",
            "zerolinecolor": "white"
           },
           "yaxis": {
            "backgroundcolor": "#E5ECF6",
            "gridcolor": "white",
            "gridwidth": 2,
            "linecolor": "white",
            "showbackground": true,
            "ticks": "",
            "zerolinecolor": "white"
           },
           "zaxis": {
            "backgroundcolor": "#E5ECF6",
            "gridcolor": "white",
            "gridwidth": 2,
            "linecolor": "white",
            "showbackground": true,
            "ticks": "",
            "zerolinecolor": "white"
           }
          },
          "shapedefaults": {
           "line": {
            "color": "#2a3f5f"
           }
          },
          "ternary": {
           "aaxis": {
            "gridcolor": "white",
            "linecolor": "white",
            "ticks": ""
           },
           "baxis": {
            "gridcolor": "white",
            "linecolor": "white",
            "ticks": ""
           },
           "bgcolor": "#E5ECF6",
           "caxis": {
            "gridcolor": "white",
            "linecolor": "white",
            "ticks": ""
           }
          },
          "title": {
           "x": 0.05
          },
          "xaxis": {
           "automargin": true,
           "gridcolor": "white",
           "linecolor": "white",
           "ticks": "",
           "title": {
            "standoff": 15
           },
           "zerolinecolor": "white",
           "zerolinewidth": 2
          },
          "yaxis": {
           "automargin": true,
           "gridcolor": "white",
           "linecolor": "white",
           "ticks": "",
           "title": {
            "standoff": 15
           },
           "zerolinecolor": "white",
           "zerolinewidth": 2
          }
         }
        },
        "title": {
         "text": "Plain Pizza Slice Prices in NYC"
        }
       }
      },
      "image/png": "[encoded data removed]",
      "text/html": [
       "<div>                            <div id=\"31935290-1d08-41f3-8df6-a0947eb5b039\" class=\"plotly-graph-div\" style=\"height:1000px; width:100%;\"></div>            <script type=\"text/javascript\">                require([\"plotly\"], function(Plotly) {                    window.PLOTLYENV=window.PLOTLYENV || {};                                    if (document.getElementById(\"31935290-1d08-41f3-8df6-a0947eb5b039\")) {                    Plotly.newPlot(                        \"31935290-1d08-41f3-8df6-a0947eb5b039\",                        [{\"hovertemplate\":\"\\u003cb\\u003e%{hovertext}\\u003c\\u002fb\\u003e\\u003cbr\\u003e\\u003cbr\\u003ePrice=%{marker.color}\\u003cbr\\u003eLatitude=%{lat}\\u003cbr\\u003eLongitude=%{lon}\\u003cextra\\u003e\\u003c\\u002fextra\\u003e\",\"hovertext\":[\"Tommy's Pizzeria\",\"99\\u00a2 Pizza\",\"Family Pizza\",\"Elegante Pizzeria\",\"Joe's Pizza\",\"Federico\\u2019s Pizza\",\"L&B Spumoni Gardens\",\"Lona's Pizza\",\"Tony's Pizza\",\"Joe's Pizza Maspeth\",\"Bad Boys Pizza\",\"Sal's Pizzeria of Woodhaven\",\"Alfie's Pizza\",\"LaBella Pizza Express\",\"Margherita Pizza\",\"Romeo's Pizzeria\",\"Xochil Pizzeria\",\"Brothers pizza shop\",\"Mr Phil's Pizza\",\"Dominick's Pizzeria\",\"Lennys Pizza\",\"Emilio's Pizza\",\"Tommy's Pizzeria\",\"Gloria Pizza\",\"Ganni's Pizzeria\",\"The Original Napoli Pizza\",\"Bravo Kosher Pizza\",\"Angelo\\u2019s Pizza\",\"Ozone Pizzeria\",\"Pino Pizza\",\"La Rondine\",\"Rony's Fresh Pizza\",\"John & Joe's Pizzeria\",\"Prego's Pizza\",\"N & D Pizza\",\"Peppinos\",\"Roccos Pizzeria\",\"Ciro Pizza Cafe\",\"Baxter Street Pizza\",\"Galleria pizza\",\"Emilio's Pizza\",\"Bella Napoli Pizza & Pasta\",\"Gravesend Pizza\",\"Jojo's Pizza\",\"Pizza Stop\",\"Joe and Johns Pizzeria\",\"Enzo's Pizzeria\",\"On The Run Pizza\",\"DiLeo's Pizzeria\",\"Corona Pizza\",\"iPizza NY\",\"S & S CALABRO PIZZERIA\",\"Sofia Pizza II\",\"Fontana Famous Pizza and Gyro\",\"Austin Street Pizza\",\"Villa Rustica Ristorante & Pizzeria\",\"Domy's Pizza Cafe\",\"Pizza Town\",\"Big John's Pizza - Queens Village NY\",\"Daro's Pizza\",\"Rockys Pizzeria\",\"Luigi's Pizza\",\"The Original Pizza Sam\",\"Sal Pizza\",\"Mama Mia Pizzeria\",\"Spiro's Cafe & Pizza\",\"La Vera Pizza & Restaurant 2447 Broadway New York 10025\",\"Lenny And Johns Pizzeria\",\"My Place Family Pizza\",\"Yankee J-Z Pizza Inc\",\"Circle Pizza\",\"Daisy's Pizza Place Inc\",\"Sam's Famous Pizza 116th\",\"La Loteria Pizzeria\",\"Monte Pizza \",\"Natalie pizza\",\"Rosebank Pizza\",\"Samaria Pizzeria\",\"Gianni Pizza of Jackson Heights\",\"Gianni Pizza of Jackson Heights\",\"Table 87 Coal Oven Pizza\",\"Brothers pizza shop\",\"Tony Gs Pizza\",\"D'Angelo's Pizzeria\",\"Euro Pizza\",\"PG Pizza\",\"Upside Pizza\",\"Slice of Harlem Pizzeria\",\"Lennys Pizza\",\"Royal Pizzeria Restaurant Inc\",\"Joe's Pizza & Pasta\",\"Pizza Place\",\"Pizza Place\",\"Angies Cafe & Pizza\",\"Pizza Amore\",\"Landy's Pizzeria\",\"La Sorrentina Restaurant\",\"Pizza D'Amore\",\"Tigre's Pizza\",\"Frank's Bay Pizza\",\"La Bona Pizza & Pasta\",\"PG Pizza\",\"Mario's Pizza\",\"Margherita Pizza Inc.\",\"Tony's Pizza\",\"Bambinos Express\",\"620 On Caton Pizzeria \",\"Belmora Pizza & Restaurant\",\"Sunset Park Pizza\",\"Giovanni S Pizza\",\"Sacco Pizza\",\"Gino's of Broadway\",\"Casabianca Family Italian Ristorante & Pizzeria\",\"Hank's Pizza\",\"Hank's Pizza\",\"Enzo & Claudio\",\"Joe's Pizza\",\"Pizza Prince\",\"Vito's Slices and Pizza\",\"Papa John's Pizza\",\"Pizza Market\",\"Zazzy's Pizza\",\"Michelangelo's Pizza\",\"Gino's Cucina Brick Oven Pizza\",\"Julie's Pizzeria & Restaurant\",\"Via Ponte Pizzeria\",\"11B Express\",\"NY 99\\u00a2 Fresh Pizza\",\"Norm\\u2019s Pizza\",\"Danny's Pizzeria\",\"San Remo's Pizza\",\"Antonio's Pizzeria & Cafe\",\"Barcklay's Pizza and Pasta\",\"Prima Pizza & Pasta\",\"Baker's Pizza\",\"Tony's Pizzeria\",\"Pronto Pizza\",\"99\\u00a2 Fresh Pizza & Hot Dog\",\"La Mia Pizzeria & Restaurant\",\"Sam's Pizza\",\"Pizza2Go\",\"Italian Affair\",\"P & M Pizza & Restaurant\",\"Wholesome Garden Pizza\",\"Joe's Pizzeria\",\"Pizza Central of Brooklyn\",\"A & S Pizzeria\",\"Ciros Pizza 116st\",\"Woodhaven Cafe Pizzeria\",\"Cheeze Louiez\",\"Gino's Pizza Farockaway Queens NY\",\"JM Pizza\",\"Elegante\",\"Family Pizza\",\"Famous NY Pizza\",\"Beach Channel Pizza\",\"Star 99\\u00a2 Pizza\",\"Pizza D'Amore\",\"Joe's Pizza By The Sea\",\"Joe & Sal's Pizza Fort Greene\",\"Marios Chicken Pizza & Grill\",\"Pizza's San Miguel\",\"Tommy's Pizza\",\"Big Daddy's Pizza\",\"Bella Pizza Inc\",\"Tipsy Tomato Pizzeria\",\"Unique Bazaar Jamaica NY\",\"Margherita Pizza Inc\",\"Harbor Pizzeria\",\"Slice of Brooklyn\",\"Ciros Pizza\",\"99c Fresh Pizza\",\"Mangiamo Pizza\",\"Farmers Pizzeria Inc.\",\"Farmers Pizza and Grill\",\"Justino's Pizzeria Pizzeria\",\"Joe's Pizzeria & Restaurant\",\"Hot Fresh Pizza 99c\",\"Gino's\",\"Famous  Calabria Pizza\",\"Roccos Pizzeria\",\"Hi-Class Pizza\",\"Baker's Pizza\",\"Kiss My Slice\",\"99 Cent Fresh Hot Pizza\",\"Kiss My Slice\",\"Springfield & LA Bari Pizza & Restaurant\",\"Margherita Pizza Inc\",\"Vaccaro's Pizzeria & Trattoria\",\"Mario's Pizzeria\",\"Mario's Pizza\",\"Lamici\",\"Alba Pizzeria\",\"Pizza Plus\",\"Am PM Pizza Bagel\",\"Pino's Pizza\",\"Margherita Pizza\",\"Carbo's Pizzeria\",\"Antonio's Pizzeria & Cafe\",\"Rosa's Pizza\",\"2 Bros Pizza\",\"Gotham Pizza\",\"Joey's Pizza\",\"NY Fresh Pizza\",\"Sutton Pizzeria\",\"Little Gio's Pizza\",\"99 Cent Express Pizza\",\"Luigi's Family Italian Ristorante and Pizzeria\",\"Italian Village Pizzeria & Restaurant NYC\",\"Bosa's Pizza of Harlem\",\"Rivoli Pizza II\",\"44st Pizza\",\"Joey Pepperoni's Pizza\",\"Tony's Pizzeria & Restaurant\",\"Villa Mia Pizzeria\",\"New York sal's pizza\",\"Pizza & Pita\",\"Luigi's Gourmet Pizza\",\"Giuseppe's Pizza At St George\",\"Tom's Pizza & Italian Restaurant Inc\",\"Three Brothers 3\",\"Domenick's Pizza\",\"John & Tony's\",\"J&D Pizzeria Restaurant\",\"Lenny's Pizza\",\"Romeo's Pizzeria\",\"Dany's Pizza Restaurant\",\"Cafe Daniellos\",\"Gino's Pizzeria\",\"Armando's Pizza\",\"Aenos Pizza\",\"Luke Pizza\",\"Fresco Pizza & Pasta\",\"Pinos La Forchetta Pizzeria & Restaurant\",\"Roma Pizza\",\"Saba's Pizza NY\",\"Little Italy Pizza\",\"99\\u00a2 Pizza\",\"Sal's Pizza Store\",\"Cotta Bene Pizzeria Restaurant\",\"NY Pizza Suprema\",\"Pizza Boy II\",\"Martiniello's Pizzeria\",\"Marabella Pizza\",\"Mark's Pizza\",\"Picasso Pizzeria\",\"Mario's Pizzeria\",\"Milano Pizza Shop\",\"620 Caton Pizzeria\",\"Gotham Pizza\",\"Bella Napoli\",\"Lunetta Pizza & Restaurant\",\"Royal Pizza\",\"Luigi Pizza Restaurant\",\"DJ Pizza\",\"San Remo Pizza\",\"Tony's Original's\",\"Abitino's Trattoria Pizzeria\",\"99 Cents Fresh Pizza\",\"City Slice\",\"Majestic Pizza\",\"Rosetti's Pizza\",\"Sal Pizza\",\"Pizza 33\",\"Yankee Pizza\",\"Primavera Pizza & Pasta\",\"La Bellezza Pizzeria\",\"King Pizza & Pasta\",\"Not Ray's Nick's Pizza Inc\",\"Abitino Pizzeria & Restaurant\",\"Gotham Pizza\",\"Mamma Mia Pizza & Grill\",\"Pizza Park Corp\",\"Papa John's Pizza\",\"Francesco's Pizza\",\"LaRustica Pizza\",\"Pizza Works\",\"Triangle Pizzeria\",\"Joey Pepperoni's Pizza\",\"Stella's Pizza\",\"Patsy's Pizza\",\"Sam's Famous Pizza 116th\",\"Cucina Bene\",\"Melani Pizzeria\",\"La Margarita Pizza\",\"Rosario Pizza Inc\",\"Sal's Pizza and Restaurant\",\"Napoli Pizza\",\"Not Ray's Leo's Pizza\",\"Pizza Boss NYC\",\"Arturo's Italian Restaurant\",\"Lunetta Pizza\",\"Phil's Pizza\",\"Krust Pizza\",\"Mike's Pizza\",\"Susano's Pizzeria Restaurant\",\"East Village Pizza\",\"Famiglia Pizzeria\",\"Stromboli Pizza\",\"Martinellos Pizza\",\"Napoli Pizza and Pasta \",\"Giuseppe's Pizzeria\",\"Mike's Pizza\",\"Joe's Pizza\",\"Clinton Square Pizza\",\"Barone Pizza\",\"2 Bros Pizza\",\"Nunzio's Pizzeria\",\"Italy Pizza\",\"Pizza & bagel on 3rd\",\"City Island Delicatessan Inc\",\"Wilbel\",\"Dona Bella Pizza\",\"Anna Maria Pizza\",\"Joe's Pizza of The Village\",\"Pizza & Pasta Restaurant\",\"Russ Pizza\",\"Portofino Ristorante Forest Hills, Queens\",\"Pepino Pizzeria\",\"Pizza Town\",\"Pizza Di Napoli\",\"Dani's House of Pizza\",\"Joe's Pizza of The Village\",\"Antonio's Pizzeria & Restaurant\",\"Archie's Pizza \",\"Corte Cafe Pizza\",\"Little Italy Pizza\",\"Tony's Pizza Spot\",\"2 Bros. Pizza\",\"Artichoke Basille's Pizza - East Village, NYC\",\"Percy's $1 Pizza\",\"Caesar's Palace Pizza\",\"Carmine and Sons\",\"Ginas Pizzeria\",\"Norberts Pizza\",\"Francos Pizza\",\"Vinny vincenz Pizza\",\"$1.00 Pizza\",\"Smiling Pizza\",\"Danny's Pizza II\",\"Iggy's Pizzeria\",\"Gotham Pizza NYC\",\"Nina's Restaurant & Pizzeria\",\"99c Fresh Pizza\",\"Milly's Pizza\",\"Little Gio's Pizza\",\"Two Boots Pizza\",\"Two Grandpa's Pizza\",\"Samaria Pizzeria\",\"Crispy Pizza\",\"Fdr 99 Cent Slice Pizza\",\"Neighborhood Pizza\",\"Norberts Pizza\",\"Pranzo\",\"IL Porto: Brick Oven Pizza and Ristorante\",\"La Traviata Pizzeria\",\"Little Italy Pizza III\",\"Williamsburg Pizza LES\",\"Mariella Pizza\",\"Pizza Pasta Restaurant\",\"Tom's Delicious Pizza\",\"Makkah Pizza\",\"Best Pizza of 1st Avenue\",\"99 Cents Famous Pizza\",\"Mike's Pizza\",\"Bergen Pizza\",\"Douma\",\"Brooklyn Harvest Market\",\"Williamsburg Pizza LES\",\"Lower East Side Pizza\",\"Bosco Pizza\",\"Norberts Pizza\",\"Liberty Pizza\",\"Angelica Pizzeria & Restaurant\",\"Domenico's Pizza & Pasta, Amboy Road\",\"Luigi Pizzeria\",\"Dee's & L Pizza Plus\",\"L&B Spumoni Gardens\",\"Roccos Pizza Joint\",\"Cafe Au Lee\",\"Ani Pizza Palace\",\"Cozzi Pizza\",\"Pronto Pizza\",\"La Rondine\",\"Williamsburg Pizza\",\"Coffee break\",\"Sunnyside Pizza\",\"Di Fara Pizza\",\"New Park Pizza\",\"Muzzarella Pizza\",\"Domenick's Pizza \",\"Goodfellas Pizzeria & Italian Restaurant\",\"South Shore Pizza\",\"Margherita Pizza Inc\",\"Ray's Bagel Caf\\u00e9 & Pizza\",\"Champion Pizza\",\"East Side Brick Oven Pizza\",\"Pisa Pizzeria\",\"Two Boots to Go-Go\",\"Triangolo Pizzeria\",\"Luigi's Pizza\",\"Royal Pizza Myrtle Ave\",\"Ganni's Pizza\",\"Rocco Pizza\",\"Roebling Pizza\",\"Pizza Mercato Waverly\",\"Prince St. Pizza\",\"Village Pizza\",\"69 pizzeria\",\"Fdr 99 Cent Slice Pizza\",\"Alphonso's Pizzeria & Trattoria - Pizza Shack\",\"Mimi's Pizza\",\"Luna Pizza\",\"Joe's Pizza\",\"Carmine's Original Pizza\",\"2 Bros. Pizza\",\"Cassiano's Pizza\",\"Best Pizza\",\"Tony's Pizza\",\"Bleecker Street Pizza\",\"Chai Pizza Sushi Cafe\",\"Alphonso's Pizzeria & Trattoria - Pizza Shack\",\"Frank's Pizza\",\"Bona Pizza\"],\"lat\":[40.8195619,40.7516553,40.6558571,40.7771823,40.7168969,40.6005149,40.5947473,40.8714851,40.8931878,40.7212143,40.6005149,40.6926899,40.6998404,40.6018196,40.7046291,40.6817612,40.7771823,40.8673139,40.617892,40.637755,40.7573398,40.8243207,40.8195619,40.720763,40.6942132,40.8468605,40.6898043,40.6232544,40.6808917,40.6000148,40.7133354,40.7482509,40.8545616,40.8631291,40.6004632,40.9036613,40.8676344,40.5332892,40.7166726,40.6843262,40.8679105,40.865699,40.6556156,40.6550446,40.8048198,40.7003521,40.6842128,40.5768705,40.610693,40.7434508,40.7608035,40.6249135,40.5989761,40.7575064,40.7195744,40.73996349999999,40.8164641,40.717725,40.7185614,40.7534698,40.6461233,40.57851960000001,40.7560589,40.7045071,40.5965296,40.654758,40.79120080000001,40.6201361,40.8691518,40.8294396,40.8324594,40.81692834,40.798309,40.854174,40.85994,40.7078242,40.61008,40.76566391,40.7557169,40.75577,40.6561793,40.86726,40.86708,40.7340393,40.55962148,40.83381,40.7550912,40.81668,40.65099,40.6550694,40.76016292,40.8890631,40.889035,40.81153,40.6505369,40.61735,40.57845,40.61475744,40.84464,40.62484,40.6737,40.82622,40.65763,40.70453082,40.66485,40.7020409,40.64755,40.76095,40.64547,40.83522,40.76623,40.75757009,40.76944,40.7094362,40.7094362,40.7462825,40.71687,40.7237277,40.7545,40.69173293,40.746467,40.7365892,40.63087,40.67522,40.70416,40.5980108,40.727429,40.7332919,40.6931218,40.7220677,40.64081,40.69294,40.6827637,40.7282673,40.7294399,40.637601,40.6894599,40.72694509999999,40.7330887,40.87939,40.80486,40.72201222,40.82618,40.82611648,40.65863,40.63114,40.64401,40.57914,40.680109,40.701064,40.60337636,40.596594,40.58619,40.65585,40.6377231,40.597955,40.71807,40.5801496,40.5875839,40.69332939,40.6027254,40.63886,40.68616,40.67435,40.70684,40.680199,40.70373,40.70453082,40.7183175,40.65691,40.57914,40.7518124,40.69909,40.70103,40.69088,40.70883,40.67869,40.71885,40.71067473,40.7116825,40.692128,40.72538,40.7294399,40.75576,40.69232,40.75576,40.6744308,40.70453082,40.72795,40.66489,40.65763,40.6635174,40.7093836,40.80188,40.62614,40.6009756,40.7043939,40.86262,40.69294,40.71221,40.75695,40.73214,40.7262164,40.7651482,40.76183,40.72374,40.75024,40.77843,40.77149,40.802747,40.7332899,40.75202,40.740868,40.6992,40.66949,40.7637799,40.74385051,40.76559,40.64222552,40.69498,40.680423,40.6781657,40.76042052,40.67429,40.65064377,40.6739049,40.690672,40.75882,40.65234,40.610228,40.83679,40.8293304,40.8142087,40.67133,40.7803,40.77711,40.77856,40.69244206,40.68361,40.67686,40.75014,40.74552183,40.74885,40.74031,40.67882,40.71021,40.68346,40.79684,40.64755,40.74381,40.7451099,40.73721,40.74875,40.74674,40.74645,40.70031,40.63829,40.7546051,40.7331,40.7654294,40.7100713,40.7238,40.70445869,40.74505,40.7267,40.75699,40.71573018,40.68283,40.68606,40.74819,40.7699814,40.78022,40.7644499,40.71690571,40.775197,40.7841781,40.78761,40.79057,40.740868,40.74297,40.79714493,40.79844,40.70596,40.71904,40.7213955,40.72159,40.87531,40.87321,40.57535,40.77174,40.77543,40.77532,40.72914,40.73320627,40.7384851,40.7032122,40.72817548,40.73087,40.72777302,40.704277,40.7571861,40.7496969,40.65538,40.73331,40.71404706,40.7589362,40.75471,40.57794,40.7278729,40.66439,40.852584,40.81289,40.71502562,40.71796,40.667662,40.7042832,40.72646,40.71915,40.745328,40.68002,40.701088,40.70894,40.6717637,40.6769775,40.6998074,40.7138612,40.6982,40.69047,40.73111,40.73209,40.72919,40.7860815,40.7149322,40.65103,40.69661,40.67279,40.73113,40.6803986,40.6668856,40.70769661,40.72925,40.76302,40.72236,40.75814,40.69911,40.72374,40.7237135,40.84780692,40.76566391,40.64457051,40.72299,40.66023,40.69661,40.70331,40.6974427,40.77505,40.734771,40.71822,40.73507,40.7042832,40.8148961,40.81876,40.75796,40.73061,40.6958,40.680524,40.72254,40.70677704,40.71822,40.713945,40.692845,40.69661,40.69334,40.68789,40.5256981,40.68965,40.67385512,40.59467782,40.7422899,40.70224,40.76631,40.70377,40.64055,40.7132665,40.707952,40.69473,40.7440727,40.62508413,40.663039,40.73021,40.7051442,40.88705436,40.622787,40.70453082,40.72929,40.71962375,40.7671973,40.70139127,40.72642453,40.73364,40.66163,40.6997372,40.69428,40.69211,40.70859,40.730121,40.723,40.73925,40.737014,40.72299,40.714338,40.7786199,40.71350162,40.7306597,40.72555137,40.75654884,40.7594817,40.71561,40.71505399999999,40.73226681,40.6977,40.714338,40.61772,40.64097667],\"legendgroup\":\"\",\"lon\":[-73.8172086,-73.9904349,-73.9601721,-73.9635973,-73.9589576,-73.9909572,-73.9813043,-73.8769085,-73.8575829,-73.9033878,-73.9909572,-73.8587752,-73.8328891,-73.9936774,-73.7962887,-73.8370245,-73.9635973,-73.8963339,-73.9995883,-74.007206,-73.978476,-73.8198968,-73.8172086,-73.8432629,-73.9578108,-73.8963089,-73.9220436,-73.93792239999999,-73.8426307,-73.9994551,-73.8294102,-73.9923498,-73.86588180000001,-73.8585108,-73.94307239999999,-73.85046679999999,-73.8836046,-74.1927755,-73.9996701,-73.8450002,-73.9004894,-73.864609,-74.0033705,-73.91605059999999,-73.9547643,-73.8994387,-73.8593422,-73.9846206,-74.146137,-73.8547152,-73.9906251,-73.9993503,-73.9372106,-73.7829253,-73.8426559,-73.75824899999999,-73.9027071,-73.99988309999999,-73.7358451,-73.8218842,-73.97110409999999,-73.95800799999999,-73.87854229999999,-73.919242,-73.9939644,-74.004358,-73.9748165,-73.9345585,-73.8896161,-73.87575,-73.8610744,-73.89787505,-73.941632,-73.89900999999999,-73.89395,-73.8030173,-74.06334,-73.93079401,-73.8857946,-73.88578,-74.00797374,-73.89639,-73.89603,-73.8497391,-74.1682369,-73.91519,-73.9911494,-73.946594,-73.94882,-73.8877085,-73.73149091,-73.859549,-73.859444,-73.92707,-73.70169729999999,-74.02738,-73.84928,-73.91270424,-73.9073,-74.07934,-73.88283,-73.917751,-73.76724,-73.79679273,-73.92329,-73.9066829,-73.97392,-73.96879,-73.99539,-73.92016,-73.98717,-73.91588521,-73.9889,-74.01202529999999,-74.01202529999999,-73.99367339999999,-73.95892,-73.9504086,-73.9952799,-73.98637801,-73.990096,-74.0013125,-74.12967,-73.9631,-73.9073,-74.0669935,-73.979695,-74.0028356,-73.9889093,-73.9042865,-73.96493,-73.99097,-73.96433830000001,-73.7358585,-73.98125,-73.919525,-73.99233,-73.98311679999999,-73.9902141,-73.90601,-73.93816,-73.73004226,-73.9467,-73.95094532,-73.98171,-73.97703,-74.0776,-73.83702,-73.844141,-73.94123,-73.75302557,-73.754904,-73.81542,-73.96008,-74.0873695,-73.766132,-73.98586,-73.8370727,-73.8127052,-73.97220254,-73.7503447,-73.96888,-73.82553,-74.0071,-73.78983,-73.845768,-73.79706,-73.79679273,-73.8727355,-74.00143,-73.83702,-73.9743737,-73.9147,-73.76505,-73.76194,-74.00531,-73.86793,-74.00036,-73.99656346,-73.9995925,-73.94570415,-73.72167,-73.98125,-73.99052,-73.98696,-73.99052,-73.763588,-73.79679273,-73.71088,-73.73525,-73.76724,-73.7767928,-73.8188509,-73.93691,-73.97608,-74.0005968,-73.7971569,-73.84324,-73.99097,-73.90001,-73.9935,-73.98825,-73.8951812,-73.9881363,-73.96015,-73.9879,-73.9705,-73.94863,-73.95309,-73.93408819999999,-74.00619,-73.97376,-73.978965,-73.91882,-73.99285,-73.99224,-73.97396489,-73.98349,-74.07674037,-73.84286,-73.753499,-73.8317404,-73.9616057,-73.87879,-73.83810071,-73.8434862,-73.869665,-73.96543,-73.95902,-73.922216,-73.88908,-73.8915024,-73.9131972,-73.9777,-73.95312,-73.95716,-73.95294,-73.98670256,-73.99514,-73.98619,-73.99518,-73.90555705,-73.87086,-73.92373,-74.01138,-74.01649,-73.99002,-73.93812,-73.97392,-74.00295,-73.99471,-73.98395,-73.97614,-73.99722,-73.98026,-73.90613,-74.07938,-73.9685234,-73.99955,-73.9909294,-74.0103149,-74.0045899,-73.91924267,-73.97821,-73.97727,-73.96722,-74.00505157,-73.96439,-73.97412,-73.97363,-73.9517212,-73.94672,-73.95868,-73.99038792,-73.98069100000001,-73.95240489999999,-73.94429,-73.94277,-73.978965,-74.00368,-73.93479109,-73.94157,-74.00993,-73.98466,-73.9874383,-73.98857,-73.87966,-73.87897,-73.99409,-73.95645,-73.94773,-73.95631,-74.005,-73.98586035,-73.9806696,-73.9080984,-73.98514688,-73.9923699,-73.98541376,-73.907211,-73.9268541,-73.9770222,-73.9565,-73.98763,-73.98719928,-73.8296299,-73.99186,-74.10259,-73.9528617,-73.99674,-73.789134,-73.90205,-74.00775155,-73.95746,-73.98741919999999,-73.9429234,-73.95244,-73.83986,-73.9033515,-73.97786,-73.941023,-73.83056,-73.9838561,-73.9725052,-73.9284114,-74.00388247,-73.93769,-73.96013,-74.00179,-73.98391,-74.00145,-73.9758174,-73.9441794,-74.00396,-73.93491,-73.95037,-73.98296,-73.9495349,-73.9813704,-73.94348317,-73.98434,-73.98536,-73.94128,-73.99234,-73.93932,-73.9879,-73.98498719999999,-73.90714388,-73.93079401,-74.09838494,-73.98549,-73.8306099,-73.93491,-74.01069,-73.9675197,-73.98088,-73.992288,-73.99123,-73.98612,-73.9429234,-73.9593332,-73.9378,-73.96295,-73.98123,-73.94656,-73.974394,-73.99239,-73.95036416,-73.99123,-73.989104,-73.94033,-73.93491,-73.96604,-73.9815799,-74.2019284,-73.96544,-73.79105453,-73.98143284,-73.99739,-73.95586,-73.90881,-73.94749,-74.11611,-73.8290606,-73.950806,-73.9559,-73.9240104,-73.96155206,-73.840549,-73.98069,-73.80970669999999,-73.90423987,-73.7435809,-73.79679273,-73.98965,-73.98755917,-73.9624705,-73.88815017,-73.99558888,-73.95499,-73.99334,-73.9082459,-73.95783,-73.94583,-73.96116,-73.994108,-73.99458,-74.00312,-73.89564,-73.98549,-73.981708,-73.9529045,-73.99854598,-74.0021707,-73.95147023,-73.98080221,-73.9682781,-73.95352,-73.9446961,-74.00341905,-73.9599099,-73.981708,-73.93174,-73.95627033],\"marker\":{\"color\":[3.0,1.0,3.0,3.25,4.0,3.25,4.0,3.5,3.5,3.0,3.0,3.0,2.5,3.0,3.75,3.0,3.0,3.5,3.0,3.0,3.0,3.5,3.0,3.5,3.0,3.5,4.0,3.0,3.0,2.75,3.25,1.0,3.5,3.0,3.35,3.0,3.5,2.5,3.81,3.0,3.25,3.0,3.0,3.0,3.0,3.0,3.26,3.0,2.75,3.0,3.76,2.75,2.75,3.25,3.24,3.5,2.75,2.0,2.75,3.0,3.0,3.0,3.27,2.75,3.0,2.75,2.75,3.0,3.0,3.0,3.0,2.5,3.0,3.0,3.0,2.5,3.0,2.75,3.0,3.0,4.0,2.5,3.0,3.25,3.5,3.0,3.5,3.25,2.5,3.0,3.0,3.25,3.25,2.75,3.0,3.0,3.0,2.75,2.5,2.5,2.75,2.75,3.0,3.5,2.75,2.5,3.0,3.2,2.0,2.0,2.5,2.75,3.0,4.35,3.25,3.27,3.0,3.0,3.0,1.0,1.0,3.27,2.5,3.0,2.0,2.75,3.0,1.0,3.0,2.75,3.0,3.0,2.5,2.75,3.25,2.5,2.5,1.0,2.75,3.0,1.0,2.25,2.5,2.5,2.75,2.75,2.0,2.75,1.0,2.75,2.5,2.5,3.0,2.75,2.0,2.25,1.0,2.5,2.5,2.75,2.0,2.0,3.0,2.0,2.0,2.75,1.5,3.25,2.75,2.25,2.75,1.0,2.0,2.0,2.0,2.75,2.5,1.0,2.0,3.0,2.75,2.75,3.0,2.75,1.0,1.0,2.0,3.0,2.65,2.5,2.75,2.5,2.75,2.0,2.0,2.5,3.0,2.5,2.5,2.65,1.0,2.75,2.75,1.0,2.75,2.25,1.0,2.75,2.75,2.0,3.0,1.0,1.0,2.5,2.5,2.75,2.75,2.75,2.0,2.0,2.0,2.0,2.95,1.0,3.0,2.5,2.0,2.75,2.25,2.45,2.25,2.5,2.25,2.75,2.5,3.25,2.75,1.0,2.75,2.5,3.0,2.45,1.5,2.5,2.5,3.15,1.5,2.25,2.5,2.5,2.45,2.5,2.5,2.25,2.5,2.5,2.0,3.0,1.0,2.75,2.5,2.75,2.25,3.0,2.25,3.0,2.5,1.75,2.75,3.0,2.75,2.25,2.75,1.0,2.85,2.75,2.75,2.25,1.0,2.75,1.75,2.25,2.75,1.5,2.0,2.5,2.5,2.5,2.0,3.0,2.5,2.5,2.75,1.0,2.5,1.5,2.5,2.85,2.75,1.5,2.0,2.75,2.0,2.75,2.0,2.5,1.0,2.0,2.75,2.25,2.25,2.25,2.5,2.25,2.75,2.0,2.75,2.45,2.5,2.75,1.5,3.0,2.75,2.75,3.5,2.5,2.0,2.25,1.0,4.5,1.0,3.0,2.75,2.5,2.0,2.25,1.0,1.0,2.5,2.45,2.5,2.75,2.25,1.0,2.25,2.25,2.85,2.0,2.25,2.0,1.0,2.75,2.0,2.5,2.75,2.71,2.75,2.75,3.0,1.0,2.5,2.25,2.5,1.0,2.0,2.5,2.5,2.0,2.75,2.0,2.25,2.0,2.5,2.0,2.5,2.5,2.0,2.5,2.75,2.75,2.5,2.0,2.5,2.25,2.75,2.75,2.5,5.0,2.75,2.5,2.0,3.0,3.0,3.0,2.75,1.0,2.75,2.5,2.85,2.5,2.25,2.5,2.25,2.25,2.5,2.25,2.95,2.5,2.25,1.0,2.25,3.0,2.75,2.75,2.25,1.09,3.05,3.25,2.75,2.75,2.75,2.25,2.55,2.0],\"coloraxis\":\"coloraxis\",\"size\":[3.0,1.0,3.0,3.25,4.0,3.25,4.0,3.5,3.5,3.0,3.0,3.0,2.5,3.0,3.75,3.0,3.0,3.5,3.0,3.0,3.0,3.5,3.0,3.5,3.0,3.5,4.0,3.0,3.0,2.75,3.25,1.0,3.5,3.0,3.35,3.0,3.5,2.5,3.81,3.0,3.25,3.0,3.0,3.0,3.0,3.0,3.26,3.0,2.75,3.0,3.76,2.75,2.75,3.25,3.24,3.5,2.75,2.0,2.75,3.0,3.0,3.0,3.27,2.75,3.0,2.75,2.75,3.0,3.0,3.0,3.0,2.5,3.0,3.0,3.0,2.5,3.0,2.75,3.0,3.0,4.0,2.5,3.0,3.25,3.5,3.0,3.5,3.25,2.5,3.0,3.0,3.25,3.25,2.75,3.0,3.0,3.0,2.75,2.5,2.5,2.75,2.75,3.0,3.5,2.75,2.5,3.0,3.2,2.0,2.0,2.5,2.75,3.0,4.35,3.25,3.27,3.0,3.0,3.0,1.0,1.0,3.27,2.5,3.0,2.0,2.75,3.0,1.0,3.0,2.75,3.0,3.0,2.5,2.75,3.25,2.5,2.5,1.0,2.75,3.0,1.0,2.25,2.5,2.5,2.75,2.75,2.0,2.75,1.0,2.75,2.5,2.5,3.0,2.75,2.0,2.25,1.0,2.5,2.5,2.75,2.0,2.0,3.0,2.0,2.0,2.75,1.5,3.25,2.75,2.25,2.75,1.0,2.0,2.0,2.0,2.75,2.5,1.0,2.0,3.0,2.75,2.75,3.0,2.75,1.0,1.0,2.0,3.0,2.65,2.5,2.75,2.5,2.75,2.0,2.0,2.5,3.0,2.5,2.5,2.65,1.0,2.75,2.75,1.0,2.75,2.25,1.0,2.75,2.75,2.0,3.0,1.0,1.0,2.5,2.5,2.75,2.75,2.75,2.0,2.0,2.0,2.0,2.95,1.0,3.0,2.5,2.0,2.75,2.25,2.45,2.25,2.5,2.25,2.75,2.5,3.25,2.75,1.0,2.75,2.5,3.0,2.45,1.5,2.5,2.5,3.15,1.5,2.25,2.5,2.5,2.45,2.5,2.5,2.25,2.5,2.5,2.0,3.0,1.0,2.75,2.5,2.75,2.25,3.0,2.25,3.0,2.5,1.75,2.75,3.0,2.75,2.25,2.75,1.0,2.85,2.75,2.75,2.25,1.0,2.75,1.75,2.25,2.75,1.5,2.0,2.5,2.5,2.5,2.0,3.0,2.5,2.5,2.75,1.0,2.5,1.5,2.5,2.85,2.75,1.5,2.0,2.75,2.0,2.75,2.0,2.5,1.0,2.0,2.75,2.25,2.25,2.25,2.5,2.25,2.75,2.0,2.75,2.45,2.5,2.75,1.5,3.0,2.75,2.75,3.5,2.5,2.0,2.25,1.0,4.5,1.0,3.0,2.75,2.5,2.0,2.25,1.0,1.0,2.5,2.45,2.5,2.75,2.25,1.0,2.25,2.25,2.85,2.0,2.25,2.0,1.0,2.75,2.0,2.5,2.75,2.71,2.75,2.75,3.0,1.0,2.5,2.25,2.5,1.0,2.0,2.5,2.5,2.0,2.75,2.0,2.25,2.0,2.5,2.0,2.5,2.5,2.0,2.5,2.75,2.75,2.5,2.0,2.5,2.25,2.75,2.75,2.5,5.0,2.75,2.5,2.0,3.0,3.0,3.0,2.75,1.0,2.75,2.5,2.85,2.5,2.25,2.5,2.25,2.25,2.5,2.25,2.95,2.5,2.25,1.0,2.25,3.0,2.75,2.75,2.25,1.09,3.05,3.25,2.75,2.75,2.75,2.25,2.55,2.0],\"sizemode\":\"area\",\"sizeref\":0.0125},\"mode\":\"markers\",\"name\":\"\",\"showlegend\":false,\"subplot\":\"mapbox\",\"type\":\"scattermapbox\"}],                        {\"template\":{\"data\":{\"histogram2dcontour\":[{\"type\":\"histogram2dcontour\",\"colorbar\":{\"outlinewidth\":0,\"ticks\":\"\"},\"colorscale\":[[0.0,\"#0d0887\"],[0.1111111111111111,\"#46039f\"],[0.2222222222222222,\"#7201a8\"],[0.3333333333333333,\"#9c179e\"],[0.4444444444444444,\"#bd3786\"],[0.5555555555555556,\"#d8576b\"],[0.6666666666666666,\"#ed7953\"],[0.7777777777777778,\"#fb9f3a\"],[0.8888888888888888,\"#fdca26\"],[1.0,\"#f0f921\"]]}],\"choropleth\":[{\"type\":\"choropleth\",\"colorbar\":{\"outlinewidth\":0,\"ticks\":\"\"}}],\"histogram2d\":[{\"type\":\"histogram2d\",\"colorbar\":{\"outlinewidth\":0,\"ticks\":\"\"},\"colorscale\":[[0.0,\"#0d0887\"],[0.1111111111111111,\"#46039f\"],[0.2222222222222222,\"#7201a8\"],[0.3333333333333333,\"#9c179e\"],[0.4444444444444444,\"#bd3786\"],[0.5555555555555556,\"#d8576b\"],[0.6666666666666666,\"#ed7953\"],[0.7777777777777778,\"#fb9f3a\"],[0.8888888888888888,\"#fdca26\"],[1.0,\"#f0f921\"]]}],\"heatmap\":[{\"type\":\"heatmap\",\"colorbar\":{\"outlinewidth\":0,\"ticks\":\"\"},\"colorscale\":[[0.0,\"#0d0887\"],[0.1111111111111111,\"#46039f\"],[0.2222222222222222,\"#7201a8\"],[0.3333333333333333,\"#9c179e\"],[0.4444444444444444,\"#bd3786\"],[0.5555555555555556,\"#d8576b\"],[0.6666666666666666,\"#ed7953\"],[0.7777777777777778,\"#fb9f3a\"],[0.8888888888888888,\"#fdca26\"],[1.0,\"#f0f921\"]]}],\"heatmapgl\":[{\"type\":\"heatmapgl\",\"colorbar\":{\"outlinewidth\":0,\"ticks\":\"\"},\"colorscale\":[[0.0,\"#0d0887\"],[0.1111111111111111,\"#46039f\"],[0.2222222222222222,\"#7201a8\"],[0.3333333333333333,\"#9c179e\"],[0.4444444444444444,\"#bd3786\"],[0.5555555555555556,\"#d8576b\"],[0.6666666666666666,\"#ed7953\"],[0.7777777777777778,\"#fb9f3a\"],[0.8888888888888888,\"#fdca26\"],[1.0,\"#f0f921\"]]}],\"contourcarpet\":[{\"type\":\"contourcarpet\",\"colorbar\":{\"outlinewidth\":0,\"ticks\":\"\"}}],\"contour\":[{\"type\":\"contour\",\"colorbar\":{\"outlinewidth\":0,\"ticks\":\"\"},\"colorscale\":[[0.0,\"#0d0887\"],[0.1111111111111111,\"#46039f\"],[0.2222222222222222,\"#7201a8\"],[0.3333333333333333,\"#9c179e\"],[0.4444444444444444,\"#bd3786\"],[0.5555555555555556,\"#d8576b\"],[0.6666666666666666,\"#ed7953\"],[0.7777777777777778,\"#fb9f3a\"],[0.8888888888888888,\"#fdca26\"],[1.0,\"#f0f921\"]]}],\"surface\":[{\"type\":\"surface\",\"colorbar\":{\"outlinewidth\":0,\"ticks\":\"\"},\"colorscale\":[[0.0,\"#0d0887\"],[0.1111111111111111,\"#46039f\"],[0.2222222222222222,\"#7201a8\"],[0.3333333333333333,\"#9c179e\"],[0.4444444444444444,\"#bd3786\"],[0.5555555555555556,\"#d8576b\"],[0.6666666666666666,\"#ed7953\"],[0.7777777777777778,\"#fb9f3a\"],[0.8888888888888888,\"#fdca26\"],[1.0,\"#f0f921\"]]}],\"mesh3d\":[{\"type\":\"mesh3d\",\"colorbar\":{\"outlinewidth\":0,\"ticks\":\"\"}}],\"scatter\":[{\"fillpattern\":{\"fillmode\":\"overlay\",\"size\":10,\"solidity\":0.2},\"type\":\"scatter\"}],\"parcoords\":[{\"type\":\"parcoords\",\"line\":{\"colorbar\":{\"outlinewidth\":0,\"ticks\":\"\"}}}],\"scatterpolargl\":[{\"type\":\"scatterpolargl\",\"marker\":{\"colorbar\":{\"outlinewidth\":0,\"ticks\":\"\"}}}],\"bar\":[{\"error_x\":{\"color\":\"#2a3f5f\"},\"error_y\":{\"color\":\"#2a3f5f\"},\"marker\":{\"line\":{\"color\":\"#E5ECF6\",\"width\":0.5},\"pattern\":{\"fillmode\":\"overlay\",\"size\":10,\"solidity\":0.2}},\"type\":\"bar\"}],\"scattergeo\":[{\"type\":\"scattergeo\",\"marker\":{\"colorbar\":{\"outlinewidth\":0,\"ticks\":\"\"}}}],\"scatterpolar\":[{\"type\":\"scatterpolar\",\"marker\":{\"colorbar\":{\"outlinewidth\":0,\"ticks\":\"\"}}}],\"histogram\":[{\"marker\":{\"pattern\":{\"fillmode\":\"overlay\",\"size\":10,\"solidity\":0.2}},\"type\":\"histogram\"}],\"scattergl\":[{\"type\":\"scattergl\",\"marker\":{\"colorbar\":{\"outlinewidth\":0,\"ticks\":\"\"}}}],\"scatter3d\":[{\"type\":\"scatter3d\",\"line\":{\"colorbar\":{\"outlinewidth\":0,\"ticks\":\"\"}},\"marker\":{\"colorbar\":{\"outlinewidth\":0,\"ticks\":\"\"}}}],\"scattermapbox\":[{\"type\":\"scattermapbox\",\"marker\":{\"colorbar\":{\"outlinewidth\":0,\"ticks\":\"\"}}}],\"scatterternary\":[{\"type\":\"scatterternary\",\"marker\":{\"colorbar\":{\"outlinewidth\":0,\"ticks\":\"\"}}}],\"scattercarpet\":[{\"type\":\"scattercarpet\",\"marker\":{\"colorbar\":{\"outlinewidth\":0,\"ticks\":\"\"}}}],\"carpet\":[{\"aaxis\":{\"endlinecolor\":\"#2a3f5f\",\"gridcolor\":\"white\",\"linecolor\":\"white\",\"minorgridcolor\":\"white\",\"startlinecolor\":\"#2a3f5f\"},\"baxis\":{\"endlinecolor\":\"#2a3f5f\",\"gridcolor\":\"white\",\"linecolor\":\"white\",\"minorgridcolor\":\"white\",\"startlinecolor\":\"#2a3f5f\"},\"type\":\"carpet\"}],\"table\":[{\"cells\":{\"fill\":{\"color\":\"#EBF0F8\"},\"line\":{\"color\":\"white\"}},\"header\":{\"fill\":{\"color\":\"#C8D4E3\"},\"line\":{\"color\":\"white\"}},\"type\":\"table\"}],\"barpolar\":[{\"marker\":{\"line\":{\"color\":\"#E5ECF6\",\"width\":0.5},\"pattern\":{\"fillmode\":\"overlay\",\"size\":10,\"solidity\":0.2}},\"type\":\"barpolar\"}],\"pie\":[{\"automargin\":true,\"type\":\"pie\"}]},\"layout\":{\"autotypenumbers\":\"strict\",\"colorway\":[\"#636efa\",\"#EF553B\",\"#00cc96\",\"#ab63fa\",\"#FFA15A\",\"#19d3f3\",\"#FF6692\",\"#B6E880\",\"#FF97FF\",\"#FECB52\"],\"font\":{\"color\":\"#2a3f5f\"},\"hovermode\":\"closest\",\"hoverlabel\":{\"align\":\"left\"},\"paper_bgcolor\":\"white\",\"plot_bgcolor\":\"#E5ECF6\",\"polar\":{\"bgcolor\":\"#E5ECF6\",\"angularaxis\":{\"gridcolor\":\"white\",\"linecolor\":\"white\",\"ticks\":\"\"},\"radialaxis\":{\"gridcolor\":\"white\",\"linecolor\":\"white\",\"ticks\":\"\"}},\"ternary\":{\"bgcolor\":\"#E5ECF6\",\"aaxis\":{\"gridcolor\":\"white\",\"linecolor\":\"white\",\"ticks\":\"\"},\"baxis\":{\"gridcolor\":\"white\",\"linecolor\":\"white\",\"ticks\":\"\"},\"caxis\":{\"gridcolor\":\"white\",\"linecolor\":\"white\",\"ticks\":\"\"}},\"coloraxis\":{\"colorbar\":{\"outlinewidth\":0,\"ticks\":\"\"}},\"colorscale\":{\"sequential\":[[0.0,\"#0d0887\"],[0.1111111111111111,\"#46039f\"],[0.2222222222222222,\"#7201a8\"],[0.3333333333333333,\"#9c179e\"],[0.4444444444444444,\"#bd3786\"],[0.5555555555555556,\"#d8576b\"],[0.6666666666666666,\"#ed7953\"],[0.7777777777777778,\"#fb9f3a\"],[0.8888888888888888,\"#fdca26\"],[1.0,\"#f0f921\"]],\"sequentialminus\":[[0.0,\"#0d0887\"],[0.1111111111111111,\"#46039f\"],[0.2222222222222222,\"#7201a8\"],[0.3333333333333333,\"#9c179e\"],[0.4444444444444444,\"#bd3786\"],[0.5555555555555556,\"#d8576b\"],[0.6666666666666666,\"#ed7953\"],[0.7777777777777778,\"#fb9f3a\"],[0.8888888888888888,\"#fdca26\"],[1.0,\"#f0f921\"]],\"diverging\":[[0,\"#8e0152\"],[0.1,\"#c51b7d\"],[0.2,\"#de77ae\"],[0.3,\"#f1b6da\"],[0.4,\"#fde0ef\"],[0.5,\"#f7f7f7\"],[0.6,\"#e6f5d0\"],[0.7,\"#b8e186\"],[0.8,\"#7fbc41\"],[0.9,\"#4d9221\"],[1,\"#276419\"]]},\"xaxis\":{\"gridcolor\":\"white\",\"linecolor\":\"white\",\"ticks\":\"\",\"title\":{\"standoff\":15},\"zerolinecolor\":\"white\",\"automargin\":true,\"zerolinewidth\":2},\"yaxis\":{\"gridcolor\":\"white\",\"linecolor\":\"white\",\"ticks\":\"\",\"title\":{\"standoff\":15},\"zerolinecolor\":\"white\",\"automargin\":true,\"zerolinewidth\":2},\"scene\":{\"xaxis\":{\"backgroundcolor\":\"#E5ECF6\",\"gridcolor\":\"white\",\"linecolor\":\"white\",\"showbackground\":true,\"ticks\":\"\",\"zerolinecolor\":\"white\",\"gridwidth\":2},\"yaxis\":{\"backgroundcolor\":\"#E5ECF6\",\"gridcolor\":\"white\",\"linecolor\":\"white\",\"showbackground\":true,\"ticks\":\"\",\"zerolinecolor\":\"white\",\"gridwidth\":2},\"zaxis\":{\"backgroundcolor\":\"#E5ECF6\",\"gridcolor\":\"white\",\"linecolor\":\"white\",\"showbackground\":true,\"ticks\":\"\",\"zerolinecolor\":\"white\",\"gridwidth\":2}},\"shapedefaults\":{\"line\":{\"color\":\"#2a3f5f\"}},\"annotationdefaults\":{\"arrowcolor\":\"#2a3f5f\",\"arrowhead\":0,\"arrowwidth\":1},\"geo\":{\"bgcolor\":\"white\",\"landcolor\":\"#E5ECF6\",\"subunitcolor\":\"white\",\"showland\":true,\"showlakes\":true,\"lakecolor\":\"white\"},\"title\":{\"x\":0.05},\"mapbox\":{\"style\":\"light\"}}},\"mapbox\":{\"domain\":{\"x\":[0.0,1.0],\"y\":[0.0,1.0]},\"center\":{\"lat\":40.718416837547174,\"lon\":-73.9376498263915},\"zoom\":10,\"style\":\"carto-positron\",\"accesstoken\":\"pk.eyJ1IjoicG1qdGVybSIsImEiOiJjbHJwNnE0YTAwMmw2MmptdGZodDU3cTJ2In0.g4wJH64HhHsTViH9hZlINA\",\"bearing\":0,\"pitch\":0},\"coloraxis\":{\"colorbar\":{\"title\":{\"text\":\"Price\"}},\"colorscale\":[[0.0,\"#0d0887\"],[0.1111111111111111,\"#46039f\"],[0.2222222222222222,\"#7201a8\"],[0.3333333333333333,\"#9c179e\"],[0.4444444444444444,\"#bd3786\"],[0.5555555555555556,\"#d8576b\"],[0.6666666666666666,\"#ed7953\"],[0.7777777777777778,\"#fb9f3a\"],[0.8888888888888888,\"#fdca26\"],[1.0,\"#f0f921\"]]},\"legend\":{\"tracegroupgap\":0,\"itemsizing\":\"constant\"},\"title\":{\"text\":\"Plain Pizza Slice Prices in NYC\"},\"height\":1000},                        {\"responsive\": true}                    ).then(function(){\n",
       "                            \n",
       "var gd = document.getElementById('31935290-1d08-41f3-8df6-a0947eb5b039');\n",
       "var x = new MutationObserver(function (mutations, observer) {{\n",
       "        var display = window.getComputedStyle(gd).display;\n",
       "        if (!display || display === 'none') {{\n",
       "            console.log([gd, 'removed!']);\n",
       "            Plotly.purge(gd);\n",
       "            observer.disconnect();\n",
       "        }}\n",
       "}});\n",
       "\n",
       "// Listen for the removal of the full notebook cells\n",
       "var notebookContainer = gd.closest('#notebook-container');\n",
       "if (notebookContainer) {{\n",
       "    x.observe(notebookContainer, {childList: true});\n",
       "}}\n",
       "\n",
       "// Listen for the clearing of the current output cell\n",
       "var outputEl = gd.closest('.output');\n",
       "if (outputEl) {{\n",
       "    x.observe(outputEl, {childList: true});\n",
       "}}\n",
       "\n",
       "                        })                };                });            </script>        </div>"
      ]
     },
     "metadata": {},
     "output_type": "display_data"
    }
   ],
   "source": [
    "#| label: heatmap_total\n",
    "# Assuming you have a DataFrame named nyp\n",
    "# Replace 'nyp' with your actual DataFrame\n",
    "\n",
    "# Filter the DataFrame for 'Plain' style\n",
    "plain_pizza_nyp = nyp[nyp['Style'] == 'Plain']\n",
    "\n",
    "# Sample data for plain pizza (replace with your actual data)\n",
    "data = {\n",
    "    'Latitude': plain_pizza_nyp['location_lat'],\n",
    "    'Longitude': plain_pizza_nyp['location_lng'],\n",
    "    'Price': plain_pizza_nyp['Price as number'],\n",
    "    'Restaurant': plain_pizza_nyp['Name']\n",
    "}\n",
    "\n",
    "df = pd.DataFrame(data)\n",
    "\n",
    "# Create a geospatial heatmap for plain pizza using Plotly Express\n",
    "fig = px.scatter_mapbox(\n",
    "    df,\n",
    "    lat='Latitude',\n",
    "    lon='Longitude',\n",
    "    size='Price',  # Use the 'Price' column for marker size\n",
    "    color='Price',  # Use the 'Price' column for color intensity\n",
    "    height=1000,\n",
    "    hover_name='Restaurant',  # Display restaurant names on hover\n",
    "    zoom=10,  # Adjust the initial zoom level\n",
    "    mapbox_style='carto-positron',  # Choose the map style (you can explore other styles)\n",
    "    title='Plain Pizza Slice Prices in NYC'\n",
    ")\n",
    "\n",
    "# Customize the appearance\n",
    "fig.update_layout(\n",
    "    mapbox=dict(\n",
    "        accesstoken='pk.eyJ1IjoicG1qdGVybSIsImEiOiJjbHJwNnE0YTAwMmw2MmptdGZodDU3cTJ2In0.g4wJH64HhHsTViH9hZlINA',  # Replace with your Mapbox access token\n",
    "        bearing=0,\n",
    "        pitch=0\n",
    "    )\n",
    ")\n",
    "\n",
    "# Show the map\n",
    "fig.show()\n"
   ]
  },
  {
   "cell_type": "code",
   "execution_count": 10,
   "id": "f7d797c4-1663-4fc3-b909-f7840ef3ec31",
   "metadata": {},
   "outputs": [
    {
     "data": {
      "application/vnd.plotly.v1+json": {
       "config": {
        "plotlyServerURL": "https://plot.ly"
       },
       "data": [
        {
         "hovertemplate": "Year=%{x}<br>Average Price=%{y}<extra></extra>",
         "legendgroup": "",
         "marker": {
          "color": "#636efa",
          "symbol": "circle"
         },
         "mode": "markers",
         "name": "",
         "orientation": "v",
         "showlegend": false,
         "type": "scatter",
         "x": [
          2014,
          2015,
          2016,
          2017,
          2018,
          2019,
          2020,
          2021,
          2022,
          2023,
          2024
         ],
         "xaxis": "x",
         "y": [
          2.375,
          2.3576923076923078,
          2.361904761904762,
          2.245,
          2.3428571428571425,
          2.2934782608695654,
          2.287037037037037,
          2.839298245614035,
          2.959607843137255,
          3.144230769230769,
          4
         ],
         "yaxis": "y"
        }
       ],
       "layout": {
        "autosize": true,
        "legend": {
         "tracegroupgap": 0
        },
        "template": {
         "data": {
          "bar": [
           {
            "error_x": {
             "color": "#2a3f5f"
            },
            "error_y": {
             "color": "#2a3f5f"
            },
            "marker": {
             "line": {
              "color": "#E5ECF6",
              "width": 0.5
             },
             "pattern": {
              "fillmode": "overlay",
              "size": 10,
              "solidity": 0.2
             }
            },
            "type": "bar"
           }
          ],
          "barpolar": [
           {
            "marker": {
             "line": {
              "color": "#E5ECF6",
              "width": 0.5
             },
             "pattern": {
              "fillmode": "overlay",
              "size": 10,
              "solidity": 0.2
             }
            },
            "type": "barpolar"
           }
          ],
          "carpet": [
           {
            "aaxis": {
             "endlinecolor": "#2a3f5f",
             "gridcolor": "white",
             "linecolor": "white",
             "minorgridcolor": "white",
             "startlinecolor": "#2a3f5f"
            },
            "baxis": {
             "endlinecolor": "#2a3f5f",
             "gridcolor": "white",
             "linecolor": "white",
             "minorgridcolor": "white",
             "startlinecolor": "#2a3f5f"
            },
            "type": "carpet"
           }
          ],
          "choropleth": [
           {
            "colorbar": {
             "outlinewidth": 0,
             "ticks": ""
            },
            "type": "choropleth"
           }
          ],
          "contour": [
           {
            "colorbar": {
             "outlinewidth": 0,
             "ticks": ""
            },
            "colorscale": [
             [
              0,
              "#0d0887"
             ],
             [
              0.1111111111111111,
              "#46039f"
             ],
             [
              0.2222222222222222,
              "#7201a8"
             ],
             [
              0.3333333333333333,
              "#9c179e"
             ],
             [
              0.4444444444444444,
              "#bd3786"
             ],
             [
              0.5555555555555556,
              "#d8576b"
             ],
             [
              0.6666666666666666,
              "#ed7953"
             ],
             [
              0.7777777777777778,
              "#fb9f3a"
             ],
             [
              0.8888888888888888,
              "#fdca26"
             ],
             [
              1,
              "#f0f921"
             ]
            ],
            "type": "contour"
           }
          ],
          "contourcarpet": [
           {
            "colorbar": {
             "outlinewidth": 0,
             "ticks": ""
            },
            "type": "contourcarpet"
           }
          ],
          "heatmap": [
           {
            "colorbar": {
             "outlinewidth": 0,
             "ticks": ""
            },
            "colorscale": [
             [
              0,
              "#0d0887"
             ],
             [
              0.1111111111111111,
              "#46039f"
             ],
             [
              0.2222222222222222,
              "#7201a8"
             ],
             [
              0.3333333333333333,
              "#9c179e"
             ],
             [
              0.4444444444444444,
              "#bd3786"
             ],
             [
              0.5555555555555556,
              "#d8576b"
             ],
             [
              0.6666666666666666,
              "#ed7953"
             ],
             [
              0.7777777777777778,
              "#fb9f3a"
             ],
             [
              0.8888888888888888,
              "#fdca26"
             ],
             [
              1,
              "#f0f921"
             ]
            ],
            "type": "heatmap"
           }
          ],
          "heatmapgl": [
           {
            "colorbar": {
             "outlinewidth": 0,
             "ticks": ""
            },
            "colorscale": [
             [
              0,
              "#0d0887"
             ],
             [
              0.1111111111111111,
              "#46039f"
             ],
             [
              0.2222222222222222,
              "#7201a8"
             ],
             [
              0.3333333333333333,
              "#9c179e"
             ],
             [
              0.4444444444444444,
              "#bd3786"
             ],
             [
              0.5555555555555556,
              "#d8576b"
             ],
             [
              0.6666666666666666,
              "#ed7953"
             ],
             [
              0.7777777777777778,
              "#fb9f3a"
             ],
             [
              0.8888888888888888,
              "#fdca26"
             ],
             [
              1,
              "#f0f921"
             ]
            ],
            "type": "heatmapgl"
           }
          ],
          "histogram": [
           {
            "marker": {
             "pattern": {
              "fillmode": "overlay",
              "size": 10,
              "solidity": 0.2
             }
            },
            "type": "histogram"
           }
          ],
          "histogram2d": [
           {
            "colorbar": {
             "outlinewidth": 0,
             "ticks": ""
            },
            "colorscale": [
             [
              0,
              "#0d0887"
             ],
             [
              0.1111111111111111,
              "#46039f"
             ],
             [
              0.2222222222222222,
              "#7201a8"
             ],
             [
              0.3333333333333333,
              "#9c179e"
             ],
             [
              0.4444444444444444,
              "#bd3786"
             ],
             [
              0.5555555555555556,
              "#d8576b"
             ],
             [
              0.6666666666666666,
              "#ed7953"
             ],
             [
              0.7777777777777778,
              "#fb9f3a"
             ],
             [
              0.8888888888888888,
              "#fdca26"
             ],
             [
              1,
              "#f0f921"
             ]
            ],
            "type": "histogram2d"
           }
          ],
          "histogram2dcontour": [
           {
            "colorbar": {
             "outlinewidth": 0,
             "ticks": ""
            },
            "colorscale": [
             [
              0,
              "#0d0887"
             ],
             [
              0.1111111111111111,
              "#46039f"
             ],
             [
              0.2222222222222222,
              "#7201a8"
             ],
             [
              0.3333333333333333,
              "#9c179e"
             ],
             [
              0.4444444444444444,
              "#bd3786"
             ],
             [
              0.5555555555555556,
              "#d8576b"
             ],
             [
              0.6666666666666666,
              "#ed7953"
             ],
             [
              0.7777777777777778,
              "#fb9f3a"
             ],
             [
              0.8888888888888888,
              "#fdca26"
             ],
             [
              1,
              "#f0f921"
             ]
            ],
            "type": "histogram2dcontour"
           }
          ],
          "mesh3d": [
           {
            "colorbar": {
             "outlinewidth": 0,
             "ticks": ""
            },
            "type": "mesh3d"
           }
          ],
          "parcoords": [
           {
            "line": {
             "colorbar": {
              "outlinewidth": 0,
              "ticks": ""
             }
            },
            "type": "parcoords"
           }
          ],
          "pie": [
           {
            "automargin": true,
            "type": "pie"
           }
          ],
          "scatter": [
           {
            "fillpattern": {
             "fillmode": "overlay",
             "size": 10,
             "solidity": 0.2
            },
            "type": "scatter"
           }
          ],
          "scatter3d": [
           {
            "line": {
             "colorbar": {
              "outlinewidth": 0,
              "ticks": ""
             }
            },
            "marker": {
             "colorbar": {
              "outlinewidth": 0,
              "ticks": ""
             }
            },
            "type": "scatter3d"
           }
          ],
          "scattercarpet": [
           {
            "marker": {
             "colorbar": {
              "outlinewidth": 0,
              "ticks": ""
             }
            },
            "type": "scattercarpet"
           }
          ],
          "scattergeo": [
           {
            "marker": {
             "colorbar": {
              "outlinewidth": 0,
              "ticks": ""
             }
            },
            "type": "scattergeo"
           }
          ],
          "scattergl": [
           {
            "marker": {
             "colorbar": {
              "outlinewidth": 0,
              "ticks": ""
             }
            },
            "type": "scattergl"
           }
          ],
          "scattermapbox": [
           {
            "marker": {
             "colorbar": {
              "outlinewidth": 0,
              "ticks": ""
             }
            },
            "type": "scattermapbox"
           }
          ],
          "scatterpolar": [
           {
            "marker": {
             "colorbar": {
              "outlinewidth": 0,
              "ticks": ""
             }
            },
            "type": "scatterpolar"
           }
          ],
          "scatterpolargl": [
           {
            "marker": {
             "colorbar": {
              "outlinewidth": 0,
              "ticks": ""
             }
            },
            "type": "scatterpolargl"
           }
          ],
          "scatterternary": [
           {
            "marker": {
             "colorbar": {
              "outlinewidth": 0,
              "ticks": ""
             }
            },
            "type": "scatterternary"
           }
          ],
          "surface": [
           {
            "colorbar": {
             "outlinewidth": 0,
             "ticks": ""
            },
            "colorscale": [
             [
              0,
              "#0d0887"
             ],
             [
              0.1111111111111111,
              "#46039f"
             ],
             [
              0.2222222222222222,
              "#7201a8"
             ],
             [
              0.3333333333333333,
              "#9c179e"
             ],
             [
              0.4444444444444444,
              "#bd3786"
             ],
             [
              0.5555555555555556,
              "#d8576b"
             ],
             [
              0.6666666666666666,
              "#ed7953"
             ],
             [
              0.7777777777777778,
              "#fb9f3a"
             ],
             [
              0.8888888888888888,
              "#fdca26"
             ],
             [
              1,
              "#f0f921"
             ]
            ],
            "type": "surface"
           }
          ],
          "table": [
           {
            "cells": {
             "fill": {
              "color": "#EBF0F8"
             },
             "line": {
              "color": "white"
             }
            },
            "header": {
             "fill": {
              "color": "#C8D4E3"
             },
             "line": {
              "color": "white"
             }
            },
            "type": "table"
           }
          ]
         },
         "layout": {
          "annotationdefaults": {
           "arrowcolor": "#2a3f5f",
           "arrowhead": 0,
           "arrowwidth": 1
          },
          "autotypenumbers": "strict",
          "coloraxis": {
           "colorbar": {
            "outlinewidth": 0,
            "ticks": ""
           }
          },
          "colorscale": {
           "diverging": [
            [
             0,
             "#8e0152"
            ],
            [
             0.1,
             "#c51b7d"
            ],
            [
             0.2,
             "#de77ae"
            ],
            [
             0.3,
             "#f1b6da"
            ],
            [
             0.4,
             "#fde0ef"
            ],
            [
             0.5,
             "#f7f7f7"
            ],
            [
             0.6,
             "#e6f5d0"
            ],
            [
             0.7,
             "#b8e186"
            ],
            [
             0.8,
             "#7fbc41"
            ],
            [
             0.9,
             "#4d9221"
            ],
            [
             1,
             "#276419"
            ]
           ],
           "sequential": [
            [
             0,
             "#0d0887"
            ],
            [
             0.1111111111111111,
             "#46039f"
            ],
            [
             0.2222222222222222,
             "#7201a8"
            ],
            [
             0.3333333333333333,
             "#9c179e"
            ],
            [
             0.4444444444444444,
             "#bd3786"
            ],
            [
             0.5555555555555556,
             "#d8576b"
            ],
            [
             0.6666666666666666,
             "#ed7953"
            ],
            [
             0.7777777777777778,
             "#fb9f3a"
            ],
            [
             0.8888888888888888,
             "#fdca26"
            ],
            [
             1,
             "#f0f921"
            ]
           ],
           "sequentialminus": [
            [
             0,
             "#0d0887"
            ],
            [
             0.1111111111111111,
             "#46039f"
            ],
            [
             0.2222222222222222,
             "#7201a8"
            ],
            [
             0.3333333333333333,
             "#9c179e"
            ],
            [
             0.4444444444444444,
             "#bd3786"
            ],
            [
             0.5555555555555556,
             "#d8576b"
            ],
            [
             0.6666666666666666,
             "#ed7953"
            ],
            [
             0.7777777777777778,
             "#fb9f3a"
            ],
            [
             0.8888888888888888,
             "#fdca26"
            ],
            [
             1,
             "#f0f921"
            ]
           ]
          },
          "colorway": [
           "#636efa",
           "#EF553B",
           "#00cc96",
           "#ab63fa",
           "#FFA15A",
           "#19d3f3",
           "#FF6692",
           "#B6E880",
           "#FF97FF",
           "#FECB52"
          ],
          "font": {
           "color": "#2a3f5f"
          },
          "geo": {
           "bgcolor": "white",
           "lakecolor": "white",
           "landcolor": "#E5ECF6",
           "showlakes": true,
           "showland": true,
           "subunitcolor": "white"
          },
          "hoverlabel": {
           "align": "left"
          },
          "hovermode": "closest",
          "mapbox": {
           "style": "light"
          },
          "paper_bgcolor": "white",
          "plot_bgcolor": "#E5ECF6",
          "polar": {
           "angularaxis": {
            "gridcolor": "white",
            "linecolor": "white",
            "ticks": ""
           },
           "bgcolor": "#E5ECF6",
           "radialaxis": {
            "gridcolor": "white",
            "linecolor": "white",
            "ticks": ""
           }
          },
          "scene": {
           "xaxis": {
            "backgroundcolor": "#E5ECF6",
            "gridcolor": "white",
            "gridwidth": 2,
            "linecolor": "white",
            "showbackground": true,
            "ticks": "",
            "zerolinecolor": "white"
           },
           "yaxis": {
            "backgroundcolor": "#E5ECF6",
            "gridcolor": "white",
            "gridwidth": 2,
            "linecolor": "white",
            "showbackground": true,
            "ticks": "",
            "zerolinecolor": "white"
           },
           "zaxis": {
            "backgroundcolor": "#E5ECF6",
            "gridcolor": "white",
            "gridwidth": 2,
            "linecolor": "white",
            "showbackground": true,
            "ticks": "",
            "zerolinecolor": "white"
           }
          },
          "shapedefaults": {
           "line": {
            "color": "#2a3f5f"
           }
          },
          "ternary": {
           "aaxis": {
            "gridcolor": "white",
            "linecolor": "white",
            "ticks": ""
           },
           "baxis": {
            "gridcolor": "white",
            "linecolor": "white",
            "ticks": ""
           },
           "bgcolor": "#E5ECF6",
           "caxis": {
            "gridcolor": "white",
            "linecolor": "white",
            "ticks": ""
           }
          },
          "title": {
           "x": 0.05
          },
          "xaxis": {
           "automargin": true,
           "gridcolor": "white",
           "linecolor": "white",
           "ticks": "",
           "title": {
            "standoff": 15
           },
           "zerolinecolor": "white",
           "zerolinewidth": 2
          },
          "yaxis": {
           "automargin": true,
           "gridcolor": "white",
           "linecolor": "white",
           "ticks": "",
           "title": {
            "standoff": 15
           },
           "zerolinecolor": "white",
           "zerolinewidth": 2
          }
         }
        },
        "title": {
         "text": "Average Plain Pizza Slice Prices Over the Years"
        },
        "xaxis": {
         "anchor": "y",
         "autorange": true,
         "domain": [
          0,
          1
         ],
         "range": [
          2013.2327235772357,
          2024.7672764227643
         ],
         "title": {
          "text": "Year"
         },
         "type": "linear"
        },
        "yaxis": {
         "anchor": "x",
         "autorange": true,
         "domain": [
          0,
          1
         ],
         "range": [
          2.1001699029126213,
          4.144830097087379
         ],
         "title": {
          "text": "Average Price"
         },
         "type": "linear"
        }
       }
      },
      "image/png": "[encoded data removed]",
      "text/html": [
       "<div>                            <div id=\"56a768ef-f038-4949-b471-e78e1c6e99ce\" class=\"plotly-graph-div\" style=\"height:525px; width:100%;\"></div>            <script type=\"text/javascript\">                require([\"plotly\"], function(Plotly) {                    window.PLOTLYENV=window.PLOTLYENV || {};                                    if (document.getElementById(\"56a768ef-f038-4949-b471-e78e1c6e99ce\")) {                    Plotly.newPlot(                        \"56a768ef-f038-4949-b471-e78e1c6e99ce\",                        [{\"hovertemplate\":\"Year=%{x}\\u003cbr\\u003eAverage Price=%{y}\\u003cextra\\u003e\\u003c\\u002fextra\\u003e\",\"legendgroup\":\"\",\"marker\":{\"color\":\"#636efa\",\"symbol\":\"circle\"},\"mode\":\"markers\",\"name\":\"\",\"orientation\":\"v\",\"showlegend\":false,\"x\":[2014,2015,2016,2017,2018,2019,2020,2021,2022,2023,2024],\"xaxis\":\"x\",\"y\":[2.375,2.3576923076923078,2.361904761904762,2.245,2.3428571428571425,2.2934782608695654,2.287037037037037,2.839298245614035,2.959607843137255,3.144230769230769,4.0],\"yaxis\":\"y\",\"type\":\"scatter\"}],                        {\"template\":{\"data\":{\"histogram2dcontour\":[{\"type\":\"histogram2dcontour\",\"colorbar\":{\"outlinewidth\":0,\"ticks\":\"\"},\"colorscale\":[[0.0,\"#0d0887\"],[0.1111111111111111,\"#46039f\"],[0.2222222222222222,\"#7201a8\"],[0.3333333333333333,\"#9c179e\"],[0.4444444444444444,\"#bd3786\"],[0.5555555555555556,\"#d8576b\"],[0.6666666666666666,\"#ed7953\"],[0.7777777777777778,\"#fb9f3a\"],[0.8888888888888888,\"#fdca26\"],[1.0,\"#f0f921\"]]}],\"choropleth\":[{\"type\":\"choropleth\",\"colorbar\":{\"outlinewidth\":0,\"ticks\":\"\"}}],\"histogram2d\":[{\"type\":\"histogram2d\",\"colorbar\":{\"outlinewidth\":0,\"ticks\":\"\"},\"colorscale\":[[0.0,\"#0d0887\"],[0.1111111111111111,\"#46039f\"],[0.2222222222222222,\"#7201a8\"],[0.3333333333333333,\"#9c179e\"],[0.4444444444444444,\"#bd3786\"],[0.5555555555555556,\"#d8576b\"],[0.6666666666666666,\"#ed7953\"],[0.7777777777777778,\"#fb9f3a\"],[0.8888888888888888,\"#fdca26\"],[1.0,\"#f0f921\"]]}],\"heatmap\":[{\"type\":\"heatmap\",\"colorbar\":{\"outlinewidth\":0,\"ticks\":\"\"},\"colorscale\":[[0.0,\"#0d0887\"],[0.1111111111111111,\"#46039f\"],[0.2222222222222222,\"#7201a8\"],[0.3333333333333333,\"#9c179e\"],[0.4444444444444444,\"#bd3786\"],[0.5555555555555556,\"#d8576b\"],[0.6666666666666666,\"#ed7953\"],[0.7777777777777778,\"#fb9f3a\"],[0.8888888888888888,\"#fdca26\"],[1.0,\"#f0f921\"]]}],\"heatmapgl\":[{\"type\":\"heatmapgl\",\"colorbar\":{\"outlinewidth\":0,\"ticks\":\"\"},\"colorscale\":[[0.0,\"#0d0887\"],[0.1111111111111111,\"#46039f\"],[0.2222222222222222,\"#7201a8\"],[0.3333333333333333,\"#9c179e\"],[0.4444444444444444,\"#bd3786\"],[0.5555555555555556,\"#d8576b\"],[0.6666666666666666,\"#ed7953\"],[0.7777777777777778,\"#fb9f3a\"],[0.8888888888888888,\"#fdca26\"],[1.0,\"#f0f921\"]]}],\"contourcarpet\":[{\"type\":\"contourcarpet\",\"colorbar\":{\"outlinewidth\":0,\"ticks\":\"\"}}],\"contour\":[{\"type\":\"contour\",\"colorbar\":{\"outlinewidth\":0,\"ticks\":\"\"},\"colorscale\":[[0.0,\"#0d0887\"],[0.1111111111111111,\"#46039f\"],[0.2222222222222222,\"#7201a8\"],[0.3333333333333333,\"#9c179e\"],[0.4444444444444444,\"#bd3786\"],[0.5555555555555556,\"#d8576b\"],[0.6666666666666666,\"#ed7953\"],[0.7777777777777778,\"#fb9f3a\"],[0.8888888888888888,\"#fdca26\"],[1.0,\"#f0f921\"]]}],\"surface\":[{\"type\":\"surface\",\"colorbar\":{\"outlinewidth\":0,\"ticks\":\"\"},\"colorscale\":[[0.0,\"#0d0887\"],[0.1111111111111111,\"#46039f\"],[0.2222222222222222,\"#7201a8\"],[0.3333333333333333,\"#9c179e\"],[0.4444444444444444,\"#bd3786\"],[0.5555555555555556,\"#d8576b\"],[0.6666666666666666,\"#ed7953\"],[0.7777777777777778,\"#fb9f3a\"],[0.8888888888888888,\"#fdca26\"],[1.0,\"#f0f921\"]]}],\"mesh3d\":[{\"type\":\"mesh3d\",\"colorbar\":{\"outlinewidth\":0,\"ticks\":\"\"}}],\"scatter\":[{\"fillpattern\":{\"fillmode\":\"overlay\",\"size\":10,\"solidity\":0.2},\"type\":\"scatter\"}],\"parcoords\":[{\"type\":\"parcoords\",\"line\":{\"colorbar\":{\"outlinewidth\":0,\"ticks\":\"\"}}}],\"scatterpolargl\":[{\"type\":\"scatterpolargl\",\"marker\":{\"colorbar\":{\"outlinewidth\":0,\"ticks\":\"\"}}}],\"bar\":[{\"error_x\":{\"color\":\"#2a3f5f\"},\"error_y\":{\"color\":\"#2a3f5f\"},\"marker\":{\"line\":{\"color\":\"#E5ECF6\",\"width\":0.5},\"pattern\":{\"fillmode\":\"overlay\",\"size\":10,\"solidity\":0.2}},\"type\":\"bar\"}],\"scattergeo\":[{\"type\":\"scattergeo\",\"marker\":{\"colorbar\":{\"outlinewidth\":0,\"ticks\":\"\"}}}],\"scatterpolar\":[{\"type\":\"scatterpolar\",\"marker\":{\"colorbar\":{\"outlinewidth\":0,\"ticks\":\"\"}}}],\"histogram\":[{\"marker\":{\"pattern\":{\"fillmode\":\"overlay\",\"size\":10,\"solidity\":0.2}},\"type\":\"histogram\"}],\"scattergl\":[{\"type\":\"scattergl\",\"marker\":{\"colorbar\":{\"outlinewidth\":0,\"ticks\":\"\"}}}],\"scatter3d\":[{\"type\":\"scatter3d\",\"line\":{\"colorbar\":{\"outlinewidth\":0,\"ticks\":\"\"}},\"marker\":{\"colorbar\":{\"outlinewidth\":0,\"ticks\":\"\"}}}],\"scattermapbox\":[{\"type\":\"scattermapbox\",\"marker\":{\"colorbar\":{\"outlinewidth\":0,\"ticks\":\"\"}}}],\"scatterternary\":[{\"type\":\"scatterternary\",\"marker\":{\"colorbar\":{\"outlinewidth\":0,\"ticks\":\"\"}}}],\"scattercarpet\":[{\"type\":\"scattercarpet\",\"marker\":{\"colorbar\":{\"outlinewidth\":0,\"ticks\":\"\"}}}],\"carpet\":[{\"aaxis\":{\"endlinecolor\":\"#2a3f5f\",\"gridcolor\":\"white\",\"linecolor\":\"white\",\"minorgridcolor\":\"white\",\"startlinecolor\":\"#2a3f5f\"},\"baxis\":{\"endlinecolor\":\"#2a3f5f\",\"gridcolor\":\"white\",\"linecolor\":\"white\",\"minorgridcolor\":\"white\",\"startlinecolor\":\"#2a3f5f\"},\"type\":\"carpet\"}],\"table\":[{\"cells\":{\"fill\":{\"color\":\"#EBF0F8\"},\"line\":{\"color\":\"white\"}},\"header\":{\"fill\":{\"color\":\"#C8D4E3\"},\"line\":{\"color\":\"white\"}},\"type\":\"table\"}],\"barpolar\":[{\"marker\":{\"line\":{\"color\":\"#E5ECF6\",\"width\":0.5},\"pattern\":{\"fillmode\":\"overlay\",\"size\":10,\"solidity\":0.2}},\"type\":\"barpolar\"}],\"pie\":[{\"automargin\":true,\"type\":\"pie\"}]},\"layout\":{\"autotypenumbers\":\"strict\",\"colorway\":[\"#636efa\",\"#EF553B\",\"#00cc96\",\"#ab63fa\",\"#FFA15A\",\"#19d3f3\",\"#FF6692\",\"#B6E880\",\"#FF97FF\",\"#FECB52\"],\"font\":{\"color\":\"#2a3f5f\"},\"hovermode\":\"closest\",\"hoverlabel\":{\"align\":\"left\"},\"paper_bgcolor\":\"white\",\"plot_bgcolor\":\"#E5ECF6\",\"polar\":{\"bgcolor\":\"#E5ECF6\",\"angularaxis\":{\"gridcolor\":\"white\",\"linecolor\":\"white\",\"ticks\":\"\"},\"radialaxis\":{\"gridcolor\":\"white\",\"linecolor\":\"white\",\"ticks\":\"\"}},\"ternary\":{\"bgcolor\":\"#E5ECF6\",\"aaxis\":{\"gridcolor\":\"white\",\"linecolor\":\"white\",\"ticks\":\"\"},\"baxis\":{\"gridcolor\":\"white\",\"linecolor\":\"white\",\"ticks\":\"\"},\"caxis\":{\"gridcolor\":\"white\",\"linecolor\":\"white\",\"ticks\":\"\"}},\"coloraxis\":{\"colorbar\":{\"outlinewidth\":0,\"ticks\":\"\"}},\"colorscale\":{\"sequential\":[[0.0,\"#0d0887\"],[0.1111111111111111,\"#46039f\"],[0.2222222222222222,\"#7201a8\"],[0.3333333333333333,\"#9c179e\"],[0.4444444444444444,\"#bd3786\"],[0.5555555555555556,\"#d8576b\"],[0.6666666666666666,\"#ed7953\"],[0.7777777777777778,\"#fb9f3a\"],[0.8888888888888888,\"#fdca26\"],[1.0,\"#f0f921\"]],\"sequentialminus\":[[0.0,\"#0d0887\"],[0.1111111111111111,\"#46039f\"],[0.2222222222222222,\"#7201a8\"],[0.3333333333333333,\"#9c179e\"],[0.4444444444444444,\"#bd3786\"],[0.5555555555555556,\"#d8576b\"],[0.6666666666666666,\"#ed7953\"],[0.7777777777777778,\"#fb9f3a\"],[0.8888888888888888,\"#fdca26\"],[1.0,\"#f0f921\"]],\"diverging\":[[0,\"#8e0152\"],[0.1,\"#c51b7d\"],[0.2,\"#de77ae\"],[0.3,\"#f1b6da\"],[0.4,\"#fde0ef\"],[0.5,\"#f7f7f7\"],[0.6,\"#e6f5d0\"],[0.7,\"#b8e186\"],[0.8,\"#7fbc41\"],[0.9,\"#4d9221\"],[1,\"#276419\"]]},\"xaxis\":{\"gridcolor\":\"white\",\"linecolor\":\"white\",\"ticks\":\"\",\"title\":{\"standoff\":15},\"zerolinecolor\":\"white\",\"automargin\":true,\"zerolinewidth\":2},\"yaxis\":{\"gridcolor\":\"white\",\"linecolor\":\"white\",\"ticks\":\"\",\"title\":{\"standoff\":15},\"zerolinecolor\":\"white\",\"automargin\":true,\"zerolinewidth\":2},\"scene\":{\"xaxis\":{\"backgroundcolor\":\"#E5ECF6\",\"gridcolor\":\"white\",\"linecolor\":\"white\",\"showbackground\":true,\"ticks\":\"\",\"zerolinecolor\":\"white\",\"gridwidth\":2},\"yaxis\":{\"backgroundcolor\":\"#E5ECF6\",\"gridcolor\":\"white\",\"linecolor\":\"white\",\"showbackground\":true,\"ticks\":\"\",\"zerolinecolor\":\"white\",\"gridwidth\":2},\"zaxis\":{\"backgroundcolor\":\"#E5ECF6\",\"gridcolor\":\"white\",\"linecolor\":\"white\",\"showbackground\":true,\"ticks\":\"\",\"zerolinecolor\":\"white\",\"gridwidth\":2}},\"shapedefaults\":{\"line\":{\"color\":\"#2a3f5f\"}},\"annotationdefaults\":{\"arrowcolor\":\"#2a3f5f\",\"arrowhead\":0,\"arrowwidth\":1},\"geo\":{\"bgcolor\":\"white\",\"landcolor\":\"#E5ECF6\",\"subunitcolor\":\"white\",\"showland\":true,\"showlakes\":true,\"lakecolor\":\"white\"},\"title\":{\"x\":0.05},\"mapbox\":{\"style\":\"light\"}}},\"xaxis\":{\"anchor\":\"y\",\"domain\":[0.0,1.0],\"title\":{\"text\":\"Year\"}},\"yaxis\":{\"anchor\":\"x\",\"domain\":[0.0,1.0],\"title\":{\"text\":\"Average Price\"}},\"legend\":{\"tracegroupgap\":0},\"title\":{\"text\":\"Average Plain Pizza Slice Prices Over the Years\"}},                        {\"responsive\": true}                    ).then(function(){\n",
       "                            \n",
       "var gd = document.getElementById('56a768ef-f038-4949-b471-e78e1c6e99ce');\n",
       "var x = new MutationObserver(function (mutations, observer) {{\n",
       "        var display = window.getComputedStyle(gd).display;\n",
       "        if (!display || display === 'none') {{\n",
       "            console.log([gd, 'removed!']);\n",
       "            Plotly.purge(gd);\n",
       "            observer.disconnect();\n",
       "        }}\n",
       "}});\n",
       "\n",
       "// Listen for the removal of the full notebook cells\n",
       "var notebookContainer = gd.closest('#notebook-container');\n",
       "if (notebookContainer) {{\n",
       "    x.observe(notebookContainer, {childList: true});\n",
       "}}\n",
       "\n",
       "// Listen for the clearing of the current output cell\n",
       "var outputEl = gd.closest('.output');\n",
       "if (outputEl) {{\n",
       "    x.observe(outputEl, {childList: true});\n",
       "}}\n",
       "\n",
       "                        })                };                });            </script>        </div>"
      ]
     },
     "metadata": {},
     "output_type": "display_data"
    }
   ],
   "source": [
    "#| label: scatter_plot\n",
    "# Assuming you have a DataFrame named nyp\n",
    "# Replace 'nyp' with your actual DataFrame\n",
    "\n",
    "# Filter the DataFrame for 'Plain' style\n",
    "plain_pizza_nyp = nyp[nyp['Style'] == 'Plain']\n",
    "\n",
    "# Calculate the average price for each year\n",
    "average_prices = plain_pizza_nyp.groupby('Year')['Price as number'].mean().reset_index()\n",
    "\n",
    "# Create a scatter plot using Plotly Express\n",
    "fig = px.scatter(\n",
    "    average_prices,\n",
    "    x='Year',\n",
    "    y='Price as number',\n",
    "    labels={'Price as number': 'Average Price'},\n",
    "    title='Average Plain Pizza Slice Prices Over the Years'\n",
    ")\n",
    "\n",
    "# Show the plot\n",
    "fig.show()\n"
   ]
  },
  {
   "cell_type": "code",
   "execution_count": null,
   "id": "f055036c-ff53-4604-b2f1-a4f1f3d6c078",
   "metadata": {},
   "outputs": [],
   "source": []
  }
 ],
 "metadata": {
  "kernelspec": {
   "display_name": "Python 3 (ipykernel)",
   "language": "python",
   "name": "python3"
  },
  "language_info": {
   "codemirror_mode": {
    "name": "ipython",
    "version": 3
   },
   "file_extension": ".py",
   "mimetype": "text/x-python",
   "name": "python",
   "nbconvert_exporter": "python",
   "pygments_lexer": "ipython3",
   "version": "3.12.1"
  }
 },
 "nbformat": 4,
 "nbformat_minor": 5
}
